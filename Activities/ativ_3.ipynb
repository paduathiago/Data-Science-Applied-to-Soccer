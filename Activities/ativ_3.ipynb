{
 "cells": [
  {
   "cell_type": "markdown",
   "metadata": {
    "collapsed": false
   },
   "source": [
    "# [CDAF] Atividade 3"
   ]
  },
  {
   "attachments": {},
   "cell_type": "markdown",
   "metadata": {
    "collapsed": false
   },
   "source": [
    "## Nome: Thiago Pádua de Carvalho\n",
    "\n",
    "## Matrícula: 2020007066"
   ]
  },
  {
   "cell_type": "markdown",
   "metadata": {
    "collapsed": false
   },
   "source": [
    "## Referências\n",
    "- [1] https://figshare.com/collections/Soccer_match_event_dataset/4415000\n",
    "- [2] https://socceraction.readthedocs.io/en/latest/api/generated/socceraction.spadl.wyscout.convert_to_actions.html\n",
    "- [3] https://github.com/TomDecroos/matplotsoccer\n",
    "- [4] https://soccermatics.readthedocs.io/en/latest/gallery/lesson1/plot_PlottingShots.html\n",
    "- [5] https://soccermatics.readthedocs.io/en/latest/gallery/lesson1/plot_PlottingPasses.html\n",
    "- [6] https://soccermatics.readthedocs.io/en/latest/gallery/lesson1/plot_PassNetworks.html"
   ]
  },
  {
   "cell_type": "markdown",
   "metadata": {
    "collapsed": false
   },
   "source": [
    "## Questão 1\n",
    "- Baixe o dataset 'Wyscout Europa Top 5 2017/2018' em [1].\n",
    "- Escolha uma partida e carregue os dados de eventos em um dataframe do pandas.\n",
    "- Converta os dados de eventos para SPADL [2]."
   ]
  },
  {
   "cell_type": "code",
   "execution_count": 2,
   "metadata": {},
   "outputs": [],
   "source": [
    "import pandas as pd\n",
    "import matplotlib.pyplot as plt\n",
    "import numpy as np\n",
    "\n",
    "from scipy import stats"
   ]
  },
  {
   "attachments": {},
   "cell_type": "markdown",
   "metadata": {},
   "source": [
    "O jogo escolhido é entre Liverpool e Manchester City pela Premier League 2017/2018, ocorrido em 14/01/2018."
   ]
  },
  {
   "cell_type": "code",
   "execution_count": 16,
   "metadata": {},
   "outputs": [
    {
     "data": {
      "text/plain": [
       "2499943"
      ]
     },
     "execution_count": 16,
     "metadata": {},
     "output_type": "execute_result"
    }
   ],
   "source": [
    "matches_england = pd.read_json('../data/matches/matches_England.json')\n",
    "liv_city_df = matches_england[(matches_england['label'] == 'Liverpool - Manchester City, 4 - 3')]\n",
    "liv_city_id = liv_city_df.iloc[0]['wyId']\n",
    "liv_city_id"
   ]
  },
  {
   "cell_type": "code",
   "execution_count": 19,
   "metadata": {
    "collapsed": false
   },
   "outputs": [
    {
     "data": {
      "text/html": [
       "<div>\n",
       "<style scoped>\n",
       "    .dataframe tbody tr th:only-of-type {\n",
       "        vertical-align: middle;\n",
       "    }\n",
       "\n",
       "    .dataframe tbody tr th {\n",
       "        vertical-align: top;\n",
       "    }\n",
       "\n",
       "    .dataframe thead th {\n",
       "        text-align: right;\n",
       "    }\n",
       "</style>\n",
       "<table border=\"1\" class=\"dataframe\">\n",
       "  <thead>\n",
       "    <tr style=\"text-align: right;\">\n",
       "      <th></th>\n",
       "      <th>eventId</th>\n",
       "      <th>subEventName</th>\n",
       "      <th>tags</th>\n",
       "      <th>playerId</th>\n",
       "      <th>positions</th>\n",
       "      <th>matchId</th>\n",
       "      <th>eventName</th>\n",
       "      <th>teamId</th>\n",
       "      <th>matchPeriod</th>\n",
       "      <th>eventSec</th>\n",
       "      <th>subEventId</th>\n",
       "      <th>id</th>\n",
       "    </tr>\n",
       "  </thead>\n",
       "  <tbody>\n",
       "    <tr>\n",
       "      <th>378660</th>\n",
       "      <td>8</td>\n",
       "      <td>Simple pass</td>\n",
       "      <td>[{'id': 1801}]</td>\n",
       "      <td>15808</td>\n",
       "      <td>[{'y': 49, 'x': 49}, {'y': 41, 'x': 31}]</td>\n",
       "      <td>2499943</td>\n",
       "      <td>Pass</td>\n",
       "      <td>1612</td>\n",
       "      <td>1H</td>\n",
       "      <td>2.528085</td>\n",
       "      <td>85</td>\n",
       "      <td>220933014</td>\n",
       "    </tr>\n",
       "    <tr>\n",
       "      <th>378661</th>\n",
       "      <td>8</td>\n",
       "      <td>Simple pass</td>\n",
       "      <td>[{'id': 1801}]</td>\n",
       "      <td>25393</td>\n",
       "      <td>[{'y': 41, 'x': 31}, {'y': 70, 'x': 34}]</td>\n",
       "      <td>2499943</td>\n",
       "      <td>Pass</td>\n",
       "      <td>1612</td>\n",
       "      <td>1H</td>\n",
       "      <td>6.517082</td>\n",
       "      <td>85</td>\n",
       "      <td>220933015</td>\n",
       "    </tr>\n",
       "    <tr>\n",
       "      <th>378662</th>\n",
       "      <td>8</td>\n",
       "      <td>Simple pass</td>\n",
       "      <td>[{'id': 1801}]</td>\n",
       "      <td>14870</td>\n",
       "      <td>[{'y': 70, 'x': 34}, {'y': 41, 'x': 28}]</td>\n",
       "      <td>2499943</td>\n",
       "      <td>Pass</td>\n",
       "      <td>1612</td>\n",
       "      <td>1H</td>\n",
       "      <td>10.732865</td>\n",
       "      <td>85</td>\n",
       "      <td>220933016</td>\n",
       "    </tr>\n",
       "    <tr>\n",
       "      <th>378663</th>\n",
       "      <td>8</td>\n",
       "      <td>Simple pass</td>\n",
       "      <td>[{'id': 1801}]</td>\n",
       "      <td>25393</td>\n",
       "      <td>[{'y': 41, 'x': 28}, {'y': 50, 'x': 7}]</td>\n",
       "      <td>2499943</td>\n",
       "      <td>Pass</td>\n",
       "      <td>1612</td>\n",
       "      <td>1H</td>\n",
       "      <td>14.110714</td>\n",
       "      <td>85</td>\n",
       "      <td>220933017</td>\n",
       "    </tr>\n",
       "    <tr>\n",
       "      <th>378664</th>\n",
       "      <td>8</td>\n",
       "      <td>Launch</td>\n",
       "      <td>[{'id': 1802}]</td>\n",
       "      <td>15175</td>\n",
       "      <td>[{'y': 50, 'x': 7}, {'y': 9, 'x': 61}]</td>\n",
       "      <td>2499943</td>\n",
       "      <td>Pass</td>\n",
       "      <td>1612</td>\n",
       "      <td>1H</td>\n",
       "      <td>16.587550</td>\n",
       "      <td>84</td>\n",
       "      <td>220933018</td>\n",
       "    </tr>\n",
       "    <tr>\n",
       "      <th>...</th>\n",
       "      <td>...</td>\n",
       "      <td>...</td>\n",
       "      <td>...</td>\n",
       "      <td>...</td>\n",
       "      <td>...</td>\n",
       "      <td>...</td>\n",
       "      <td>...</td>\n",
       "      <td>...</td>\n",
       "      <td>...</td>\n",
       "      <td>...</td>\n",
       "      <td>...</td>\n",
       "      <td>...</td>\n",
       "    </tr>\n",
       "    <tr>\n",
       "      <th>380531</th>\n",
       "      <td>3</td>\n",
       "      <td>Free Kick</td>\n",
       "      <td>[{'id': 1801}]</td>\n",
       "      <td>15175</td>\n",
       "      <td>[{'y': 42, 'x': 10}, {'y': 48, 'x': 67}]</td>\n",
       "      <td>2499943</td>\n",
       "      <td>Free Kick</td>\n",
       "      <td>1612</td>\n",
       "      <td>2H</td>\n",
       "      <td>2983.986610</td>\n",
       "      <td>31</td>\n",
       "      <td>220934883</td>\n",
       "    </tr>\n",
       "    <tr>\n",
       "      <th>380532</th>\n",
       "      <td>1</td>\n",
       "      <td>Air duel</td>\n",
       "      <td>[{'id': 701}, {'id': 1802}]</td>\n",
       "      <td>15808</td>\n",
       "      <td>[{'y': 48, 'x': 67}, {'y': 35, 'x': 73}]</td>\n",
       "      <td>2499943</td>\n",
       "      <td>Duel</td>\n",
       "      <td>1612</td>\n",
       "      <td>2H</td>\n",
       "      <td>2988.693400</td>\n",
       "      <td>10</td>\n",
       "      <td>220934885</td>\n",
       "    </tr>\n",
       "    <tr>\n",
       "      <th>380533</th>\n",
       "      <td>1</td>\n",
       "      <td>Air duel</td>\n",
       "      <td>[{'id': 703}, {'id': 1801}]</td>\n",
       "      <td>105339</td>\n",
       "      <td>[{'y': 52, 'x': 33}, {'y': 65, 'x': 27}]</td>\n",
       "      <td>2499943</td>\n",
       "      <td>Duel</td>\n",
       "      <td>1625</td>\n",
       "      <td>2H</td>\n",
       "      <td>2988.734839</td>\n",
       "      <td>10</td>\n",
       "      <td>220934931</td>\n",
       "    </tr>\n",
       "    <tr>\n",
       "      <th>380534</th>\n",
       "      <td>8</td>\n",
       "      <td>Launch</td>\n",
       "      <td>[{'id': 1802}]</td>\n",
       "      <td>9380</td>\n",
       "      <td>[{'y': 65, 'x': 27}, {'y': 55, 'x': 46}]</td>\n",
       "      <td>2499943</td>\n",
       "      <td>Pass</td>\n",
       "      <td>1625</td>\n",
       "      <td>2H</td>\n",
       "      <td>2990.658798</td>\n",
       "      <td>84</td>\n",
       "      <td>220934933</td>\n",
       "    </tr>\n",
       "    <tr>\n",
       "      <th>380535</th>\n",
       "      <td>8</td>\n",
       "      <td>Head pass</td>\n",
       "      <td>[{'id': 1802}]</td>\n",
       "      <td>8319</td>\n",
       "      <td>[{'y': 45, 'x': 54}, {'y': 0, 'x': 0}]</td>\n",
       "      <td>2499943</td>\n",
       "      <td>Pass</td>\n",
       "      <td>1612</td>\n",
       "      <td>2H</td>\n",
       "      <td>2993.679122</td>\n",
       "      <td>82</td>\n",
       "      <td>220934887</td>\n",
       "    </tr>\n",
       "  </tbody>\n",
       "</table>\n",
       "<p>1876 rows × 12 columns</p>\n",
       "</div>"
      ],
      "text/plain": [
       "        eventId subEventName                         tags  playerId   \n",
       "378660        8  Simple pass               [{'id': 1801}]     15808  \\\n",
       "378661        8  Simple pass               [{'id': 1801}]     25393   \n",
       "378662        8  Simple pass               [{'id': 1801}]     14870   \n",
       "378663        8  Simple pass               [{'id': 1801}]     25393   \n",
       "378664        8       Launch               [{'id': 1802}]     15175   \n",
       "...         ...          ...                          ...       ...   \n",
       "380531        3    Free Kick               [{'id': 1801}]     15175   \n",
       "380532        1     Air duel  [{'id': 701}, {'id': 1802}]     15808   \n",
       "380533        1     Air duel  [{'id': 703}, {'id': 1801}]    105339   \n",
       "380534        8       Launch               [{'id': 1802}]      9380   \n",
       "380535        8    Head pass               [{'id': 1802}]      8319   \n",
       "\n",
       "                                       positions  matchId  eventName  teamId   \n",
       "378660  [{'y': 49, 'x': 49}, {'y': 41, 'x': 31}]  2499943       Pass    1612  \\\n",
       "378661  [{'y': 41, 'x': 31}, {'y': 70, 'x': 34}]  2499943       Pass    1612   \n",
       "378662  [{'y': 70, 'x': 34}, {'y': 41, 'x': 28}]  2499943       Pass    1612   \n",
       "378663   [{'y': 41, 'x': 28}, {'y': 50, 'x': 7}]  2499943       Pass    1612   \n",
       "378664    [{'y': 50, 'x': 7}, {'y': 9, 'x': 61}]  2499943       Pass    1612   \n",
       "...                                          ...      ...        ...     ...   \n",
       "380531  [{'y': 42, 'x': 10}, {'y': 48, 'x': 67}]  2499943  Free Kick    1612   \n",
       "380532  [{'y': 48, 'x': 67}, {'y': 35, 'x': 73}]  2499943       Duel    1612   \n",
       "380533  [{'y': 52, 'x': 33}, {'y': 65, 'x': 27}]  2499943       Duel    1625   \n",
       "380534  [{'y': 65, 'x': 27}, {'y': 55, 'x': 46}]  2499943       Pass    1625   \n",
       "380535    [{'y': 45, 'x': 54}, {'y': 0, 'x': 0}]  2499943       Pass    1612   \n",
       "\n",
       "       matchPeriod     eventSec subEventId         id  \n",
       "378660          1H     2.528085         85  220933014  \n",
       "378661          1H     6.517082         85  220933015  \n",
       "378662          1H    10.732865         85  220933016  \n",
       "378663          1H    14.110714         85  220933017  \n",
       "378664          1H    16.587550         84  220933018  \n",
       "...            ...          ...        ...        ...  \n",
       "380531          2H  2983.986610         31  220934883  \n",
       "380532          2H  2988.693400         10  220934885  \n",
       "380533          2H  2988.734839         10  220934931  \n",
       "380534          2H  2990.658798         84  220934933  \n",
       "380535          2H  2993.679122         82  220934887  \n",
       "\n",
       "[1876 rows x 12 columns]"
      ]
     },
     "execution_count": 19,
     "metadata": {},
     "output_type": "execute_result"
    }
   ],
   "source": [
    "events_england = pd.read_json('../data/events/events_England.json')\n",
    "liv_city_events = events_england[(events_england['matchId'] == liv_city_id)]\n",
    "liv_city_events\n"
   ]
  },
  {
   "cell_type": "markdown",
   "metadata": {
    "collapsed": false
   },
   "source": [
    "## Questão 2\n",
    "- Visualize uma sequência de 5 ações da partida usando matplotsoccer.actions [3]."
   ]
  },
  {
   "cell_type": "code",
   "execution_count": null,
   "metadata": {
    "collapsed": false
   },
   "outputs": [],
   "source": []
  },
  {
   "cell_type": "markdown",
   "metadata": {
    "collapsed": false
   },
   "source": [
    "## Questão 3\n",
    "- Visualize os chutes da partida, desenvolvendo seu código em cima do dataframe SPADL. Faça um plot para cada time. Adapte de [4].\n",
    "- Qual time as melhores chances da partida? Por quê?"
   ]
  },
  {
   "cell_type": "code",
   "execution_count": null,
   "metadata": {
    "collapsed": false
   },
   "outputs": [],
   "source": []
  },
  {
   "cell_type": "markdown",
   "metadata": {
    "collapsed": false
   },
   "source": [
    "## Questão 4\n",
    "- Escolha um jogador da partida que você escolheu.\n",
    "- Faça um heatmap de todas ações dele [3].\n",
    "- Faça um heatmap de todas as ações ofensivas dele [3].\n",
    "- Faça um heatmap de todas as ações defensivas dele [3].\n",
    "- O que você pode inferir sobre o comportamento do jogador? O comportamento dele varia muito do ataque para a defesa?"
   ]
  },
  {
   "cell_type": "code",
   "execution_count": null,
   "metadata": {
    "collapsed": false
   },
   "outputs": [],
   "source": []
  },
  {
   "cell_type": "markdown",
   "metadata": {
    "collapsed": false
   },
   "source": [
    "## Questão 5\n",
    "- Para o mesmo jogador, crie um mapa de passes com os passes que ele efetuou na partida, desenvolvendo seu código em cima do dataframe SPADL. Adapte de [5].\n",
    "- O mapa de passes trouxe alguma informação nova sobre o jogador?"
   ]
  },
  {
   "cell_type": "code",
   "execution_count": null,
   "metadata": {
    "collapsed": false
   },
   "outputs": [],
   "source": []
  },
  {
   "cell_type": "markdown",
   "metadata": {
    "collapsed": false
   },
   "source": [
    "## Questão 6\n",
    "- Crie uma rede de passes de cada uma das equipes, desenvolvendo seu código em cima do dataframe SPADL. Adapte de [6].\n",
    "- O que você consegue inferir sobre a formação de cada equipe? Quais jogadores de cada equipe possuem o maior grau (tem maior soma do peso das arestas)?"
   ]
  },
  {
   "cell_type": "code",
   "execution_count": null,
   "metadata": {
    "collapsed": false
   },
   "outputs": [],
   "source": []
  }
 ],
 "metadata": {
  "kernelspec": {
   "display_name": "Python 3",
   "language": "python",
   "name": "python3"
  },
  "language_info": {
   "codemirror_mode": {
    "name": "ipython",
    "version": 3
   },
   "file_extension": ".py",
   "mimetype": "text/x-python",
   "name": "python",
   "nbconvert_exporter": "python",
   "pygments_lexer": "ipython3",
   "version": "3.10.6"
  }
 },
 "nbformat": 4,
 "nbformat_minor": 0
}
