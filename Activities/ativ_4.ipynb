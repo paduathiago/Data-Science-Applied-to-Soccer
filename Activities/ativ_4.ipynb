{
 "cells": [
  {
   "cell_type": "markdown",
   "metadata": {
    "collapsed": false
   },
   "source": [
    "# [CDAF] Atividade 4"
   ]
  },
  {
   "attachments": {},
   "cell_type": "markdown",
   "metadata": {
    "collapsed": false
   },
   "source": [
    "## Nome: Thiago Pádua de Carvalho\n",
    "\n",
    "## Matrícula: 2020007066"
   ]
  },
  {
   "cell_type": "markdown",
   "metadata": {
    "collapsed": false
   },
   "source": [
    "## Referências\n",
    "- [1] https://scikit-learn.org/stable/modules/generated/sklearn.linear_model.LogisticRegression.html\n",
    "- [2] https://socceraction.readthedocs.io/en/latest/api/generated/socceraction.xthreat.ExpectedThreat.html#socceraction.xthreat.ExpectedThreat\n",
    "- [3] https://socceraction.readthedocs.io/en/latest/api/generated/socceraction.xthreat.get_successful_move_actions.html#socceraction.xthreat.get_successful_move_actions\n",
    "- [4] https://socceraction.readthedocs.io/en/latest/documentation/valuing_actions/xT.html"
   ]
  },
  {
   "cell_type": "code",
   "execution_count": 60,
   "metadata": {
    "collapsed": false
   },
   "outputs": [],
   "source": [
    "# Importando bibliotecas\n",
    "from tqdm import tqdm\n",
    "import numpy as np\n",
    "import pandas as pd\n",
    "import socceraction.spadl as spd\n",
    "\n",
    "from sklearn.linear_model import LogisticRegression\n",
    "from sklearn.model_selection import train_test_split\n",
    "from socceraction import xthreat as xt"
   ]
  },
  {
   "cell_type": "markdown",
   "metadata": {
    "collapsed": false
   },
   "source": [
    "### LaLiga  p/ SPADL com pré-processamentos"
   ]
  },
  {
   "cell_type": "code",
   "execution_count": 2,
   "metadata": {
    "collapsed": false
   },
   "outputs": [
    {
     "data": {
      "text/html": [
       "<div>\n",
       "<style scoped>\n",
       "    .dataframe tbody tr th:only-of-type {\n",
       "        vertical-align: middle;\n",
       "    }\n",
       "\n",
       "    .dataframe tbody tr th {\n",
       "        vertical-align: top;\n",
       "    }\n",
       "\n",
       "    .dataframe thead th {\n",
       "        text-align: right;\n",
       "    }\n",
       "</style>\n",
       "<table border=\"1\" class=\"dataframe\">\n",
       "  <thead>\n",
       "    <tr style=\"text-align: right;\">\n",
       "      <th></th>\n",
       "      <th>eventId</th>\n",
       "      <th>subEventName</th>\n",
       "      <th>tags</th>\n",
       "      <th>playerId</th>\n",
       "      <th>positions</th>\n",
       "      <th>matchId</th>\n",
       "      <th>eventName</th>\n",
       "      <th>teamId</th>\n",
       "      <th>matchPeriod</th>\n",
       "      <th>eventSec</th>\n",
       "      <th>subEventId</th>\n",
       "      <th>id</th>\n",
       "    </tr>\n",
       "  </thead>\n",
       "  <tbody>\n",
       "    <tr>\n",
       "      <th>0</th>\n",
       "      <td>8</td>\n",
       "      <td>Simple pass</td>\n",
       "      <td>[{'id': 1801}]</td>\n",
       "      <td>3542</td>\n",
       "      <td>[{'y': 61, 'x': 37}, {'y': 50, 'x': 50}]</td>\n",
       "      <td>2565548</td>\n",
       "      <td>Pass</td>\n",
       "      <td>682</td>\n",
       "      <td>1H</td>\n",
       "      <td>2.994582</td>\n",
       "      <td>85</td>\n",
       "      <td>180864419</td>\n",
       "    </tr>\n",
       "    <tr>\n",
       "      <th>1</th>\n",
       "      <td>8</td>\n",
       "      <td>Simple pass</td>\n",
       "      <td>[{'id': 1801}]</td>\n",
       "      <td>274435</td>\n",
       "      <td>[{'y': 50, 'x': 50}, {'y': 30, 'x': 45}]</td>\n",
       "      <td>2565548</td>\n",
       "      <td>Pass</td>\n",
       "      <td>682</td>\n",
       "      <td>1H</td>\n",
       "      <td>3.137020</td>\n",
       "      <td>85</td>\n",
       "      <td>180864418</td>\n",
       "    </tr>\n",
       "    <tr>\n",
       "      <th>2</th>\n",
       "      <td>8</td>\n",
       "      <td>Simple pass</td>\n",
       "      <td>[{'id': 1801}]</td>\n",
       "      <td>364860</td>\n",
       "      <td>[{'y': 30, 'x': 45}, {'y': 12, 'x': 38}]</td>\n",
       "      <td>2565548</td>\n",
       "      <td>Pass</td>\n",
       "      <td>682</td>\n",
       "      <td>1H</td>\n",
       "      <td>6.709668</td>\n",
       "      <td>85</td>\n",
       "      <td>180864420</td>\n",
       "    </tr>\n",
       "    <tr>\n",
       "      <th>3</th>\n",
       "      <td>8</td>\n",
       "      <td>Simple pass</td>\n",
       "      <td>[{'id': 1801}]</td>\n",
       "      <td>3534</td>\n",
       "      <td>[{'y': 12, 'x': 38}, {'y': 69, 'x': 32}]</td>\n",
       "      <td>2565548</td>\n",
       "      <td>Pass</td>\n",
       "      <td>682</td>\n",
       "      <td>1H</td>\n",
       "      <td>8.805497</td>\n",
       "      <td>85</td>\n",
       "      <td>180864421</td>\n",
       "    </tr>\n",
       "    <tr>\n",
       "      <th>4</th>\n",
       "      <td>8</td>\n",
       "      <td>Simple pass</td>\n",
       "      <td>[{'id': 1801}]</td>\n",
       "      <td>3695</td>\n",
       "      <td>[{'y': 69, 'x': 32}, {'y': 37, 'x': 31}]</td>\n",
       "      <td>2565548</td>\n",
       "      <td>Pass</td>\n",
       "      <td>682</td>\n",
       "      <td>1H</td>\n",
       "      <td>14.047492</td>\n",
       "      <td>85</td>\n",
       "      <td>180864422</td>\n",
       "    </tr>\n",
       "    <tr>\n",
       "      <th>...</th>\n",
       "      <td>...</td>\n",
       "      <td>...</td>\n",
       "      <td>...</td>\n",
       "      <td>...</td>\n",
       "      <td>...</td>\n",
       "      <td>...</td>\n",
       "      <td>...</td>\n",
       "      <td>...</td>\n",
       "      <td>...</td>\n",
       "      <td>...</td>\n",
       "      <td>...</td>\n",
       "      <td>...</td>\n",
       "    </tr>\n",
       "    <tr>\n",
       "      <th>628654</th>\n",
       "      <td>8</td>\n",
       "      <td>Simple pass</td>\n",
       "      <td>[{'id': 1801}]</td>\n",
       "      <td>20623</td>\n",
       "      <td>[{'y': 25, 'x': 66}, {'y': 2, 'x': 88}]</td>\n",
       "      <td>2565927</td>\n",
       "      <td>Pass</td>\n",
       "      <td>682</td>\n",
       "      <td>2H</td>\n",
       "      <td>2939.077491</td>\n",
       "      <td>85</td>\n",
       "      <td>253302671</td>\n",
       "    </tr>\n",
       "    <tr>\n",
       "      <th>628655</th>\n",
       "      <td>7</td>\n",
       "      <td>Acceleration</td>\n",
       "      <td>[{'id': 1801}]</td>\n",
       "      <td>122832</td>\n",
       "      <td>[{'y': 2, 'x': 88}, {'y': 21, 'x': 97}]</td>\n",
       "      <td>2565927</td>\n",
       "      <td>Others on the ball</td>\n",
       "      <td>682</td>\n",
       "      <td>2H</td>\n",
       "      <td>2940.515560</td>\n",
       "      <td>70</td>\n",
       "      <td>253302673</td>\n",
       "    </tr>\n",
       "    <tr>\n",
       "      <th>628656</th>\n",
       "      <td>8</td>\n",
       "      <td>Cross</td>\n",
       "      <td>[{'id': 401}, {'id': 1802}]</td>\n",
       "      <td>122832</td>\n",
       "      <td>[{'y': 21, 'x': 97}, {'y': 26, 'x': 92}]</td>\n",
       "      <td>2565927</td>\n",
       "      <td>Pass</td>\n",
       "      <td>682</td>\n",
       "      <td>2H</td>\n",
       "      <td>2942.098761</td>\n",
       "      <td>80</td>\n",
       "      <td>253302674</td>\n",
       "    </tr>\n",
       "    <tr>\n",
       "      <th>628657</th>\n",
       "      <td>8</td>\n",
       "      <td>Simple pass</td>\n",
       "      <td>[{'id': 1801}]</td>\n",
       "      <td>40756</td>\n",
       "      <td>[{'y': 74, 'x': 8}, {'y': 56, 'x': 9}]</td>\n",
       "      <td>2565927</td>\n",
       "      <td>Pass</td>\n",
       "      <td>675</td>\n",
       "      <td>2H</td>\n",
       "      <td>2943.089232</td>\n",
       "      <td>85</td>\n",
       "      <td>253302698</td>\n",
       "    </tr>\n",
       "    <tr>\n",
       "      <th>628658</th>\n",
       "      <td>7</td>\n",
       "      <td>Clearance</td>\n",
       "      <td>[{'id': 1401}, {'id': 1802}]</td>\n",
       "      <td>3306</td>\n",
       "      <td>[{'y': 56, 'x': 9}, {'y': 100, 'x': 100}]</td>\n",
       "      <td>2565927</td>\n",
       "      <td>Others on the ball</td>\n",
       "      <td>675</td>\n",
       "      <td>2H</td>\n",
       "      <td>2943.668846</td>\n",
       "      <td>71</td>\n",
       "      <td>253302695</td>\n",
       "    </tr>\n",
       "  </tbody>\n",
       "</table>\n",
       "<p>628659 rows × 12 columns</p>\n",
       "</div>"
      ],
      "text/plain": [
       "        eventId  subEventName                          tags  playerId  \\\n",
       "0             8   Simple pass                [{'id': 1801}]      3542   \n",
       "1             8   Simple pass                [{'id': 1801}]    274435   \n",
       "2             8   Simple pass                [{'id': 1801}]    364860   \n",
       "3             8   Simple pass                [{'id': 1801}]      3534   \n",
       "4             8   Simple pass                [{'id': 1801}]      3695   \n",
       "...         ...           ...                           ...       ...   \n",
       "628654        8   Simple pass                [{'id': 1801}]     20623   \n",
       "628655        7  Acceleration                [{'id': 1801}]    122832   \n",
       "628656        8         Cross   [{'id': 401}, {'id': 1802}]    122832   \n",
       "628657        8   Simple pass                [{'id': 1801}]     40756   \n",
       "628658        7     Clearance  [{'id': 1401}, {'id': 1802}]      3306   \n",
       "\n",
       "                                        positions  matchId  \\\n",
       "0        [{'y': 61, 'x': 37}, {'y': 50, 'x': 50}]  2565548   \n",
       "1        [{'y': 50, 'x': 50}, {'y': 30, 'x': 45}]  2565548   \n",
       "2        [{'y': 30, 'x': 45}, {'y': 12, 'x': 38}]  2565548   \n",
       "3        [{'y': 12, 'x': 38}, {'y': 69, 'x': 32}]  2565548   \n",
       "4        [{'y': 69, 'x': 32}, {'y': 37, 'x': 31}]  2565548   \n",
       "...                                           ...      ...   \n",
       "628654    [{'y': 25, 'x': 66}, {'y': 2, 'x': 88}]  2565927   \n",
       "628655    [{'y': 2, 'x': 88}, {'y': 21, 'x': 97}]  2565927   \n",
       "628656   [{'y': 21, 'x': 97}, {'y': 26, 'x': 92}]  2565927   \n",
       "628657     [{'y': 74, 'x': 8}, {'y': 56, 'x': 9}]  2565927   \n",
       "628658  [{'y': 56, 'x': 9}, {'y': 100, 'x': 100}]  2565927   \n",
       "\n",
       "                 eventName  teamId matchPeriod     eventSec subEventId  \\\n",
       "0                     Pass     682          1H     2.994582         85   \n",
       "1                     Pass     682          1H     3.137020         85   \n",
       "2                     Pass     682          1H     6.709668         85   \n",
       "3                     Pass     682          1H     8.805497         85   \n",
       "4                     Pass     682          1H    14.047492         85   \n",
       "...                    ...     ...         ...          ...        ...   \n",
       "628654                Pass     682          2H  2939.077491         85   \n",
       "628655  Others on the ball     682          2H  2940.515560         70   \n",
       "628656                Pass     682          2H  2942.098761         80   \n",
       "628657                Pass     675          2H  2943.089232         85   \n",
       "628658  Others on the ball     675          2H  2943.668846         71   \n",
       "\n",
       "               id  \n",
       "0       180864419  \n",
       "1       180864418  \n",
       "2       180864420  \n",
       "3       180864421  \n",
       "4       180864422  \n",
       "...           ...  \n",
       "628654  253302671  \n",
       "628655  253302673  \n",
       "628656  253302674  \n",
       "628657  253302698  \n",
       "628658  253302695  \n",
       "\n",
       "[628659 rows x 12 columns]"
      ]
     },
     "execution_count": 2,
     "metadata": {},
     "output_type": "execute_result"
    }
   ],
   "source": [
    "# carregando os eventos\n",
    "path = f'../data/events/events_Spain.json'\n",
    "events = pd.read_json(path_or_buf=path)\n",
    "events"
   ]
  },
  {
   "cell_type": "code",
   "execution_count": 3,
   "metadata": {
    "collapsed": false
   },
   "outputs": [],
   "source": [
    "# pré processamento em colunas da tabela de eventos para facilitar a conversão p/ SPADL\n",
    "events = events.rename(columns={'id': 'event_id', 'eventId': 'type_id', 'subEventId': 'subtype_id',\n",
    "                                'teamId': 'team_id', 'playerId': 'player_id', 'matchId': 'game_id'})\n",
    "events['milliseconds'] = events['eventSec'] * 1000\n",
    "events['period_id'] = events['matchPeriod'].replace({'1H': 1, '2H': 2})"
   ]
  },
  {
   "cell_type": "code",
   "execution_count": 4,
   "metadata": {
    "collapsed": false
   },
   "outputs": [],
   "source": [
    "# carregando as partidas, pois vamos saber quais times jogam em casa e fora p/ usar como parametro do SPADL\n",
    "path = f'../data/matches/matches_Spain.json'\n",
    "matches = pd.read_json(path_or_buf=path)"
   ]
  },
  {
   "cell_type": "code",
   "execution_count": 5,
   "metadata": {
    "collapsed": false
   },
   "outputs": [
    {
     "name": "stderr",
     "output_type": "stream",
     "text": [
      "100%|██████████| 380/380 [00:00<00:00, 1366.09it/s]\n"
     ]
    }
   ],
   "source": [
    "# as informações dos times de cada partida estão em um dicionário dentro da coluna 'teamsData', então vamos separar essas informações\n",
    "team_matches = []\n",
    "for i in tqdm(range(len(matches))):\n",
    "    match = pd.DataFrame(matches.loc[i, 'teamsData']).T\n",
    "    match['matchId'] = matches.loc[i, 'wyId']\n",
    "    team_matches.append(match)\n",
    "team_matches = pd.concat(team_matches).reset_index(drop=True)"
   ]
  },
  {
   "cell_type": "code",
   "execution_count": 6,
   "metadata": {
    "collapsed": false
   },
   "outputs": [
    {
     "name": "stderr",
     "output_type": "stream",
     "text": [
      "100%|██████████| 380/380 [02:30<00:00,  2.52it/s]\n"
     ]
    }
   ],
   "source": [
    "# fazendo a conversão p/ SPADL, padronizando a direção de jogo da esquerda p/ a direita e adicionando os nomes dos tipos de ações\n",
    "spadl = []\n",
    "game_ids = events.game_id.unique().tolist()\n",
    "for g in tqdm(game_ids):\n",
    "    match_events = events.loc[events.game_id == g]\n",
    "    match_home_id = team_matches.loc[(team_matches.matchId == g) & (team_matches.side == 'home'), 'teamId'].values[0]\n",
    "    match_actions = spd.wyscout.convert_to_actions(events=match_events, home_team_id=match_home_id)\n",
    "    match_actions = spd.play_left_to_right(actions=match_actions, home_team_id=match_home_id)\n",
    "    match_actions = spd.add_names(match_actions)\n",
    "    spadl.append(match_actions)\n",
    "spadl = pd.concat(spadl).reset_index(drop=True)"
   ]
  },
  {
   "cell_type": "code",
   "execution_count": 7,
   "metadata": {
    "collapsed": false
   },
   "outputs": [],
   "source": [
    "# adicionando o nome dos jogadores\n",
    "path = f'../data/players.json'\n",
    "players = pd.read_json(path_or_buf=path)\n",
    "players['player_name'] = players['firstName'] + ' ' + players['lastName']\n",
    "players = players[['wyId', 'player_name']].rename(columns={'wyId': 'player_id'})\n",
    "spadl = spadl.merge(players, on='player_id', how='left')"
   ]
  },
  {
   "cell_type": "markdown",
   "metadata": {
    "collapsed": false
   },
   "source": [
    "## Questão 1\n",
    "- Crei um dataframe \"shots\" à partir do dataframe \"spadl\", contendo apenas os chutes.\n",
    "- Crie 4 colunas no dataframe \"shots\" a serem usadas como features de um modelo de xG.\n",
    "- Justifique a escolha das features."
   ]
  },
  {
   "cell_type": "code",
   "execution_count": 29,
   "metadata": {},
   "outputs": [],
   "source": [
    "def euclidean_distance(point1, point2=[105, 34]):\n",
    "    point1 = np.array(point1)\n",
    "    point2 = np.array(point2)\n",
    "    return np.sqrt(np.sum((point2 - point1) ** 2)) "
   ]
  },
  {
   "cell_type": "code",
   "execution_count": 42,
   "metadata": {},
   "outputs": [],
   "source": [
    "def find_angle_to_goal(point):\n",
    "    point = np.array(point)  # shot coordinates\n",
    "    post1 = np.array([105, 37.66])\n",
    "    post2 = np.array([105, 30.34])\n",
    "\n",
    "    vector1 = post1 - point\n",
    "    vector2 = post2 - point\n",
    "\n",
    "    # Calculates the length of the vectors that goes from the player in the moment of the shot to the posts\n",
    "    vector1_length = euclidean_distance(point, post1)  \n",
    "    vector2_length = euclidean_distance(point, post2)\n",
    "\n",
    "    cos_theta = np.dot(vector1, vector2) / (vector1_length * vector2_length)\n",
    "    \n",
    "    return np.arccos(cos_theta) * 180 / np.pi  # Returns the angle in degrees"
   ]
  },
  {
   "cell_type": "code",
   "execution_count": 50,
   "metadata": {},
   "outputs": [],
   "source": [
    "shots = spadl.loc[spadl.type_name == 'shot'].reset_index(drop=True)\n",
    "shots.drop(columns=['action_id', 'game_id', 'original_event_id', 'bodypart_id', 'type_id'], inplace=True)"
   ]
  },
  {
   "cell_type": "code",
   "execution_count": 59,
   "metadata": {},
   "outputs": [
    {
     "data": {
      "text/html": [
       "<div>\n",
       "<style scoped>\n",
       "    .dataframe tbody tr th:only-of-type {\n",
       "        vertical-align: middle;\n",
       "    }\n",
       "\n",
       "    .dataframe tbody tr th {\n",
       "        vertical-align: top;\n",
       "    }\n",
       "\n",
       "    .dataframe thead th {\n",
       "        text-align: right;\n",
       "    }\n",
       "</style>\n",
       "<table border=\"1\" class=\"dataframe\">\n",
       "  <thead>\n",
       "    <tr style=\"text-align: right;\">\n",
       "      <th></th>\n",
       "      <th>period_id</th>\n",
       "      <th>time_seconds</th>\n",
       "      <th>team_id</th>\n",
       "      <th>player_id</th>\n",
       "      <th>start_x</th>\n",
       "      <th>start_y</th>\n",
       "      <th>end_x</th>\n",
       "      <th>end_y</th>\n",
       "      <th>result_id</th>\n",
       "      <th>type_name</th>\n",
       "      <th>result_name</th>\n",
       "      <th>bodypart_name</th>\n",
       "      <th>player_name</th>\n",
       "      <th>distance</th>\n",
       "      <th>angle</th>\n",
       "      <th>distXangle</th>\n",
       "      <th>squared_distance</th>\n",
       "      <th>goal</th>\n",
       "    </tr>\n",
       "  </thead>\n",
       "  <tbody>\n",
       "    <tr>\n",
       "      <th>7974</th>\n",
       "      <td>2</td>\n",
       "      <td>1776.027412</td>\n",
       "      <td>682</td>\n",
       "      <td>267134</td>\n",
       "      <td>97.65</td>\n",
       "      <td>23.12</td>\n",
       "      <td>97.65</td>\n",
       "      <td>23.12</td>\n",
       "      <td>0</td>\n",
       "      <td>shot</td>\n",
       "      <td>fail</td>\n",
       "      <td>foot</td>\n",
       "      <td>Roger Beyker Mart\\u00ednez Tobinson</td>\n",
       "      <td>13.130000</td>\n",
       "      <td>18.694513</td>\n",
       "      <td>245.458956</td>\n",
       "      <td>172.3969</td>\n",
       "      <td>False</td>\n",
       "    </tr>\n",
       "    <tr>\n",
       "      <th>7975</th>\n",
       "      <td>2</td>\n",
       "      <td>1944.188119</td>\n",
       "      <td>682</td>\n",
       "      <td>267134</td>\n",
       "      <td>94.50</td>\n",
       "      <td>46.24</td>\n",
       "      <td>94.50</td>\n",
       "      <td>46.24</td>\n",
       "      <td>0</td>\n",
       "      <td>shot</td>\n",
       "      <td>fail</td>\n",
       "      <td>foot</td>\n",
       "      <td>Roger Beyker Mart\\u00ednez Tobinson</td>\n",
       "      <td>16.126612</td>\n",
       "      <td>17.306400</td>\n",
       "      <td>279.093590</td>\n",
       "      <td>260.0676</td>\n",
       "      <td>False</td>\n",
       "    </tr>\n",
       "    <tr>\n",
       "      <th>7976</th>\n",
       "      <td>2</td>\n",
       "      <td>2385.837008</td>\n",
       "      <td>682</td>\n",
       "      <td>134174</td>\n",
       "      <td>96.60</td>\n",
       "      <td>51.00</td>\n",
       "      <td>105.00</td>\n",
       "      <td>37.40</td>\n",
       "      <td>1</td>\n",
       "      <td>shot</td>\n",
       "      <td>success</td>\n",
       "      <td>foot</td>\n",
       "      <td>Samuel  Castillejo Azuaga</td>\n",
       "      <td>18.962067</td>\n",
       "      <td>10.072200</td>\n",
       "      <td>190.989743</td>\n",
       "      <td>359.5600</td>\n",
       "      <td>True</td>\n",
       "    </tr>\n",
       "    <tr>\n",
       "      <th>7977</th>\n",
       "      <td>2</td>\n",
       "      <td>2722.835144</td>\n",
       "      <td>675</td>\n",
       "      <td>3321</td>\n",
       "      <td>86.10</td>\n",
       "      <td>47.60</td>\n",
       "      <td>105.00</td>\n",
       "      <td>30.60</td>\n",
       "      <td>0</td>\n",
       "      <td>shot</td>\n",
       "      <td>fail</td>\n",
       "      <td>foot</td>\n",
       "      <td>Karim Benzema</td>\n",
       "      <td>23.284544</td>\n",
       "      <td>14.662142</td>\n",
       "      <td>341.401296</td>\n",
       "      <td>542.1700</td>\n",
       "      <td>False</td>\n",
       "    </tr>\n",
       "    <tr>\n",
       "      <th>7978</th>\n",
       "      <td>2</td>\n",
       "      <td>2857.346465</td>\n",
       "      <td>675</td>\n",
       "      <td>4498</td>\n",
       "      <td>92.40</td>\n",
       "      <td>38.76</td>\n",
       "      <td>105.00</td>\n",
       "      <td>40.80</td>\n",
       "      <td>0</td>\n",
       "      <td>shot</td>\n",
       "      <td>fail</td>\n",
       "      <td>foot</td>\n",
       "      <td>Lucas V\\u00e1zquez Iglesias</td>\n",
       "      <td>13.469135</td>\n",
       "      <td>28.763621</td>\n",
       "      <td>387.421100</td>\n",
       "      <td>181.4176</td>\n",
       "      <td>False</td>\n",
       "    </tr>\n",
       "  </tbody>\n",
       "</table>\n",
       "</div>"
      ],
      "text/plain": [
       "      period_id  time_seconds  team_id  player_id  start_x  start_y   end_x  \\\n",
       "7974          2   1776.027412      682     267134    97.65    23.12   97.65   \n",
       "7975          2   1944.188119      682     267134    94.50    46.24   94.50   \n",
       "7976          2   2385.837008      682     134174    96.60    51.00  105.00   \n",
       "7977          2   2722.835144      675       3321    86.10    47.60  105.00   \n",
       "7978          2   2857.346465      675       4498    92.40    38.76  105.00   \n",
       "\n",
       "      end_y  result_id type_name result_name bodypart_name  \\\n",
       "7974  23.12          0      shot        fail          foot   \n",
       "7975  46.24          0      shot        fail          foot   \n",
       "7976  37.40          1      shot     success          foot   \n",
       "7977  30.60          0      shot        fail          foot   \n",
       "7978  40.80          0      shot        fail          foot   \n",
       "\n",
       "                              player_name   distance      angle  distXangle  \\\n",
       "7974  Roger Beyker Mart\\u00ednez Tobinson  13.130000  18.694513  245.458956   \n",
       "7975  Roger Beyker Mart\\u00ednez Tobinson  16.126612  17.306400  279.093590   \n",
       "7976            Samuel  Castillejo Azuaga  18.962067  10.072200  190.989743   \n",
       "7977                        Karim Benzema  23.284544  14.662142  341.401296   \n",
       "7978          Lucas V\\u00e1zquez Iglesias  13.469135  28.763621  387.421100   \n",
       "\n",
       "      squared_distance   goal  \n",
       "7974          172.3969  False  \n",
       "7975          260.0676  False  \n",
       "7976          359.5600   True  \n",
       "7977          542.1700  False  \n",
       "7978          181.4176  False  "
      ]
     },
     "execution_count": 59,
     "metadata": {},
     "output_type": "execute_result"
    }
   ],
   "source": [
    "shots['distance'] = shots.apply(lambda row: euclidean_distance([row['start_x'], row['start_y']]), axis=1)\n",
    "shots['angle'] = shots.apply(lambda row: find_angle_to_goal([row['start_x'], row['start_y']]), axis=1)\n",
    "shots['distXangle'] = shots['distance'] * shots['angle']\n",
    "shots['squared_distance'] = shots['distance'] ** 2\n",
    "shots.tail()"
   ]
  },
  {
   "attachments": {},
   "cell_type": "markdown",
   "metadata": {},
   "source": [
    "### Justificando Features\n",
    "Para a criação do modelo de xG, foram escolhidas as seguintes features:\n",
    "- **distance**: Distância entre o chute e o gol. \\\n",
    "Esta feature foi escolhida pois - desconsiderando jogadores no caminho - quanto mais próximo do gol, maior a chance de marcar.\n",
    "\n",
    "- **angle**: Ângulo entre o chute e o gol. \\\n",
    "O ângulo entre as traves, visto pelo jogador que chuta, é aproximadamente proporcional à probabilidade de gol.\n",
    "\n",
    "- **distXangle**: Multiplicação da distência pelo ângulo.\n",
    "- **squared_distance**: Quadrado da distência do chute até o gol \\\n",
    "As duas últimas foram escolhidas como modo de evitar que durante a aplicação de modelos preditivos haja overfitting, isto é, quando o modelo não consegue generalizar e se adequa somente aos dados de treinamento."
   ]
  },
  {
   "cell_type": "markdown",
   "metadata": {
    "collapsed": false
   },
   "source": [
    "## Questão 2\n",
    "- Crie uma coluna numérica binária \"goal\" no dataframe \"shots\" indicando se o chute resultou em gol ou não.\n",
    "- Use regressão logística [1] p/ treinar (.fit(X_train, y_train)) um modelo de xG usando as features criadas na questão 1.\n",
    "- Use 70% dos dados para treino e 30% para teste.\n",
    "- Reporte a acurácia do modelo para os conjuntos de treino (.score(X_train, y_train)) e teste (.score(X_test, y_test))."
   ]
  },
  {
   "cell_type": "code",
   "execution_count": 65,
   "metadata": {
    "collapsed": false
   },
   "outputs": [
    {
     "data": {
      "text/plain": [
       "array([[-1.88073206e-01,  1.03294615e-02, -9.63109573e-05,\n",
       "         1.82462434e-03]])"
      ]
     },
     "execution_count": 65,
     "metadata": {},
     "output_type": "execute_result"
    }
   ],
   "source": [
    "shots['goal'] = shots['result_id'].isin([1])\n",
    "train, test = train_test_split(shots, test_size=0.3, random_state=42)\n",
    "\n",
    "model = LogisticRegression()\n",
    "model.fit(train[['distance', 'angle', 'distXangle', 'squared_distance']], train['goal']).coef_"
   ]
  },
  {
   "cell_type": "code",
   "execution_count": 64,
   "metadata": {},
   "outputs": [
    {
     "name": "stdout",
     "output_type": "stream",
     "text": [
      "A precisão média observada foi de 0.89\n"
     ]
    }
   ],
   "source": [
    "score = model.score(test[['distance', 'angle', 'distXangle', 'squared_distance']], test['goal'])\n",
    "print(f\"A precisão média observada foi de {score:.2f}\")"
   ]
  },
  {
   "cell_type": "markdown",
   "metadata": {
    "collapsed": false
   },
   "source": [
    "## Questão 3\n",
    "- Use o modelo treinado na questão 2 p/ prever a probabilidade de gol de todos os chutes do dataframe \"shots\". Reporte essas probabilidades no dataframe \"shots\" em uma coluna \"xG\".\n",
    "- Agrupe o dataframe \"shots\" por \"player_name\" e reporte a soma dos \"goal\" e \"xG\".\n",
    "- Reporte os 10 jogadores com maior xG.\n",
    "- Reporte os 10 jogadores com maior diferença de Gols e xG."
   ]
  },
  {
   "cell_type": "code",
   "execution_count": null,
   "metadata": {
    "collapsed": false
   },
   "outputs": [],
   "source": []
  },
  {
   "cell_type": "markdown",
   "metadata": {
    "collapsed": false
   },
   "source": [
    "## Questão 4 [4]\n",
    "- Instancie um objeto ExpectedThreat [2] com parâmetros l=25 e w=16.\n",
    "- Faça o fit do modelo ExpectedThreat com o dataframe \"spadl\"."
   ]
  },
  {
   "cell_type": "code",
   "execution_count": null,
   "metadata": {
    "collapsed": false
   },
   "outputs": [],
   "source": []
  },
  {
   "cell_type": "markdown",
   "metadata": {
    "collapsed": false
   },
   "source": [
    "## Questão 5\n",
    "- Crie um dataframe \"prog_actions\" à partir do dataframe \"spadl\", contendo apenas as ações de progressão e que são bem-sucedidas [3].\n",
    "- Use o método rate do objeto ExpectedThreat p/ calcular o valor de cada ação de progressão do dataframe \"prog_actions\", em uma coluna chamada \"action_value\".\n",
    "- Agrupe o dataframe \"prog_actions\" por \"player_name\" e reporte a soma dos \"action_value\".\n",
    "- Reporte os 10 jogadores com maior \"action_value\"."
   ]
  },
  {
   "cell_type": "code",
   "execution_count": null,
   "metadata": {
    "collapsed": false
   },
   "outputs": [],
   "source": []
  }
 ],
 "metadata": {
  "kernelspec": {
   "display_name": "Python 3",
   "language": "python",
   "name": "python3"
  },
  "language_info": {
   "codemirror_mode": {
    "name": "ipython",
    "version": 3
   },
   "file_extension": ".py",
   "mimetype": "text/x-python",
   "name": "python",
   "nbconvert_exporter": "python",
   "pygments_lexer": "ipython3",
   "version": "3.10.6"
  }
 },
 "nbformat": 4,
 "nbformat_minor": 0
}
