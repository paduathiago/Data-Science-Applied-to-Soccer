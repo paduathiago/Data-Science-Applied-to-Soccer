{
 "cells": [
  {
   "cell_type": "markdown",
   "metadata": {
    "collapsed": false
   },
   "source": [
    "# [CDAF] Atividade 5"
   ]
  },
  {
   "attachments": {},
   "cell_type": "markdown",
   "metadata": {},
   "source": [
    "## Nome: Thiago Pádua de Carvalho\n",
    "\n",
    "## Matrícula: 2020007066"
   ]
  },
  {
   "cell_type": "markdown",
   "metadata": {
    "collapsed": false
   },
   "source": [
    "## Objetivos\n",
    "- Nessa atividade, estou entregando a pipeline inteira do VAEP implementada para os dados do Wyscout das Top 5 ligas.\n",
    "- Para cada subtítulo abaixo, vocês devem explicar o que foi feito e à qual seção/subseção/equação do paper \"Actions Speak Louder than Goals: Valuing Actions by Estimating Probabilities\" ela corresponde. Justifique suas respostas.\n",
    "- Além disso, após algumas partes do código haverão perguntas que vocês devem responder, possivelmente explorando minimamente o que já está pronto.\n",
    "- Por fim, vocês devem montar um diagrama do fluxo de funções/tarefas de toda a pipeline do VAEP abaixo. Esse diagrama deve ser enviado como arquivo na submissão do Moodle, para além deste notebook."
   ]
  },
  {
   "cell_type": "markdown",
   "metadata": {
    "collapsed": false
   },
   "source": [
    "## Referências\n",
    "- [1] https://tomdecroos.github.io/reports/kdd19_tomd.pdf\n",
    "- [2] https://socceraction.readthedocs.io/en/latest/api/vaep.html"
   ]
  },
  {
   "cell_type": "markdown",
   "metadata": {
    "collapsed": false
   },
   "source": [
    "### Carregando os dados"
   ]
  },
  {
   "cell_type": "code",
   "execution_count": 1,
   "metadata": {
    "collapsed": false
   },
   "outputs": [],
   "source": [
    "import numpy as np\n",
    "import pandas as pd"
   ]
  },
  {
   "cell_type": "code",
   "execution_count": 2,
   "metadata": {
    "collapsed": false
   },
   "outputs": [],
   "source": [
    "def load_matches(path):\n",
    "    matches = pd.read_json(path_or_buf=path)\n",
    "    # as informações dos times de cada partida estão em um dicionário dentro da coluna 'teamsData', então vamos separar essas informações\n",
    "    team_matches = []\n",
    "    for i in range(len(matches)):\n",
    "        match = pd.DataFrame(matches.loc[i, 'teamsData']).T\n",
    "        match['matchId'] = matches.loc[i, 'wyId']\n",
    "        team_matches.append(match)\n",
    "    team_matches = pd.concat(team_matches).reset_index(drop=True)\n",
    "\n",
    "    return team_matches"
   ]
  },
  {
   "cell_type": "code",
   "execution_count": 3,
   "metadata": {
    "collapsed": false
   },
   "outputs": [],
   "source": [
    "def load_players(path):\n",
    "    players = pd.read_json(path_or_buf=path)\n",
    "    players['player_name'] = players['firstName'] + ' ' + players['lastName']\n",
    "    players = players[['wyId', 'player_name']].rename(columns={'wyId': 'player_id'})\n",
    "\n",
    "    return players"
   ]
  },
  {
   "cell_type": "code",
   "execution_count": 4,
   "metadata": {
    "collapsed": false
   },
   "outputs": [],
   "source": [
    "def load_events(path):\n",
    "    events = pd.read_json(path_or_buf=path)\n",
    "    # pré processamento em colunas da tabela de eventos para facilitar a conversão p/ SPADL\n",
    "    events = events.rename(columns={\n",
    "        'id': 'event_id',\n",
    "        'eventId': 'type_id',\n",
    "        'subEventId': 'subtype_id',\n",
    "        'teamId': 'team_id',\n",
    "        'playerId': 'player_id',\n",
    "        'matchId': 'game_id'\n",
    "    })\n",
    "    events['milliseconds'] = events['eventSec'] * 1000\n",
    "    events['period_id'] = events['matchPeriod'].replace({'1H': 1, '2H': 2})\n",
    "\n",
    "    return events"
   ]
  },
  {
   "cell_type": "code",
   "execution_count": 5,
   "metadata": {
    "collapsed": false
   },
   "outputs": [],
   "source": [
    "def load_minutes_played_per_game(path):\n",
    "    minutes = pd.read_json(path_or_buf=path)\n",
    "    minutes = minutes.rename(columns={\n",
    "        'playerId': 'player_id',\n",
    "        'matchId': 'game_id',\n",
    "        'teamId': 'team_id',\n",
    "        'minutesPlayed': 'minutes_played'\n",
    "    })\n",
    "    minutes = minutes.drop(['shortName', 'teamName', 'red_card'], axis=1)\n",
    "\n",
    "    return minutes"
   ]
  },
  {
   "cell_type": "code",
   "execution_count": 6,
   "metadata": {
    "collapsed": false
   },
   "outputs": [],
   "source": [
    "leagues = ['England', 'Spain']\n",
    "events = {}\n",
    "matches = {}\n",
    "minutes = {}\n",
    "for league in leagues:\n",
    "    path = f'../data/matches/matches_{league}.json'\n",
    "    matches[league] = load_matches(path)\n",
    "    path = f'../data/events/events_{league}.json'\n",
    "    events[league] = load_events(path)\n",
    "    path = f'../data/minutes_played/minutes_played_per_game_{league}.json'\n",
    "    minutes[league] = load_minutes_played_per_game(path)"
   ]
  },
  {
   "cell_type": "code",
   "execution_count": 7,
   "metadata": {
    "collapsed": false
   },
   "outputs": [],
   "source": [
    "path = f'../data/players.json'\n",
    "players = load_players(path)\n",
    "players['player_name'] = players['player_name'].str.decode('unicode-escape')"
   ]
  },
  {
   "attachments": {},
   "cell_type": "markdown",
   "metadata": {},
   "source": [
    "#### O que foi feito\n",
    "Primeiramente foi feito o carregamento de uma série de dados: jogos da La Liga e Premier League, jogadores, eventos e minutos jogados por jogo. Houve a leitura dos arquivos de dados em json e transformação em dataframes pandas, seguido de um pré processamento para facilitar a conversão em SPADL.\n",
    "\n",
    "Essa seção diz respeito a parte de leitura dos dados e pré processamento, descrito na seção 2.1, a qual trata dos desafios impostos pelos dados de event stream."
   ]
  },
  {
   "cell_type": "markdown",
   "metadata": {
    "collapsed": false
   },
   "source": [
    "### SPADL"
   ]
  },
  {
   "cell_type": "code",
   "execution_count": 8,
   "metadata": {
    "collapsed": false
   },
   "outputs": [],
   "source": [
    "from tqdm import tqdm\n",
    "import socceraction.spadl as spd"
   ]
  },
  {
   "cell_type": "code",
   "execution_count": 9,
   "metadata": {
    "collapsed": false
   },
   "outputs": [],
   "source": [
    "def spadl_transform(events, matches):\n",
    "    spadl = []\n",
    "    game_ids = events.game_id.unique().tolist()\n",
    "    for g in tqdm(game_ids):\n",
    "        match_events = events.loc[events.game_id == g]\n",
    "        match_home_id = matches.loc[(matches.matchId == g) & (matches.side == 'home'), 'teamId'].values[0]\n",
    "        match_actions = spd.wyscout.convert_to_actions(events=match_events, home_team_id=match_home_id)\n",
    "        match_actions = spd.play_left_to_right(actions=match_actions, home_team_id=match_home_id)\n",
    "        match_actions = spd.add_names(match_actions)\n",
    "        spadl.append(match_actions)\n",
    "    spadl = pd.concat(spadl).reset_index(drop=True)\n",
    "\n",
    "    return spadl"
   ]
  },
  {
   "cell_type": "code",
   "execution_count": 10,
   "metadata": {
    "collapsed": false
   },
   "outputs": [
    {
     "name": "stderr",
     "output_type": "stream",
     "text": [
      "100%|██████████| 380/380 [02:38<00:00,  2.40it/s]\n",
      "100%|██████████| 380/380 [02:28<00:00,  2.56it/s]\n"
     ]
    }
   ],
   "source": [
    "spadl = {}\n",
    "for league in leagues:\n",
    "    spadl[league] = spadl_transform(events=events[league], matches=matches[league])"
   ]
  },
  {
   "attachments": {},
   "cell_type": "markdown",
   "metadata": {},
   "source": [
    "### O que foi feito\n",
    "Após o prcessamento inicial dos dados, seguimos para a conversão dos mesmos para o formato SPADL. Para isso, foi criada uma função que recebe os dataframes de jogos e eventos, retornando um dataframe SPADL. Em seguidas chamamos a função dentro de um for para obtermos as ligas desejadas dentro de um dicionário spadl.\n",
    "\n",
    "Há aqui uma relação com a seção 2.2, que define e trata da conversão dos dados para o formato SPADL."
   ]
  },
  {
   "cell_type": "markdown",
   "metadata": {
    "collapsed": false
   },
   "source": [
    "### Features"
   ]
  },
  {
   "cell_type": "code",
   "execution_count": 11,
   "metadata": {
    "collapsed": false
   },
   "outputs": [],
   "source": [
    "from socceraction.vaep import features as ft"
   ]
  },
  {
   "cell_type": "code",
   "execution_count": 12,
   "metadata": {
    "collapsed": false
   },
   "outputs": [],
   "source": [
    "def features_transform(spadl):\n",
    "    spadl.loc[spadl.result_id.isin([2, 3]), ['result_id']] = 0\n",
    "    spadl.loc[spadl.result_name.isin(['offside', 'owngoal']), ['result_name']] = 'fail'\n",
    "\n",
    "    xfns = [\n",
    "        ft.actiontype_onehot,\n",
    "        ft.bodypart_onehot,\n",
    "        ft.result_onehot,\n",
    "        ft.goalscore,\n",
    "        ft.startlocation,\n",
    "        ft.endlocation,\n",
    "        ft.team,\n",
    "        ft.time,\n",
    "        ft.time_delta\n",
    "    ]\n",
    "\n",
    "    features = []\n",
    "    for game in tqdm(np.unique(spadl.game_id).tolist()):\n",
    "        match_actions = spadl.loc[spadl.game_id == game].reset_index(drop=True)\n",
    "        match_states = ft.gamestates(actions=match_actions)\n",
    "        match_feats = pd.concat([fn(match_states) for fn in xfns], axis=1)\n",
    "        features.append(match_feats)\n",
    "    features = pd.concat(features).reset_index(drop=True)\n",
    "\n",
    "    return features"
   ]
  },
  {
   "attachments": {},
   "cell_type": "markdown",
   "metadata": {
    "collapsed": false
   },
   "source": [
    "### 1 - O que a primeira e a segunda linhas da função acima fazem? Qual sua hipótese sobre intuito dessas transformações? Como você acha que isso pode impactar o modelo final?\n",
    "\n",
    "A primeira e segunda linha do programa acima são filtros do dataframe spadl passados como parâmetro. \\\n",
    "Ambas tratam de remover as classificações de offside e owngoal do dataframe, tornando-as fails. A primeira troca 'result-id's de 2 e 3 para 0 e a segunda troca 'offside' e 'owngoal' por fail. \n",
    "\n",
    "Minha hipótese é que essas alterações foram feitas com o intuito de refinar os dados para a aplicação do modelo, uma vez que as classificações removidas não são tão relevantes para a análise de valor de ação e ambas podem ser abstraídas para falhas sem alterar negativamente o resultado final. \n",
    "\n",
    "O impacto no modelo final será a remoção de dados que não são relevantes para a análise de valor de ação, o que pode tornar o modelo mais preciso. \n"
   ]
  },
  {
   "cell_type": "code",
   "execution_count": 13,
   "metadata": {
    "collapsed": false
   },
   "outputs": [
    {
     "name": "stderr",
     "output_type": "stream",
     "text": [
      "100%|██████████| 380/380 [00:11<00:00, 34.39it/s]\n",
      "100%|██████████| 380/380 [00:10<00:00, 35.18it/s]\n"
     ]
    }
   ],
   "source": [
    "features = {}\n",
    "for league in ['England', 'Spain']:\n",
    "    features[league] = features_transform(spadl[league])"
   ]
  },
  {
   "attachments": {},
   "cell_type": "markdown",
   "metadata": {},
   "source": [
    "#### O que foi feito\n",
    "Definiu-se aqui a função responsável por obter as features que serão inseridas no modelo baseada no dataframe em formato SPADL. features_transform faz um tratamento dos dados, tornando todos os tipos de resultados de ação binários e se utiliza da técnica de one-hot encoding para gerar colunas no dataframe resultante para cada jogo.\n",
    "\n",
    "O processo está descrito na seção 4.1, que trata da definição das features."
   ]
  },
  {
   "cell_type": "markdown",
   "metadata": {
    "collapsed": false
   },
   "source": [
    "### Labels"
   ]
  },
  {
   "cell_type": "code",
   "execution_count": 14,
   "metadata": {
    "collapsed": false
   },
   "outputs": [],
   "source": [
    "import socceraction.vaep.labels as lab"
   ]
  },
  {
   "cell_type": "code",
   "execution_count": 15,
   "metadata": {
    "collapsed": false
   },
   "outputs": [],
   "source": [
    "def labels_transform(spadl):\n",
    "    yfns = [lab.scores, lab.concedes]\n",
    "\n",
    "    labels = []\n",
    "    for game in tqdm(np.unique(spadl.game_id).tolist()):\n",
    "        match_actions = spadl.loc[spadl.game_id == game].reset_index(drop=True)\n",
    "        labels.append(pd.concat([fn(actions=match_actions) for fn in yfns], axis=1))\n",
    "\n",
    "    labels = pd.concat(labels).reset_index(drop=True)\n",
    "\n",
    "    return labels"
   ]
  },
  {
   "cell_type": "code",
   "execution_count": 16,
   "metadata": {
    "collapsed": false
   },
   "outputs": [
    {
     "name": "stderr",
     "output_type": "stream",
     "text": [
      "100%|██████████| 380/380 [00:14<00:00, 25.77it/s]\n",
      "100%|██████████| 380/380 [00:14<00:00, 26.37it/s]\n"
     ]
    }
   ],
   "source": [
    "labels = {}\n",
    "for league in ['England', 'Spain']:\n",
    "    labels[league] = labels_transform(spadl[league])"
   ]
  },
  {
   "cell_type": "code",
   "execution_count": 17,
   "metadata": {
    "collapsed": false
   },
   "outputs": [
    {
     "data": {
      "text/plain": [
       "7553"
      ]
     },
     "execution_count": 17,
     "metadata": {},
     "output_type": "execute_result"
    }
   ],
   "source": [
    "labels['England']['scores'].sum()"
   ]
  },
  {
   "cell_type": "code",
   "execution_count": 18,
   "metadata": {
    "collapsed": false
   },
   "outputs": [
    {
     "data": {
      "text/plain": [
       "2313"
      ]
     },
     "execution_count": 18,
     "metadata": {},
     "output_type": "execute_result"
    }
   ],
   "source": [
    "labels['England']['concedes'].sum()"
   ]
  },
  {
   "attachments": {},
   "cell_type": "markdown",
   "metadata": {
    "collapsed": false
   },
   "source": [
    "### 2- Explique o porquê da quantidade de labels positivos do tipo scores ser muito maior que do concedes. Como você acha que isso pode impactar o modelo final?\n",
    "Intuitivamente, podemos entender que a quantidade de labels positivos do tipo scores é maior do que a do tipo concedes porque as jogadas ofensivas são melhores construídas, isto é, necessitam de um maior número de estados para se concretizar em gol, enquanto que ações do time com a posse se tornarem gols concedidos podem vir de um número muito menor de estados, como um simples passe errado entre os zagueiros. Podemos ainda afirmar que é menos frequente que essas ações, ditas erros, aconteçam do que investidas de ataque bem sucedidas.\n",
    "\n",
    "Isso pode impactar o modelo final porque a coluna de labels positivos de concedes é muito esparsa, o que pode levar a um modelo com baixa acurácia. Por outro lado, é esperado que o modelo para scores tenha um desempenho melhor, uma vez que conta com mais dados disponíveis."
   ]
  },
  {
   "attachments": {},
   "cell_type": "markdown",
   "metadata": {},
   "source": [
    "#### O que foi feito\n",
    "Aqui é tratado o problema descrito na seção 4.1 de obter labels para cada ação do jogo baseada no estado corrente. \"lab.scores\", assinala o valor 1 para ações que resultam em gol para o time com a posse em até k futuras ações - nesse caso K=10 - e 0 para as demais. \"lab.concedes\" faz o contrário, assinalando 1 para ações que resultam em tomar um gol e 0 para as demais."
   ]
  },
  {
   "cell_type": "markdown",
   "metadata": {
    "collapsed": false
   },
   "source": [
    "### Training Model"
   ]
  },
  {
   "cell_type": "code",
   "execution_count": 19,
   "metadata": {
    "collapsed": false
   },
   "outputs": [],
   "source": [
    "import xgboost as xgb\n",
    "import sklearn.metrics as mt"
   ]
  },
  {
   "cell_type": "code",
   "execution_count": 20,
   "metadata": {
    "collapsed": false
   },
   "outputs": [],
   "source": [
    "def train_vaep(X_train, y_train, X_test, y_test):\n",
    "    models = {}\n",
    "    for m in ['scores', 'concedes']:\n",
    "        models[m] = xgb.XGBClassifier(random_state=0, n_estimators=50, max_depth=3)\n",
    "\n",
    "        print('training ' + m + ' model')\n",
    "        models[m].fit(X_train, y_train[m])\n",
    "\n",
    "        p = sum(y_train[m]) / len(y_train[m])\n",
    "        base = [p] * len(y_train[m])\n",
    "        y_train_pred = models[m].predict_proba(X_train)[:, 1]\n",
    "        train_brier = mt.brier_score_loss(y_train[m], y_train_pred) / mt.brier_score_loss(y_train[m], base)\n",
    "        print(m + ' Train NBS: ' + str(train_brier))\n",
    "        print()\n",
    "\n",
    "        p = sum(y_test[m]) / len(y_test[m])\n",
    "        base = [p] * len(y_test[m])\n",
    "        y_test_pred = models[m].predict_proba(X_test)[:, 1]\n",
    "        test_brier = mt.brier_score_loss(y_test[m], y_test_pred) / mt.brier_score_loss(y_test[m], base)\n",
    "        print(m + ' Test NBS: ' + str(test_brier))\n",
    "        print()\n",
    "\n",
    "        print('----------------------------------------')\n",
    "\n",
    "    return models"
   ]
  },
  {
   "cell_type": "code",
   "execution_count": 21,
   "metadata": {
    "collapsed": false
   },
   "outputs": [
    {
     "name": "stdout",
     "output_type": "stream",
     "text": [
      "training scores model\n",
      "scores Train NBS: 0.8452154331687597\n",
      "\n",
      "scores Test NBS: 0.850366923253325\n",
      "\n",
      "----------------------------------------\n",
      "training concedes model\n",
      "concedes Train NBS: 0.964463215550682\n",
      "\n",
      "concedes Test NBS: 0.9745272575372074\n",
      "\n",
      "----------------------------------------\n"
     ]
    }
   ],
   "source": [
    "models = train_vaep(X_train=features['England'], y_train=labels['England'], X_test=features['Spain'], y_test=labels['Spain'])"
   ]
  },
  {
   "attachments": {},
   "cell_type": "markdown",
   "metadata": {
    "collapsed": false
   },
   "source": [
    "### 3 - Por que treinamos dois modelos diferentes? Por que a performance dos dois é diferente?\n",
    "Treinamos dois modelos diferentes para maximizar a performance de cada um deles. Isso porque tratamos aqui de dois problemas distintos: o de prever gols marcados e o de prever gols sofridos pelo time com a posse de bola. Estas são duas categorias diferentes, cada uma com suas características próprias e, portanto, devem ser analisadas separadamente.\n",
    "\n",
    "A performance dois dois é diferente porque, como observado anteriormente, há um número maior de labels scores do que de labels concedes. Isso faz com que o modelo de scores tenha uma performance melhor do que o de concedes, uma vez que há mais dados significativos para treiná-lo."
   ]
  },
  {
   "attachments": {},
   "cell_type": "markdown",
   "metadata": {},
   "source": [
    "#### O que foi feito\n",
    "Aqui treinamos os modelos para prever gols marcados e gols sofridos pelo time com a posse de bola. Para isso, utilizamos o modelo XGBoost, que é um modelo de árvore de decisão que utiliza o método de boosting para melhorar a performance. O modelo é treinado com as features e labels obtidas anteriormente. O método aplicado está de acordo com a seção 4 do artigo, a qual indica que \"our task simplifies to two separate binary probabilistic classification problems with identical inputs but different labels\"."
   ]
  },
  {
   "cell_type": "markdown",
   "metadata": {
    "collapsed": false
   },
   "source": [
    "### Predictions"
   ]
  },
  {
   "cell_type": "code",
   "execution_count": 22,
   "metadata": {
    "collapsed": false
   },
   "outputs": [],
   "source": [
    "def generate_predictions(features, models):\n",
    "    preds = {}\n",
    "    for m in ['scores', 'concedes']:\n",
    "        preds[m] = models[m].predict_proba(features)[:, 1]\n",
    "    preds = pd.DataFrame(preds)\n",
    "\n",
    "    return preds"
   ]
  },
  {
   "cell_type": "code",
   "execution_count": 23,
   "metadata": {
    "collapsed": false
   },
   "outputs": [],
   "source": [
    "preds = {}\n",
    "preds['Spain'] = generate_predictions(features=features['Spain'], models=models)"
   ]
  },
  {
   "attachments": {},
   "cell_type": "markdown",
   "metadata": {},
   "source": [
    "#### O que foi feito\n",
    "Aqui utilizamos os modelos treinados anteriormente para fazer previsões de gols marcados e gols sofridos pelo time com a posse de bola a partir das features da liga espanhola. Para isso, utilizamos o método predict_proba do XGBoost, que retorna a probabilidade de cada ação resultar em gol(feito ou concedido), nesse caso.\n",
    "Essas probabilidades estão de acordo com a definição de VAEP na seção 3.1 e aqui podemos obter seu valor a partir da subtração da coluna de scores pela de concedes. "
   ]
  },
  {
   "cell_type": "markdown",
   "metadata": {
    "collapsed": false
   },
   "source": [
    "### Action Values"
   ]
  },
  {
   "cell_type": "code",
   "execution_count": 24,
   "metadata": {
    "collapsed": false
   },
   "outputs": [],
   "source": [
    "import socceraction.vaep.formula as fm"
   ]
  },
  {
   "cell_type": "code",
   "execution_count": 25,
   "metadata": {
    "collapsed": false
   },
   "outputs": [],
   "source": [
    "def calculate_action_values(spadl, predictions):\n",
    "    action_values = fm.value(actions=spadl, Pscores=predictions['scores'], Pconcedes=predictions['concedes'])\n",
    "    action_values = pd.concat([\n",
    "        spadl[['original_event_id', 'action_id', 'game_id', 'start_x', 'start_y', 'end_x', 'end_y', 'type_name', 'result_name', 'player_id']],\n",
    "        predictions.rename(columns={'scores': 'Pscores', 'concedes': 'Pconcedes'}),\n",
    "        action_values\n",
    "    ], axis=1)\n",
    "\n",
    "    return action_values"
   ]
  },
  {
   "cell_type": "code",
   "execution_count": 26,
   "metadata": {
    "collapsed": false
   },
   "outputs": [],
   "source": [
    "action_values = {}\n",
    "action_values['Spain'] = calculate_action_values(spadl=spadl['Spain'], predictions=preds['Spain'])"
   ]
  },
  {
   "cell_type": "code",
   "execution_count": 27,
   "metadata": {},
   "outputs": [
    {
     "data": {
      "text/html": [
       "<div>\n",
       "<style scoped>\n",
       "    .dataframe tbody tr th:only-of-type {\n",
       "        vertical-align: middle;\n",
       "    }\n",
       "\n",
       "    .dataframe tbody tr th {\n",
       "        vertical-align: top;\n",
       "    }\n",
       "\n",
       "    .dataframe thead th {\n",
       "        text-align: right;\n",
       "    }\n",
       "</style>\n",
       "<table border=\"1\" class=\"dataframe\">\n",
       "  <thead>\n",
       "    <tr style=\"text-align: right;\">\n",
       "      <th></th>\n",
       "      <th>original_event_id</th>\n",
       "      <th>action_id</th>\n",
       "      <th>game_id</th>\n",
       "      <th>start_x</th>\n",
       "      <th>start_y</th>\n",
       "      <th>end_x</th>\n",
       "      <th>end_y</th>\n",
       "      <th>type_name</th>\n",
       "      <th>result_name</th>\n",
       "      <th>player_id</th>\n",
       "      <th>Pscores</th>\n",
       "      <th>Pconcedes</th>\n",
       "      <th>offensive_value</th>\n",
       "      <th>defensive_value</th>\n",
       "      <th>vaep_value</th>\n",
       "    </tr>\n",
       "  </thead>\n",
       "  <tbody>\n",
       "    <tr>\n",
       "      <th>1456</th>\n",
       "      <td>180055010</td>\n",
       "      <td>311</td>\n",
       "      <td>2565549</td>\n",
       "      <td>34.65</td>\n",
       "      <td>25.84</td>\n",
       "      <td>40.95</td>\n",
       "      <td>7.48</td>\n",
       "      <td>pass</td>\n",
       "      <td>fail</td>\n",
       "      <td>3676</td>\n",
       "      <td>0.003095</td>\n",
       "      <td>0.005541</td>\n",
       "      <td>-0.002741</td>\n",
       "      <td>-0.003833</td>\n",
       "      <td>-0.006573</td>\n",
       "    </tr>\n",
       "    <tr>\n",
       "      <th>1457</th>\n",
       "      <td>180054887</td>\n",
       "      <td>312</td>\n",
       "      <td>2565549</td>\n",
       "      <td>64.05</td>\n",
       "      <td>60.52</td>\n",
       "      <td>34.65</td>\n",
       "      <td>59.16</td>\n",
       "      <td>pass</td>\n",
       "      <td>fail</td>\n",
       "      <td>4424</td>\n",
       "      <td>0.003298</td>\n",
       "      <td>0.005399</td>\n",
       "      <td>-0.002244</td>\n",
       "      <td>-0.002304</td>\n",
       "      <td>-0.004548</td>\n",
       "    </tr>\n",
       "    <tr>\n",
       "      <th>1458</th>\n",
       "      <td>NaN</td>\n",
       "      <td>313</td>\n",
       "      <td>2565549</td>\n",
       "      <td>34.65</td>\n",
       "      <td>59.16</td>\n",
       "      <td>48.30</td>\n",
       "      <td>31.28</td>\n",
       "      <td>dribble</td>\n",
       "      <td>success</td>\n",
       "      <td>140125</td>\n",
       "      <td>0.008930</td>\n",
       "      <td>0.001573</td>\n",
       "      <td>0.005632</td>\n",
       "      <td>0.003827</td>\n",
       "      <td>0.009459</td>\n",
       "    </tr>\n",
       "    <tr>\n",
       "      <th>1459</th>\n",
       "      <td>180054888</td>\n",
       "      <td>314</td>\n",
       "      <td>2565549</td>\n",
       "      <td>48.30</td>\n",
       "      <td>31.28</td>\n",
       "      <td>58.80</td>\n",
       "      <td>15.64</td>\n",
       "      <td>pass</td>\n",
       "      <td>success</td>\n",
       "      <td>140125</td>\n",
       "      <td>0.009795</td>\n",
       "      <td>0.001284</td>\n",
       "      <td>0.000865</td>\n",
       "      <td>0.000289</td>\n",
       "      <td>0.001154</td>\n",
       "    </tr>\n",
       "    <tr>\n",
       "      <th>1460</th>\n",
       "      <td>180054889</td>\n",
       "      <td>315</td>\n",
       "      <td>2565549</td>\n",
       "      <td>58.80</td>\n",
       "      <td>15.64</td>\n",
       "      <td>54.60</td>\n",
       "      <td>19.04</td>\n",
       "      <td>pass</td>\n",
       "      <td>success</td>\n",
       "      <td>26652</td>\n",
       "      <td>0.010214</td>\n",
       "      <td>0.001340</td>\n",
       "      <td>0.000419</td>\n",
       "      <td>-0.000056</td>\n",
       "      <td>0.000363</td>\n",
       "    </tr>\n",
       "    <tr>\n",
       "      <th>1461</th>\n",
       "      <td>180054890</td>\n",
       "      <td>316</td>\n",
       "      <td>2565549</td>\n",
       "      <td>54.60</td>\n",
       "      <td>19.04</td>\n",
       "      <td>57.75</td>\n",
       "      <td>31.28</td>\n",
       "      <td>pass</td>\n",
       "      <td>success</td>\n",
       "      <td>140125</td>\n",
       "      <td>0.009841</td>\n",
       "      <td>0.001254</td>\n",
       "      <td>-0.000373</td>\n",
       "      <td>0.000086</td>\n",
       "      <td>-0.000287</td>\n",
       "    </tr>\n",
       "    <tr>\n",
       "      <th>1462</th>\n",
       "      <td>180054892</td>\n",
       "      <td>317</td>\n",
       "      <td>2565549</td>\n",
       "      <td>57.75</td>\n",
       "      <td>31.28</td>\n",
       "      <td>96.60</td>\n",
       "      <td>59.16</td>\n",
       "      <td>pass</td>\n",
       "      <td>success</td>\n",
       "      <td>3840</td>\n",
       "      <td>0.026865</td>\n",
       "      <td>0.001209</td>\n",
       "      <td>0.017024</td>\n",
       "      <td>0.000045</td>\n",
       "      <td>0.017069</td>\n",
       "    </tr>\n",
       "    <tr>\n",
       "      <th>1463</th>\n",
       "      <td>NaN</td>\n",
       "      <td>318</td>\n",
       "      <td>2565549</td>\n",
       "      <td>96.60</td>\n",
       "      <td>59.16</td>\n",
       "      <td>90.30</td>\n",
       "      <td>59.84</td>\n",
       "      <td>dribble</td>\n",
       "      <td>success</td>\n",
       "      <td>241945</td>\n",
       "      <td>0.020962</td>\n",
       "      <td>0.001281</td>\n",
       "      <td>-0.005903</td>\n",
       "      <td>-0.000073</td>\n",
       "      <td>-0.005976</td>\n",
       "    </tr>\n",
       "    <tr>\n",
       "      <th>1464</th>\n",
       "      <td>180054895</td>\n",
       "      <td>319</td>\n",
       "      <td>2565549</td>\n",
       "      <td>90.30</td>\n",
       "      <td>59.84</td>\n",
       "      <td>99.75</td>\n",
       "      <td>21.76</td>\n",
       "      <td>cross</td>\n",
       "      <td>success</td>\n",
       "      <td>241945</td>\n",
       "      <td>0.069344</td>\n",
       "      <td>0.001900</td>\n",
       "      <td>0.048382</td>\n",
       "      <td>-0.000618</td>\n",
       "      <td>0.047764</td>\n",
       "    </tr>\n",
       "    <tr>\n",
       "      <th>1465</th>\n",
       "      <td>NaN</td>\n",
       "      <td>320</td>\n",
       "      <td>2565549</td>\n",
       "      <td>99.75</td>\n",
       "      <td>21.76</td>\n",
       "      <td>100.80</td>\n",
       "      <td>27.20</td>\n",
       "      <td>dribble</td>\n",
       "      <td>success</td>\n",
       "      <td>395636</td>\n",
       "      <td>0.108411</td>\n",
       "      <td>0.002015</td>\n",
       "      <td>0.039067</td>\n",
       "      <td>-0.000116</td>\n",
       "      <td>0.038951</td>\n",
       "    </tr>\n",
       "    <tr>\n",
       "      <th>1466</th>\n",
       "      <td>180054901</td>\n",
       "      <td>321</td>\n",
       "      <td>2565549</td>\n",
       "      <td>100.80</td>\n",
       "      <td>27.20</td>\n",
       "      <td>105.00</td>\n",
       "      <td>37.40</td>\n",
       "      <td>shot</td>\n",
       "      <td>success</td>\n",
       "      <td>395636</td>\n",
       "      <td>0.982351</td>\n",
       "      <td>0.003386</td>\n",
       "      <td>0.873940</td>\n",
       "      <td>-0.001370</td>\n",
       "      <td>0.872570</td>\n",
       "    </tr>\n",
       "  </tbody>\n",
       "</table>\n",
       "</div>"
      ],
      "text/plain": [
       "     original_event_id  action_id  game_id  start_x  start_y   end_x  end_y  \\\n",
       "1456         180055010        311  2565549    34.65    25.84   40.95   7.48   \n",
       "1457         180054887        312  2565549    64.05    60.52   34.65  59.16   \n",
       "1458               NaN        313  2565549    34.65    59.16   48.30  31.28   \n",
       "1459         180054888        314  2565549    48.30    31.28   58.80  15.64   \n",
       "1460         180054889        315  2565549    58.80    15.64   54.60  19.04   \n",
       "1461         180054890        316  2565549    54.60    19.04   57.75  31.28   \n",
       "1462         180054892        317  2565549    57.75    31.28   96.60  59.16   \n",
       "1463               NaN        318  2565549    96.60    59.16   90.30  59.84   \n",
       "1464         180054895        319  2565549    90.30    59.84   99.75  21.76   \n",
       "1465               NaN        320  2565549    99.75    21.76  100.80  27.20   \n",
       "1466         180054901        321  2565549   100.80    27.20  105.00  37.40   \n",
       "\n",
       "     type_name result_name  player_id   Pscores  Pconcedes  offensive_value  \\\n",
       "1456      pass        fail       3676  0.003095   0.005541        -0.002741   \n",
       "1457      pass        fail       4424  0.003298   0.005399        -0.002244   \n",
       "1458   dribble     success     140125  0.008930   0.001573         0.005632   \n",
       "1459      pass     success     140125  0.009795   0.001284         0.000865   \n",
       "1460      pass     success      26652  0.010214   0.001340         0.000419   \n",
       "1461      pass     success     140125  0.009841   0.001254        -0.000373   \n",
       "1462      pass     success       3840  0.026865   0.001209         0.017024   \n",
       "1463   dribble     success     241945  0.020962   0.001281        -0.005903   \n",
       "1464     cross     success     241945  0.069344   0.001900         0.048382   \n",
       "1465   dribble     success     395636  0.108411   0.002015         0.039067   \n",
       "1466      shot     success     395636  0.982351   0.003386         0.873940   \n",
       "\n",
       "      defensive_value  vaep_value  \n",
       "1456        -0.003833   -0.006573  \n",
       "1457        -0.002304   -0.004548  \n",
       "1458         0.003827    0.009459  \n",
       "1459         0.000289    0.001154  \n",
       "1460        -0.000056    0.000363  \n",
       "1461         0.000086   -0.000287  \n",
       "1462         0.000045    0.017069  \n",
       "1463        -0.000073   -0.005976  \n",
       "1464        -0.000618    0.047764  \n",
       "1465        -0.000116    0.038951  \n",
       "1466        -0.001370    0.872570  "
      ]
     },
     "execution_count": 27,
     "metadata": {},
     "output_type": "execute_result"
    }
   ],
   "source": [
    "action_values['Spain'].iloc[1456:1467]"
   ]
  },
  {
   "cell_type": "code",
   "execution_count": 28,
   "metadata": {},
   "outputs": [
    {
     "data": {
      "text/plain": [
       "0.0035304753"
      ]
     },
     "execution_count": 28,
     "metadata": {},
     "output_type": "execute_result"
    }
   ],
   "source": [
    "action_values['Spain'].iloc[1458].Pscores - action_values['Spain'].iloc[1457].Pconcedes"
   ]
  },
  {
   "cell_type": "code",
   "execution_count": 29,
   "metadata": {},
   "outputs": [
    {
     "name": "stdout",
     "output_type": "stream",
     "text": [
      "Média de Pscores para chutes que não resultaram em gol: 0.026126321405172348 \n",
      "Média de Pscores para chutes que resultaram em gol: 0.9823907613754272\n"
     ]
    }
   ],
   "source": [
    "media_succ = np.mean(action_values['Spain'].loc[(action_values['Spain'].result_name == 'success')\n",
    "                                                 & (action_values['Spain'].type_name == \"shot\")].Pscores)\n",
    "media_fail = np.mean(action_values['Spain'].loc[(action_values['Spain'].result_name == 'fail')\n",
    "                                                 & (action_values['Spain'].type_name == \"shot\")].Pscores)\n",
    "\n",
    "print(f\"Média de Pscores para chutes que não resultaram em gol: {media_fail} \\n\"\n",
    "      f\"Média de Pscores para chutes que resultaram em gol: {media_succ}\")"
   ]
  },
  {
   "attachments": {},
   "cell_type": "markdown",
   "metadata": {
    "collapsed": false
   },
   "source": [
    "### 4 - Explore as ações com Pscores >= 0.95. Por que elas tem um valor tão alto? As compare com ações do mesmo tipo e resultado opostado. Será que o modelo aprende que essa combinação de tipo de ação e resultado está diretamente relacionado à variável y que estamos tentando prever?\n",
    "Elas tem um valor tão alto porque são chutes que possuem resultado de sucesso, isto é, gols. As ações de chute com resultado oposto têm valor muito próximo de 0, como evidenciado pelas média calculadas acima.\n",
    "\n",
    "O modelo entende essa diferença em Pscores para chutes com resultado de sucesso e chutes com resultado de falha, uma vez que a diferença entre os valores de Pscores para esses dois tipos de ação é muito grande. Isso mostra que ele aprende que essa combinação de tipo de ação e resultado está diretamente relacionado à variável y que estamos tentando prever."
   ]
  },
  {
   "attachments": {},
   "cell_type": "markdown",
   "metadata": {},
   "source": [
    "### 5 - Qual formula do paper corresponde à coluna 'offensive_value' do dataframe action_values? E a coluna 'defensive_value'?\n",
    "Para offensive_valeu a fórmula é \\\n",
    "![image.png](data:image/png;base64,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)\n",
    "\n",
    "Para defensive_value: \\\n",
    "![image.png](data:image/png;base64,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)\n"
   ]
  },
  {
   "attachments": {},
   "cell_type": "markdown",
   "metadata": {},
   "source": [
    "#### O que foi feito\n",
    "Aqui geramos um dataframe de action values, o qual reúne as métricas de Pscores, Pconcedes vaep_value com dados de ações propriamente ditas, como coordenadas de início e fim, jogador que realizou a ação, etc. \\\n",
    "O dataframe retornado sumariza os dados principais e cáculo de VAEP para cada ação, como descrito no paper. Ele dá uma noção geral dos itens e materializa o conhecimento visto até a seção 4."
   ]
  },
  {
   "cell_type": "markdown",
   "metadata": {
    "collapsed": false
   },
   "source": [
    "### Player Ratings"
   ]
  },
  {
   "cell_type": "code",
   "execution_count": 30,
   "metadata": {
    "collapsed": false
   },
   "outputs": [],
   "source": [
    "def calculate_minutes_per_season(minutes_per_game):\n",
    "    minutes_per_season = minutes_per_game.groupby('player_id', as_index=False)['minutes_played'].sum()\n",
    "\n",
    "    return minutes_per_season"
   ]
  },
  {
   "cell_type": "code",
   "execution_count": 31,
   "metadata": {
    "collapsed": false
   },
   "outputs": [],
   "source": [
    "minutes_per_season = {}\n",
    "minutes_per_season['Spain'] = calculate_minutes_per_season(minutes['Spain'])"
   ]
  },
  {
   "cell_type": "code",
   "execution_count": 32,
   "metadata": {
    "collapsed": false
   },
   "outputs": [],
   "source": [
    "def calculate_player_ratings(action_values, minutes_per_season, players):\n",
    "    player_ratings = action_values.groupby(by='player_id', as_index=False).agg({'vaep_value': 'sum'}).rename(columns={'vaep_value': 'vaep_total'})\n",
    "    player_ratings = player_ratings.merge(minutes_per_season, on=['player_id'], how='left')\n",
    "    player_ratings['vaep_p90'] = player_ratings['vaep_total'] / player_ratings['minutes_played'] * 90\n",
    "    player_ratings = player_ratings[player_ratings['minutes_played'] >= 600].sort_values(by='vaep_p90', ascending=False).reset_index(drop=True)\n",
    "    player_ratings = player_ratings.merge(players, on=['player_id'], how='left')\n",
    "    player_ratings = player_ratings[['player_id', 'player_name', 'minutes_played', 'vaep_total', 'vaep_p90']]\n",
    "\n",
    "    return player_ratings"
   ]
  },
  {
   "cell_type": "code",
   "execution_count": 33,
   "metadata": {
    "collapsed": false
   },
   "outputs": [],
   "source": [
    "player_ratings = {}\n",
    "player_ratings['Spain'] = calculate_player_ratings(action_values=action_values['Spain'], minutes_per_season=minutes_per_season['Spain'], players=players)"
   ]
  },
  {
   "cell_type": "code",
   "execution_count": 35,
   "metadata": {},
   "outputs": [
    {
     "data": {
      "text/html": [
       "<div>\n",
       "<style scoped>\n",
       "    .dataframe tbody tr th:only-of-type {\n",
       "        vertical-align: middle;\n",
       "    }\n",
       "\n",
       "    .dataframe tbody tr th {\n",
       "        vertical-align: top;\n",
       "    }\n",
       "\n",
       "    .dataframe thead th {\n",
       "        text-align: right;\n",
       "    }\n",
       "</style>\n",
       "<table border=\"1\" class=\"dataframe\">\n",
       "  <thead>\n",
       "    <tr style=\"text-align: right;\">\n",
       "      <th></th>\n",
       "      <th>player_id</th>\n",
       "      <th>player_name</th>\n",
       "      <th>minutes_played</th>\n",
       "      <th>vaep_total</th>\n",
       "      <th>vaep_p90</th>\n",
       "    </tr>\n",
       "  </thead>\n",
       "  <tbody>\n",
       "    <tr>\n",
       "      <th>0</th>\n",
       "      <td>3359</td>\n",
       "      <td>Lionel Andrés Messi Cuccittini</td>\n",
       "      <td>3108.0</td>\n",
       "      <td>35.891377</td>\n",
       "      <td>1.039326</td>\n",
       "    </tr>\n",
       "    <tr>\n",
       "      <th>1</th>\n",
       "      <td>8278</td>\n",
       "      <td>Gareth Frank Bale</td>\n",
       "      <td>1850.0</td>\n",
       "      <td>14.323647</td>\n",
       "      <td>0.696826</td>\n",
       "    </tr>\n",
       "    <tr>\n",
       "      <th>2</th>\n",
       "      <td>3802</td>\n",
       "      <td>Philippe Coutinho Correia</td>\n",
       "      <td>1329.0</td>\n",
       "      <td>10.036555</td>\n",
       "      <td>0.679676</td>\n",
       "    </tr>\n",
       "    <tr>\n",
       "      <th>3</th>\n",
       "      <td>3322</td>\n",
       "      <td>Cristiano Ronaldo dos Santos Aveiro</td>\n",
       "      <td>2355.0</td>\n",
       "      <td>17.279105</td>\n",
       "      <td>0.660348</td>\n",
       "    </tr>\n",
       "    <tr>\n",
       "      <th>4</th>\n",
       "      <td>3682</td>\n",
       "      <td>Antoine Griezmann</td>\n",
       "      <td>2591.0</td>\n",
       "      <td>18.149570</td>\n",
       "      <td>0.630437</td>\n",
       "    </tr>\n",
       "    <tr>\n",
       "      <th>5</th>\n",
       "      <td>225946</td>\n",
       "      <td>Arnaldo Antonio Sanabria Ayala</td>\n",
       "      <td>902.0</td>\n",
       "      <td>6.134126</td>\n",
       "      <td>0.612052</td>\n",
       "    </tr>\n",
       "    <tr>\n",
       "      <th>6</th>\n",
       "      <td>3840</td>\n",
       "      <td>Iago Aspas Juncal</td>\n",
       "      <td>3038.0</td>\n",
       "      <td>20.002288</td>\n",
       "      <td>0.592563</td>\n",
       "    </tr>\n",
       "    <tr>\n",
       "      <th>7</th>\n",
       "      <td>280383</td>\n",
       "      <td>Enis Bardhi</td>\n",
       "      <td>1637.0</td>\n",
       "      <td>10.188202</td>\n",
       "      <td>0.560133</td>\n",
       "    </tr>\n",
       "    <tr>\n",
       "      <th>8</th>\n",
       "      <td>3425</td>\n",
       "      <td>Iker Muniain Goñi</td>\n",
       "      <td>816.0</td>\n",
       "      <td>4.983323</td>\n",
       "      <td>0.549631</td>\n",
       "    </tr>\n",
       "    <tr>\n",
       "      <th>9</th>\n",
       "      <td>250885</td>\n",
       "      <td>Santiago Mina Lorenzo</td>\n",
       "      <td>1623.0</td>\n",
       "      <td>9.688416</td>\n",
       "      <td>0.537250</td>\n",
       "    </tr>\n",
       "  </tbody>\n",
       "</table>\n",
       "</div>"
      ],
      "text/plain": [
       "   player_id                          player_name  minutes_played  vaep_total  \\\n",
       "0       3359       Lionel Andrés Messi Cuccittini          3108.0   35.891377   \n",
       "1       8278                    Gareth Frank Bale          1850.0   14.323647   \n",
       "2       3802            Philippe Coutinho Correia          1329.0   10.036555   \n",
       "3       3322  Cristiano Ronaldo dos Santos Aveiro          2355.0   17.279105   \n",
       "4       3682                    Antoine Griezmann          2591.0   18.149570   \n",
       "5     225946       Arnaldo Antonio Sanabria Ayala           902.0    6.134126   \n",
       "6       3840                    Iago Aspas Juncal          3038.0   20.002288   \n",
       "7     280383                          Enis Bardhi          1637.0   10.188202   \n",
       "8       3425                    Iker Muniain Goñi           816.0    4.983323   \n",
       "9     250885                Santiago Mina Lorenzo          1623.0    9.688416   \n",
       "\n",
       "   vaep_p90  \n",
       "0  1.039326  \n",
       "1  0.696826  \n",
       "2  0.679676  \n",
       "3  0.660348  \n",
       "4  0.630437  \n",
       "5  0.612052  \n",
       "6  0.592563  \n",
       "7  0.560133  \n",
       "8  0.549631  \n",
       "9  0.537250  "
      ]
     },
     "execution_count": 35,
     "metadata": {},
     "output_type": "execute_result"
    }
   ],
   "source": [
    "player_ratings['Spain'].head(10)"
   ]
  },
  {
   "attachments": {},
   "cell_type": "markdown",
   "metadata": {
    "collapsed": false
   },
   "source": [
    "### 6 - Acha que o Top 5 da lista é bem representativo? Compare esse ranqueamento do VAEP com o do xT da Atividade 4. Qual você acha que é mais representativo?\n",
    "O Top 5 da lista são jogadores reconhecidos pelo seu talento e impacto em campo na laLiga durante a temporada analisada, portanto é um ranqueamento bem representativo. \\\n",
    "Comparando esse ranking com o do xT, temos que a única semelhança é a presença de Messi no topo da lista. Comparando as duas métricas, podemos ver que o VAEP é mais representativo, pois ele leva em consideração o contexto da partida, enquanto o xT é baseado nas posições da bola somente do time que está atacando. Pode-se dizer que o VAEP constrói uma análise mais completa."
   ]
  },
  {
   "attachments": {},
   "cell_type": "markdown",
   "metadata": {},
   "source": [
    "#### O que foi feito\n",
    "Por fim geramos um dataframe de player ratings, dando a cada um dos jogadores com mais de 600 minutos jogados um valor de VAEP por 90 minutos e o total.\n",
    "\n",
    "A classificação de jogadores a partir do valor do seu VAEP pode ser encontrada na seção 3.2 do paper."
   ]
  }
 ],
 "metadata": {
  "kernelspec": {
   "display_name": "Python 3",
   "language": "python",
   "name": "python3"
  },
  "language_info": {
   "codemirror_mode": {
    "name": "ipython",
    "version": 3
   },
   "file_extension": ".py",
   "mimetype": "text/x-python",
   "name": "python",
   "nbconvert_exporter": "python",
   "pygments_lexer": "ipython3",
   "version": "3.10.6"
  }
 },
 "nbformat": 4,
 "nbformat_minor": 0
}
