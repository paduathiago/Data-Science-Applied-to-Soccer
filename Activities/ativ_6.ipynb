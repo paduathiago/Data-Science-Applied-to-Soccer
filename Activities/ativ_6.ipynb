{
 "cells": [
  {
   "cell_type": "markdown",
   "metadata": {
    "collapsed": false
   },
   "source": [
    "# [CDAF] Atividade 6"
   ]
  },
  {
   "attachments": {},
   "cell_type": "markdown",
   "metadata": {
    "collapsed": false
   },
   "source": [
    "## Nome: Thiago Pádua de Carvalho\n",
    "\n",
    "## Matrícula: 2020007066"
   ]
  },
  {
   "cell_type": "markdown",
   "metadata": {
    "collapsed": false
   },
   "source": [
    "## Referências\n",
    "- [1] https://www.ecmlpkdd2019.org/downloads/paper/701.pdf\n",
    "- [2] https://dtai.cs.kuleuven.be/sports/blog/player-vectors:-characterizing-soccer-players'-playing-style\n",
    "- [3] https://dtai.cs.kuleuven.be/sports/player_vectors\n",
    "- [4] https://github.com/TomDecroos/matplotsoccer"
   ]
  },
  {
   "cell_type": "markdown",
   "metadata": {
    "collapsed": false
   },
   "source": [
    "## Introdução\n",
    "- Nessa atividade, temos implementado o \"Player Vectors\", método proposto em [1] para caracterizar o estilo de jogo de jogadores baseado nas localizações que realizam cada tipo de ação.\n",
    "- [2] apresenta o conteúdo do paper em [1] de forma mais resumida e visual, em formato de blog.\n",
    "- [3] oferece uma demo interativa com uma aplicação do método no contexto de comparar a similaridade entre jogadores.\n",
    "- [4] é uma biblioteca para plotar visualizações de partidas de futebol. Além disso, ela tem uma função pronta para criar heatmaps de ações de jogadores, que é util para o nosso contexto."
   ]
  },
  {
   "cell_type": "markdown",
   "metadata": {
    "collapsed": false
   },
   "source": [
    "## Intruções\n",
    "- Para cada header abaixo do notebook, vocês devem explicar o que foi feito e à qual seção/subseção/equação de [1] ela corresponde. Justifique suas respostas.\n",
    "- Além disso, vocês devem montar um diagrama do fluxo de funções/tarefas de toda a pipeline do Player Vectors abaixo. Esse diagrama deve ser enviado como arquivo na submissão do Moodle, para além deste notebook."
   ]
  },
  {
   "cell_type": "markdown",
   "metadata": {
    "collapsed": false
   },
   "source": [
    "### Carregando os dados"
   ]
  },
  {
   "cell_type": "code",
   "execution_count": 1,
   "metadata": {
    "collapsed": false
   },
   "outputs": [],
   "source": [
    "import numpy as np\n",
    "import pandas as pd"
   ]
  },
  {
   "cell_type": "code",
   "execution_count": 2,
   "metadata": {
    "collapsed": false
   },
   "outputs": [],
   "source": [
    "def load_matches(path):\n",
    "    matches = pd.read_json(path_or_buf=path)\n",
    "    # as informações dos times de cada partida estão em um dicionário dentro da coluna 'teamsData', então vamos separar essas informações\n",
    "    team_matches = []\n",
    "    for i in range(len(matches)):\n",
    "        team_match = pd.DataFrame(matches.loc[i, 'teamsData']).T\n",
    "        team_match['matchId'] = matches.loc[i, 'wyId']\n",
    "        team_matches.append(team_match)\n",
    "    team_matches = pd.concat(team_matches).reset_index(drop=True)\n",
    "\n",
    "    return matches, team_matches"
   ]
  },
  {
   "cell_type": "code",
   "execution_count": 3,
   "metadata": {
    "collapsed": false
   },
   "outputs": [],
   "source": [
    "def get_position(x):\n",
    "    return x['name']\n",
    "\n",
    "def load_players(path):\n",
    "    players = pd.read_json(path_or_buf=path)\n",
    "    players['player_name'] = players['firstName'] + ' ' + players['lastName']\n",
    "    players['role'] = players['role'].apply(get_position)\n",
    "    players = players[['wyId', 'player_name', 'role']].rename(columns={'wyId': 'player_id'})\n",
    "\n",
    "    return players"
   ]
  },
  {
   "cell_type": "code",
   "execution_count": 4,
   "metadata": {
    "collapsed": false
   },
   "outputs": [],
   "source": [
    "def load_events(path):\n",
    "    events = pd.read_json(path_or_buf=path)\n",
    "    # pré processamento em colunas da tabela de eventos para facilitar a conversão p/ SPADL\n",
    "    events = events.rename(columns={\n",
    "        'id': 'event_id',\n",
    "        'eventId': 'type_id',\n",
    "        'subEventId': 'subtype_id',\n",
    "        'teamId': 'team_id',\n",
    "        'playerId': 'player_id',\n",
    "        'matchId': 'game_id'\n",
    "    })\n",
    "    events['milliseconds'] = events['eventSec'] * 1000\n",
    "    events['period_id'] = events['matchPeriod'].replace({'1H': 1, '2H': 2})\n",
    "\n",
    "    return events"
   ]
  },
  {
   "cell_type": "code",
   "execution_count": 5,
   "metadata": {
    "collapsed": false
   },
   "outputs": [],
   "source": [
    "def load_minutes_played_per_game(path):\n",
    "    minutes = pd.read_json(path_or_buf=path)\n",
    "    minutes = minutes.rename(columns={\n",
    "        'playerId': 'player_id',\n",
    "        'matchId': 'game_id',\n",
    "        'teamId': 'team_id',\n",
    "        'minutesPlayed': 'minutes_played'\n",
    "    })\n",
    "    minutes = minutes.drop(['shortName', 'teamName', 'red_card'], axis=1)\n",
    "\n",
    "    return minutes"
   ]
  },
  {
   "cell_type": "code",
   "execution_count": 6,
   "metadata": {
    "collapsed": false
   },
   "outputs": [],
   "source": [
    "leagues = ['England', 'Spain']\n",
    "events = {}\n",
    "matches = {}\n",
    "team_matches = {}\n",
    "game_minutes = {}\n",
    "for league in leagues:\n",
    "    path = f'../data/matches/matches_{league}.json'\n",
    "    matches[league], team_matches[league] = load_matches(path)\n",
    "    path = f'../data/events/events_{league}.json'\n",
    "    events[league] = load_events(path)\n",
    "    path = f'../data/minutes_played/minutes_played_per_game_{league}.json'\n",
    "    game_minutes[league] = load_minutes_played_per_game(path)\n"
   ]
  },
  {
   "cell_type": "code",
   "execution_count": 7,
   "metadata": {
    "collapsed": false
   },
   "outputs": [],
   "source": [
    "path = f'../data/players.json'\n",
    "players = load_players(path)\n",
    "players['player_name'] = players['player_name'].str.decode('unicode-escape')"
   ]
  },
  {
   "cell_type": "code",
   "execution_count": 8,
   "metadata": {
    "collapsed": false
   },
   "outputs": [],
   "source": [
    "def calculate_minutes_per_season(minutes_per_game):\n",
    "    minutes_per_season = minutes_per_game.groupby('player_id', as_index=False)['minutes_played'].sum()\n",
    "\n",
    "    return minutes_per_season"
   ]
  },
  {
   "attachments": {},
   "cell_type": "markdown",
   "metadata": {},
   "source": [
    "#### O que foi feito\n",
    "Primeiramente foi feito o carregamento de uma série de dados: jogos da La Liga e Premier League, jogadores, eventos e minutos jogados por jogo. Houve a leitura dos arquivos de dados em json e transformação em dataframes pandas, seguido de um pré processamento para facilitar a conversão em SPADL. Além disso, definiu-se a função calculate_minutes_per_season para computar o tempo em campo dos jogadores em cada temporada. Isso é de importância para a posterior normalização dos dados, que será feita por 90 minutos.\n",
    "\n"
   ]
  },
  {
   "cell_type": "markdown",
   "metadata": {
    "collapsed": false
   },
   "source": [
    "### SPADL"
   ]
  },
  {
   "cell_type": "code",
   "execution_count": 9,
   "metadata": {
    "collapsed": false
   },
   "outputs": [],
   "source": [
    "from tqdm import tqdm\n",
    "import socceraction.spadl as spd"
   ]
  },
  {
   "cell_type": "code",
   "execution_count": 10,
   "metadata": {
    "collapsed": false
   },
   "outputs": [],
   "source": [
    "def spadl_transform(events, team_matches):\n",
    "    spadl = []\n",
    "    game_ids = events.game_id.unique().tolist()\n",
    "    for g in tqdm(game_ids):\n",
    "        match_events = events.loc[events.game_id == g]\n",
    "        match_home_id = team_matches.loc[(team_matches.matchId == g) & (team_matches.side == 'home'), 'teamId'].values[0]\n",
    "        match_actions = spd.wyscout.convert_to_actions(events=match_events, home_team_id=match_home_id)\n",
    "        match_actions = spd.play_left_to_right(actions=match_actions, home_team_id=match_home_id)\n",
    "        match_actions = spd.add_names(match_actions)\n",
    "        spadl.append(match_actions)\n",
    "    spadl = pd.concat(spadl).reset_index(drop=True)\n",
    "\n",
    "    return spadl"
   ]
  },
  {
   "cell_type": "code",
   "execution_count": 11,
   "metadata": {
    "collapsed": false
   },
   "outputs": [
    {
     "name": "stderr",
     "output_type": "stream",
     "text": [
      "100%|██████████| 380/380 [02:45<00:00,  2.30it/s]\n",
      "100%|██████████| 380/380 [02:44<00:00,  2.31it/s]\n"
     ]
    }
   ],
   "source": [
    "spadl = {}\n",
    "for league in leagues:\n",
    "    spadl[league] = spadl_transform(events=events[league], team_matches=team_matches[league])"
   ]
  },
  {
   "attachments": {},
   "cell_type": "markdown",
   "metadata": {},
   "source": [
    "### O que foi feito\n",
    "Após o processamento inicial dos dados, seguimos para a conversão dos mesmos para o formato SPADL. Para isso, foi criada uma função que recebe os dataframes de jogos e eventos, retornando um dataframe SPADL. Em seguidas chamamos a função dentro de um for para obtermos as ligas desejadas dentro de um dicionário spadl.\n",
    "\n",
    "Tanto o pré processamento quanto a conversão para SPADL são cobertos na seção 2 - Data and Challenges. Especificamente o segundo é descrito brevemente em 2.1: Event Stream Data."
   ]
  },
  {
   "cell_type": "markdown",
   "metadata": {
    "collapsed": false
   },
   "source": [
    "### Construção de Heatmaps"
   ]
  },
  {
   "cell_type": "code",
   "execution_count": 12,
   "metadata": {
    "collapsed": false
   },
   "outputs": [],
   "source": [
    "import scipy\n",
    "import matplotsoccer as mps"
   ]
  },
  {
   "cell_type": "code",
   "execution_count": 13,
   "metadata": {
    "collapsed": false
   },
   "outputs": [],
   "source": [
    "def construct_heatmaps(spadl, season_minutes, action_type):\n",
    "    heatmaps = {}\n",
    "    if action_type == 'pass':\n",
    "        heatmaps['start'] = {}\n",
    "        heatmaps['end'] = {}\n",
    "    for player_id in tqdm(season_minutes['player_id'].tolist()):\n",
    "        mask = (spadl['player_id'] == player_id) & (spadl['type_name'] == action_type)\n",
    "        player_actions = spadl[mask]\n",
    "        if action_type != 'pass':\n",
    "            heatmaps[player_id] = mps.count(x=player_actions['start_x'], y=player_actions['start_y'], n=25, m=16)\n",
    "            heatmaps[player_id] *= (90 / season_minutes[season_minutes['player_id'] == player_id]['minutes_played'].values[0])\n",
    "            heatmaps[player_id] = scipy.ndimage.gaussian_filter(heatmaps[player_id], 1)\n",
    "        else:\n",
    "            heatmaps['start'][player_id] = mps.count(x=player_actions['start_x'], y=player_actions['start_y'], n=25, m=16)\n",
    "            heatmaps['start'][player_id] *= (90 / season_minutes[season_minutes['player_id'] == player_id]['minutes_played'].values[0])\n",
    "            heatmaps['start'][player_id] = scipy.ndimage.gaussian_filter(heatmaps['start'][player_id], 1)\n",
    "            heatmaps['end'][player_id] = mps.count(x=player_actions['end_x'], y=player_actions['end_y'], n=25, m=16)\n",
    "            heatmaps['end'][player_id] *= (90 / season_minutes[season_minutes['player_id'] == player_id]['minutes_played'].values[0])\n",
    "            heatmaps['end'][player_id] = scipy.ndimage.gaussian_filter(heatmaps['end'][player_id], 1)\n",
    "\n",
    "    return heatmaps"
   ]
  },
  {
   "cell_type": "code",
   "execution_count": 14,
   "metadata": {
    "collapsed": false
   },
   "outputs": [],
   "source": [
    "season_minutes = {}\n",
    "for league in leagues:\n",
    "    season_minutes[league] = calculate_minutes_per_season(minutes_per_game=game_minutes[league])\n",
    "    mask = (season_minutes[league]['minutes_played'] >= 900) & (season_minutes[league]['player_id'].isin(players.loc[players['role'] != 'Goalkeeper', 'player_id']))\n",
    "    season_minutes[league] = season_minutes[league][mask]"
   ]
  },
  {
   "cell_type": "code",
   "execution_count": 15,
   "metadata": {
    "collapsed": false
   },
   "outputs": [
    {
     "name": "stderr",
     "output_type": "stream",
     "text": [
      "100%|██████████| 309/309 [00:09<00:00, 33.30it/s]\n",
      "100%|██████████| 309/309 [00:09<00:00, 32.18it/s]\n",
      "100%|██████████| 309/309 [00:09<00:00, 33.67it/s]\n",
      "100%|██████████| 309/309 [00:07<00:00, 39.17it/s]\n",
      "100%|██████████| 324/324 [00:08<00:00, 37.05it/s]\n",
      "100%|██████████| 324/324 [00:08<00:00, 36.86it/s]\n",
      "100%|██████████| 324/324 [00:08<00:00, 40.43it/s]\n",
      "100%|██████████| 324/324 [00:08<00:00, 40.49it/s]\n"
     ]
    }
   ],
   "source": [
    "action_types = ['shot', 'pass', 'cross', 'dribble']\n",
    "heatmaps = {}\n",
    "for league in leagues:\n",
    "    heatmaps[league] = {}\n",
    "    for at in action_types:\n",
    "        heatmaps[league][at] = construct_heatmaps(spadl=spadl[league], season_minutes=season_minutes[league], action_type=at)"
   ]
  },
  {
   "cell_type": "code",
   "execution_count": 16,
   "metadata": {
    "collapsed": false
   },
   "outputs": [
    {
     "data": {
      "image/png": "[encoded data removed]",
      "text/plain": [
       "<Figure size 640x480 with 1 Axes>"
      ]
     },
     "metadata": {},
     "output_type": "display_data"
    },
    {
     "data": {
      "text/plain": [
       "<Axes: >"
      ]
     },
     "execution_count": 16,
     "metadata": {},
     "output_type": "execute_result"
    }
   ],
   "source": [
    "mps.heatmap(heatmaps['Spain']['shot'][3359])"
   ]
  },
  {
   "attachments": {},
   "cell_type": "markdown",
   "metadata": {},
   "source": [
    "### O que foi feito\n",
    "Nesse trecho de código é feita a construção de heatmaps para cada liga, conforme descrito na seção 4.2 do paper. Para isso, foi criada uma função que recebe um dataframe SPADL e retorna um dicionário com os heatmaps todos os jogadores. Em seguida, foi chamada a função para cada liga dentro de um for, retornando um dicionário de ligas contendo dicionários de tipos de ações.\n",
    "\n",
    "Por fim, o heatmap de chutes na liga espanhola é plotado para iustrar o resultado."
   ]
  },
  {
   "cell_type": "markdown",
   "metadata": {
    "collapsed": false
   },
   "source": [
    "### Comprimindo heatmaps para vetores"
   ]
  },
  {
   "cell_type": "code",
   "execution_count": 17,
   "metadata": {
    "collapsed": false
   },
   "outputs": [],
   "source": [
    "def heatmaps_to_vectors(heatmaps, action_type):\n",
    "    if action_type != 'pass':\n",
    "        vectorized_heatmaps = np.array([heatmaps[player_id].reshape(-1) for player_id in heatmaps.keys()])\n",
    "    else:\n",
    "        vectorized_heatmaps = np.array([np.concatenate([heatmaps['start'][player_id].reshape(-1), heatmaps['end'][player_id].reshape(-1)]) for player_id in heatmaps['start'].keys()])\n",
    "\n",
    "    return vectorized_heatmaps"
   ]
  },
  {
   "cell_type": "code",
   "execution_count": 18,
   "metadata": {
    "collapsed": false
   },
   "outputs": [],
   "source": [
    "vectorized_heatmaps = {}\n",
    "for league in leagues:\n",
    "    vectorized_heatmaps[league] = {}\n",
    "    for act_type in action_types:\n",
    "        vectorized_heatmaps[league][act_type] = heatmaps_to_vectors(heatmaps=heatmaps[league][act_type], action_type=act_type)"
   ]
  },
  {
   "attachments": {},
   "cell_type": "markdown",
   "metadata": {},
   "source": [
    "### O que foi feito\n",
    "Uma vez montados os heatmaps, partimos para comprimí-los para vetores (seção 4.3 -\n",
    "Compressing Heatmaps to Vectors). Para isso, comprimimos cada heatmap para um vetor de comprimento m*n, onde m é o número de linhas e n o número de colunas do grid montado sobre o campo. A partir disso construímos uma matriz cujas colunas são os vetores descritos."
   ]
  },
  {
   "attachments": {},
   "cell_type": "markdown",
   "metadata": {
    "collapsed": false
   },
   "source": [
    "### NMF (non-negative matrix factorization)"
   ]
  },
  {
   "cell_type": "code",
   "execution_count": 19,
   "metadata": {
    "collapsed": false
   },
   "outputs": [],
   "source": [
    "from sklearn.decomposition import NMF"
   ]
  },
  {
   "cell_type": "code",
   "execution_count": 20,
   "metadata": {
    "collapsed": false
   },
   "outputs": [],
   "source": [
    "def nmf_decomposition(vectorized_heatmaps, n_components):\n",
    "    nmf = NMF(n_components=n_components, init='nndsvda', random_state=0)\n",
    "    nmf.fit(vectorized_heatmaps)\n",
    "\n",
    "    return nmf"
   ]
  },
  {
   "cell_type": "code",
   "execution_count": 21,
   "metadata": {
    "collapsed": false
   },
   "outputs": [],
   "source": [
    "n_components = {'shot': 4, 'pass': 5, 'cross': 4, 'dribble': 5}\n",
    "concat_vectors = {}\n",
    "nmfs = {}\n",
    "for act_type in action_types:\n",
    "    concat_vectors[act_type] = np.concatenate([vectorized_heatmaps['England'][act_type], vectorized_heatmaps['Spain'][act_type]])\n",
    "    nmfs[act_type] = nmf_decomposition(vectorized_heatmaps=concat_vectors[act_type], n_components=n_components[act_type])"
   ]
  },
  {
   "attachments": {},
   "cell_type": "markdown",
   "metadata": {},
   "source": [
    "### O que foi feito\n",
    "Conforme descrito na seção 4 - Building Player Vectors, uma vez que remodelamos as matrizes obtidas por ação por jogador em vetores e agrupamos por tipo de ação, obtendo matrizes grandes, que descrevem o estilo de jogo de todos os jogadores para aquele tipo específico de ação, devemos aplicar o NMF. Essa técnica é utilizada para reduzir a dimensionalidade dos dados, de forma que possamos obter uma representação mais compacta dos mesmos.\n",
    "\n",
    "O que obtemos são matrizes W e H cuja multiplicação aproxima a matriz original. A matriz W é a matriz de características, que descreve o estilo de jogo de cada jogador. A matriz H é a matriz de pesos, que descreve a importância de cada característica para cada tipo de ação."
   ]
  },
  {
   "cell_type": "markdown",
   "metadata": {
    "collapsed": false
   },
   "source": [
    "### Reconstruction Evaluation"
   ]
  },
  {
   "cell_type": "code",
   "execution_count": 22,
   "metadata": {
    "collapsed": false
   },
   "outputs": [
    {
     "name": "stdout",
     "output_type": "stream",
     "text": [
      "shot Reconstruction evaluation\n",
      "\n",
      "Reconstruction error from NMF object: 1.3224879226321518\n",
      "Manual reconstruction error: 1.3224879184800893\n",
      "Mean reconstruction error: 0.0033062197962002234\n",
      "--------------------------------\n",
      "\n",
      "pass Reconstruction evaluation\n",
      "\n",
      "Reconstruction error from NMF object: 28.196261893627756\n",
      "Manual reconstruction error: 28.196261647153566\n",
      "Mean reconstruction error: 0.035245327058941955\n",
      "--------------------------------\n",
      "\n",
      "cross Reconstruction evaluation\n",
      "\n",
      "Reconstruction error from NMF object: 2.3365384800195814\n",
      "Manual reconstruction error: 2.336538445866538\n",
      "Mean reconstruction error: 0.005841346114666345\n",
      "--------------------------------\n",
      "\n",
      "dribble Reconstruction evaluation\n",
      "\n",
      "Reconstruction error from NMF object: 4.008096593968764\n",
      "Manual reconstruction error: 4.008096580590021\n",
      "Mean reconstruction error: 0.010020241451475051\n",
      "--------------------------------\n",
      "\n"
     ]
    }
   ],
   "source": [
    "for act_type in action_types:\n",
    "    print('{} Reconstruction evaluation\\n'.format(act_type))\n",
    "    print('Reconstruction error from NMF object: {}'.format(nmfs[act_type].reconstruction_err_))\n",
    "    reconst_vectors = np.dot(nmfs[act_type].components_.T, nmfs[act_type].transform(concat_vectors[act_type]).T).T\n",
    "    reconst_error = np.sqrt(np.sum((concat_vectors[act_type] - reconst_vectors) ** 2))\n",
    "    print('Manual reconstruction error: {}'.format(reconst_error))\n",
    "    print('Mean reconstruction error: {}'.format(reconst_error / (concat_vectors[act_type].shape[1])))\n",
    "    print('--------------------------------\\n')"
   ]
  },
  {
   "attachments": {},
   "cell_type": "markdown",
   "metadata": {},
   "source": [
    "### O que foi feito\n",
    "Como descrito anteriormente, o uso da técnica de NMF visa reduzir a dimensionalidade dos dados. Isso nos retorna uma aproximação da matriz original(M) separada em dois componentes: W e H. Aqui foi avaliada a qualidade de reconstrução de M para cada tipo de ação."
   ]
  },
  {
   "cell_type": "markdown",
   "metadata": {
    "collapsed": false
   },
   "source": [
    "### Deanonymization Evaluation"
   ]
  },
  {
   "cell_type": "code",
   "execution_count": 23,
   "metadata": {
    "collapsed": false
   },
   "outputs": [],
   "source": [
    "matches_1st = {}\n",
    "matches_2nd = {}\n",
    "spadl_1st = {}\n",
    "spadl_2nd = {}\n",
    "season_minutes_1st = {}\n",
    "season_minutes_2nd = {}\n",
    "for league in leagues:\n",
    "    matches[league] = matches[league].sort_values(by='dateutc').reset_index(drop=True)\n",
    "    matches_1st[league] = matches[league].loc[: int(len(matches[league]) / 2) - 1, 'wyId'].values.tolist()\n",
    "    matches_2nd[league] = matches[league].loc[int(len(matches[league]) / 2) :, 'wyId'].values.tolist()\n",
    "    season_minutes_1st[league] = calculate_minutes_per_season(game_minutes[league][game_minutes[league]['game_id'].isin(matches_1st[league])])\n",
    "    season_minutes_2nd[league] = calculate_minutes_per_season(game_minutes[league][game_minutes[league]['game_id'].isin(matches_2nd[league])])\n",
    "    season_minutes_1st[league] = season_minutes_1st[league][season_minutes_1st[league]['minutes_played'] >= 900]\n",
    "    season_minutes_2nd[league] = season_minutes_2nd[league][season_minutes_2nd[league]['minutes_played'] >= 900]\n",
    "    season_minutes_1st[league] = season_minutes_1st[league][season_minutes_1st[league]['player_id'].isin(season_minutes_2nd[league]['player_id'])]\n",
    "    season_minutes_2nd[league] = season_minutes_2nd[league][season_minutes_2nd[league]['player_id'].isin(season_minutes_1st[league]['player_id'])]\n",
    "    mask_1st = (spadl[league]['game_id'].isin(matches_1st[league])) & (spadl[league]['player_id'].isin(season_minutes_1st[league]['player_id']))\n",
    "    spadl_1st[league] = spadl[league][mask_1st]\n",
    "    mask_2nd = (spadl[league]['game_id'].isin(matches_2nd[league])) & (spadl[league]['player_id'].isin(season_minutes_2nd[league]['player_id']))\n",
    "    spadl_2nd[league] = spadl[league][mask_2nd]"
   ]
  },
  {
   "cell_type": "code",
   "execution_count": 24,
   "metadata": {
    "collapsed": false
   },
   "outputs": [
    {
     "name": "stderr",
     "output_type": "stream",
     "text": [
      "100%|██████████| 144/144 [00:01<00:00, 100.40it/s]\n",
      "100%|██████████| 144/144 [00:01<00:00, 101.28it/s]\n",
      "100%|██████████| 144/144 [00:01<00:00, 82.51it/s]\n",
      "100%|██████████| 144/144 [00:01<00:00, 88.03it/s]\n",
      "100%|██████████| 144/144 [00:01<00:00, 104.67it/s]\n",
      "100%|██████████| 144/144 [00:01<00:00, 105.12it/s]\n",
      "100%|██████████| 144/144 [00:01<00:00, 110.91it/s]\n",
      "100%|██████████| 144/144 [00:01<00:00, 114.04it/s]\n",
      "100%|██████████| 154/154 [00:01<00:00, 110.30it/s]\n",
      "100%|██████████| 154/154 [00:01<00:00, 103.65it/s]\n",
      "100%|██████████| 154/154 [00:01<00:00, 88.44it/s]\n",
      "100%|██████████| 154/154 [00:01<00:00, 88.73it/s]\n",
      "100%|██████████| 154/154 [00:01<00:00, 117.61it/s]\n",
      "100%|██████████| 154/154 [00:01<00:00, 121.12it/s]\n",
      "100%|██████████| 154/154 [00:01<00:00, 106.08it/s]\n",
      "100%|██████████| 154/154 [00:01<00:00, 116.75it/s]\n"
     ]
    }
   ],
   "source": [
    "heatmaps_1st = {}\n",
    "heatmaps_2nd = {}\n",
    "for league in leagues:\n",
    "    heatmaps_1st[league] = {}\n",
    "    heatmaps_2nd[league] = {}\n",
    "    for at in action_types:\n",
    "        heatmaps_1st[league][at] = construct_heatmaps(spadl=spadl_1st[league], season_minutes=season_minutes_1st[league], action_type=at)\n",
    "        heatmaps_2nd[league][at] = construct_heatmaps(spadl=spadl_2nd[league], season_minutes=season_minutes_2nd[league], action_type=at)"
   ]
  },
  {
   "cell_type": "code",
   "execution_count": 25,
   "metadata": {
    "collapsed": false
   },
   "outputs": [],
   "source": [
    "vectorized_heatmaps_1st = {}\n",
    "vectorized_heatmaps_2nd = {}\n",
    "for league in leagues:\n",
    "    vectorized_heatmaps_1st[league] = {}\n",
    "    vectorized_heatmaps_2nd[league] = {}\n",
    "    for act_type in action_types:\n",
    "        vectorized_heatmaps_1st[league][act_type] = heatmaps_to_vectors(heatmaps=heatmaps_1st[league][act_type], action_type=act_type)\n",
    "        vectorized_heatmaps_2nd[league][act_type] = heatmaps_to_vectors(heatmaps=heatmaps_2nd[league][act_type], action_type=act_type)"
   ]
  },
  {
   "cell_type": "code",
   "execution_count": 26,
   "metadata": {
    "collapsed": false
   },
   "outputs": [],
   "source": [
    "def coefficients_transform(vectorized_heatmaps, nmf):\n",
    "    return nmf.transform(vectorized_heatmaps)"
   ]
  },
  {
   "cell_type": "code",
   "execution_count": 27,
   "metadata": {
    "collapsed": false
   },
   "outputs": [],
   "source": [
    "vectorized_coefs_1st = {}\n",
    "vectorized_coefs_2nd = {}\n",
    "for league in leagues:\n",
    "    vectorized_coefs_1st[league] = {}\n",
    "    vectorized_coefs_2nd[league] = {}\n",
    "    for act_type in action_types:\n",
    "        vectorized_coefs_1st[league][act_type] = coefficients_transform(vectorized_heatmaps=vectorized_heatmaps_1st[league][act_type], nmf=nmfs[act_type])\n",
    "        vectorized_coefs_2nd[league][act_type] = coefficients_transform(vectorized_heatmaps=vectorized_heatmaps_2nd[league][act_type], nmf=nmfs[act_type])"
   ]
  },
  {
   "cell_type": "code",
   "execution_count": 28,
   "metadata": {
    "collapsed": false
   },
   "outputs": [],
   "source": [
    "player_vectors_1st = {}\n",
    "player_vectors_2nd = {}\n",
    "for league in leagues:\n",
    "    player_vectors_1st[league] = np.concatenate([vectorized_coefs_1st[league][act_type] for act_type in action_types], axis=1)\n",
    "    player_vectors_2nd[league] = np.concatenate([vectorized_coefs_2nd[league][act_type] for act_type in action_types], axis=1)"
   ]
  },
  {
   "cell_type": "code",
   "execution_count": 29,
   "metadata": {
    "collapsed": false
   },
   "outputs": [],
   "source": [
    "player_vectors_1st = np.concatenate([player_vectors_1st[league] for league in leagues])\n",
    "player_vectors_2nd = np.concatenate([player_vectors_2nd[league] for league in leagues])"
   ]
  },
  {
   "cell_type": "code",
   "execution_count": 30,
   "metadata": {
    "collapsed": false
   },
   "outputs": [],
   "source": [
    "player_ids = []\n",
    "for league in leagues:\n",
    "    player_ids += list(heatmaps_1st[league]['shot'].keys())"
   ]
  },
  {
   "cell_type": "code",
   "execution_count": 31,
   "metadata": {
    "collapsed": false
   },
   "outputs": [],
   "source": [
    "from sklearn.metrics import pairwise_distances"
   ]
  },
  {
   "cell_type": "code",
   "execution_count": 32,
   "metadata": {
    "collapsed": false
   },
   "outputs": [],
   "source": [
    "D = pairwise_distances(player_vectors_1st, player_vectors_2nd, metric=\"manhattan\")\n",
    "\n",
    "# sort each row\n",
    "# k_d = np.sort(D, axis=1)\n",
    "# sort each row and replace distances by index\n",
    "k_i = np.argsort(D, axis=1)\n",
    "# replace indices by player ids\n",
    "p_i = np.take(player_ids, k_i, axis=0)\n",
    "\n",
    "rs = np.argmax(np.array([p_i[i, :] == player_ids[i] for i in range(p_i.shape[0])]), axis=1)\n",
    "\n",
    "def mean_reciprocal_rank(rs):\n",
    "    return np.mean(1. / (rs + 1))\n",
    "\n",
    "def top_k(rs, k):\n",
    "    return (rs < k).sum() / len(rs)\n",
    "\n",
    "mrr = mean_reciprocal_rank(rs)\n",
    "top1 = top_k(rs, 1)\n",
    "top3 = top_k(rs, 3)\n",
    "top5 = top_k(rs, 5)\n",
    "top10 = top_k(rs, 10)"
   ]
  },
  {
   "cell_type": "code",
   "execution_count": 33,
   "metadata": {
    "collapsed": false
   },
   "outputs": [
    {
     "name": "stdout",
     "output_type": "stream",
     "text": [
      "Top 1 = 38.3%\n",
      "Top 3 = 61.4%\n",
      "Top 5 = 70.5%\n",
      "Top 10 = 81.9%\n",
      "MRR = 0.532\n"
     ]
    }
   ],
   "source": [
    "print('Top 1 = {}%'.format(round(top1 * 100, 1)))\n",
    "print('Top 3 = {}%'.format(round(top3 * 100, 1)))\n",
    "print('Top 5 = {}%'.format(round(top5 * 100, 1)))\n",
    "print('Top 10 = {}%'.format(round(top10 * 100, 1)))\n",
    "print('MRR = {}'.format(round(mrr, 3)))"
   ]
  },
  {
   "attachments": {},
   "cell_type": "markdown",
   "metadata": {},
   "source": [
    "### O que foi feito\n",
    "Nesse trecho foram aplicadas as técnicas definidas no paper e suas funções correspondentes aqui construídas e descritas. Trata-se de uma avaliação similar à realizada na seção 5.4 - Player Retrieval from Anonymized Match Event Stream Data.\n",
    "\n",
    "Nesse sentido foram construidos os heatmaps e seus respectivos vetores a partir das ações de todos os jogadores, feito o NMF e, então, construídos os vetores de características de cada jogador. Em seguida, obtemos uma série de ações anônimas e novamente construímos vetores de jogadores. Por fim comparamos os dois tipos de vetores e rankeamos os jogadores mais similares.\n",
    "\n",
    "Apresentamos os resultados finais em termos de similaridade com os topos dos rankings para cada jogador e também o MRR (Mean Reciprocal Rank) para cada liga."
   ]
  },
  {
   "cell_type": "markdown",
   "metadata": {
    "collapsed": false
   },
   "source": [
    "### Explore Similar Players"
   ]
  },
  {
   "cell_type": "code",
   "execution_count": 34,
   "metadata": {
    "collapsed": false
   },
   "outputs": [],
   "source": [
    "vectorized_coefs = {}\n",
    "for league in leagues:\n",
    "    vectorized_coefs[league] = {}\n",
    "    for act_type in action_types:\n",
    "        vectorized_coefs[league][act_type] = coefficients_transform(vectorized_heatmaps=vectorized_heatmaps[league][act_type], nmf=nmfs[act_type])"
   ]
  },
  {
   "cell_type": "code",
   "execution_count": 35,
   "metadata": {
    "collapsed": false
   },
   "outputs": [],
   "source": [
    "player_vectors = {}\n",
    "for league in leagues:\n",
    "    player_vectors[league] = np.concatenate([vectorized_coefs[league][act_type] for act_type in action_types], axis=1)"
   ]
  },
  {
   "cell_type": "code",
   "execution_count": 36,
   "metadata": {
    "collapsed": false
   },
   "outputs": [],
   "source": [
    "player_vectors = np.concatenate([player_vectors[league] for league in leagues])"
   ]
  },
  {
   "cell_type": "code",
   "execution_count": 37,
   "metadata": {
    "collapsed": false
   },
   "outputs": [],
   "source": [
    "player_ids = []\n",
    "for league in leagues:\n",
    "    player_ids += list(heatmaps[league]['shot'].keys())"
   ]
  },
  {
   "cell_type": "code",
   "execution_count": 38,
   "metadata": {
    "collapsed": false
   },
   "outputs": [],
   "source": [
    "D = pairwise_distances(player_vectors, player_vectors, metric=\"manhattan\")\n",
    "# sort each row\n",
    "# k_d = np.sort(D, axis=1)\n",
    "# sort each row and replace distances by index\n",
    "k_i = np.argsort(D, axis=1)\n",
    "# replace indices by player ids\n",
    "p_i = np.take(player_ids, k_i, axis=0)"
   ]
  },
  {
   "cell_type": "code",
   "execution_count": 39,
   "metadata": {
    "collapsed": false
   },
   "outputs": [],
   "source": [
    "similar_players = pd.DataFrame(data=p_i[:, : 11], columns=['player_id'] + ['{}th_similar'.format(i) for i in range(1, 11)])"
   ]
  },
  {
   "cell_type": "code",
   "execution_count": 40,
   "metadata": {
    "collapsed": false
   },
   "outputs": [],
   "source": [
    "players = players[players['player_id'].isin(similar_players['player_id'])].reset_index(drop=True)"
   ]
  },
  {
   "cell_type": "code",
   "execution_count": 41,
   "metadata": {
    "collapsed": false
   },
   "outputs": [],
   "source": [
    "id_to_name = {}\n",
    "for i in range(len(players)):\n",
    "    id_to_name[players.loc[i, 'player_id']] = players.loc[i, 'player_name']"
   ]
  },
  {
   "cell_type": "code",
   "execution_count": 42,
   "metadata": {
    "collapsed": false
   },
   "outputs": [],
   "source": [
    "similar_players = similar_players.replace(id_to_name)"
   ]
  },
  {
   "cell_type": "code",
   "execution_count": 44,
   "metadata": {},
   "outputs": [
    {
     "data": {
      "text/html": [
       "<div>\n",
       "<style scoped>\n",
       "    .dataframe tbody tr th:only-of-type {\n",
       "        vertical-align: middle;\n",
       "    }\n",
       "\n",
       "    .dataframe tbody tr th {\n",
       "        vertical-align: top;\n",
       "    }\n",
       "\n",
       "    .dataframe thead th {\n",
       "        text-align: right;\n",
       "    }\n",
       "</style>\n",
       "<table border=\"1\" class=\"dataframe\">\n",
       "  <thead>\n",
       "    <tr style=\"text-align: right;\">\n",
       "      <th></th>\n",
       "      <th>player_id</th>\n",
       "      <th>1th_similar</th>\n",
       "      <th>2th_similar</th>\n",
       "      <th>3th_similar</th>\n",
       "      <th>4th_similar</th>\n",
       "      <th>5th_similar</th>\n",
       "      <th>6th_similar</th>\n",
       "      <th>7th_similar</th>\n",
       "      <th>8th_similar</th>\n",
       "      <th>9th_similar</th>\n",
       "      <th>10th_similar</th>\n",
       "    </tr>\n",
       "  </thead>\n",
       "  <tbody>\n",
       "    <tr>\n",
       "      <th>0</th>\n",
       "      <td>Toby Alderweireld</td>\n",
       "      <td>Aïssa Mandi</td>\n",
       "      <td>David López Silva</td>\n",
       "      <td>Raphaël Varane</td>\n",
       "      <td>Gerard Piqué Bernabéu</td>\n",
       "      <td>Aritz Elustondo Irribaria</td>\n",
       "      <td>Unai Núñez Gestoso</td>\n",
       "      <td>Ezequiel Marcelo Garay</td>\n",
       "      <td>Jack Stephens</td>\n",
       "      <td>Facundo Sebastián Roncaglia</td>\n",
       "      <td>Daniele Bonera</td>\n",
       "    </tr>\n",
       "    <tr>\n",
       "      <th>1</th>\n",
       "      <td>Jan Vertonghen</td>\n",
       "      <td>Samuel Yves Umtiti</td>\n",
       "      <td>Zouhair Feddal</td>\n",
       "      <td>Íñigo Martínez Berridi</td>\n",
       "      <td>Wesley Hoedt</td>\n",
       "      <td>Clément Lenglet</td>\n",
       "      <td>Aymeric  Laporte</td>\n",
       "      <td>Anaitz Arbilla Zabala</td>\n",
       "      <td>Pedro Bigas Rigo</td>\n",
       "      <td>Sergio Ramos García</td>\n",
       "      <td>Antonio Rüdiger</td>\n",
       "    </tr>\n",
       "    <tr>\n",
       "      <th>2</th>\n",
       "      <td>Christian  Dannemann Eriksen</td>\n",
       "      <td>Mesut Özil</td>\n",
       "      <td>Kevin De Bruyne</td>\n",
       "      <td>Henrikh Mkhitaryan</td>\n",
       "      <td>Jesse Lingard</td>\n",
       "      <td>Francesc Fàbregas i Soler</td>\n",
       "      <td>Joan Jordán Moreno</td>\n",
       "      <td>Aaron Ramsey</td>\n",
       "      <td>Alex  Pritchard</td>\n",
       "      <td>Pablo Fornals Malla</td>\n",
       "      <td>Paul Pogba</td>\n",
       "    </tr>\n",
       "    <tr>\n",
       "      <th>3</th>\n",
       "      <td>Ragnar Klavan</td>\n",
       "      <td>Andreu Fontàs Prat</td>\n",
       "      <td>Pedro Bigas Rigo</td>\n",
       "      <td>Thomas Vermaelen</td>\n",
       "      <td>Víctor Ruíz Torre</td>\n",
       "      <td>Sergio Ramos García</td>\n",
       "      <td>Alfie Mawson</td>\n",
       "      <td>Jeison Fabián Murillo Cerón</td>\n",
       "      <td>Clément Lenglet</td>\n",
       "      <td>Zouhair Feddal</td>\n",
       "      <td>Aymeric  Laporte</td>\n",
       "    </tr>\n",
       "    <tr>\n",
       "      <th>4</th>\n",
       "      <td>Johann  Berg Guðmunds­son</td>\n",
       "      <td>Matt Ritchie</td>\n",
       "      <td>Andros Townsend</td>\n",
       "      <td>David Remeseiro Salgueiro</td>\n",
       "      <td>Julián Omar Ramos Suárez</td>\n",
       "      <td>Michail Antonio</td>\n",
       "      <td>Theo  Walcott</td>\n",
       "      <td>Ibai Gómez Pérez</td>\n",
       "      <td>Markel Susaeta Laskurain</td>\n",
       "      <td>Aaron  Lennon</td>\n",
       "      <td>Sergio Gontán Gallardo</td>\n",
       "    </tr>\n",
       "    <tr>\n",
       "      <th>...</th>\n",
       "      <td>...</td>\n",
       "      <td>...</td>\n",
       "      <td>...</td>\n",
       "      <td>...</td>\n",
       "      <td>...</td>\n",
       "      <td>...</td>\n",
       "      <td>...</td>\n",
       "      <td>...</td>\n",
       "      <td>...</td>\n",
       "      <td>...</td>\n",
       "      <td>...</td>\n",
       "    </tr>\n",
       "    <tr>\n",
       "      <th>628</th>\n",
       "      <td>Roberto Suárez Pier</td>\n",
       "      <td>Ahmed Hegazy</td>\n",
       "      <td>Martín Maximiliano Mantovani</td>\n",
       "      <td>Bruno González Cabrera</td>\n",
       "      <td>Scott Dann</td>\n",
       "      <td>Rodrigo Ely</td>\n",
       "      <td>Alexis Ruano Delgado</td>\n",
       "      <td>James Tomkins</td>\n",
       "      <td>David Rodríguez Lombán</td>\n",
       "      <td>Ashley Williams</td>\n",
       "      <td>Claudio Ariel Yacob</td>\n",
       "    </tr>\n",
       "    <tr>\n",
       "      <th>629</th>\n",
       "      <td>Daniel Raba Antolí</td>\n",
       "      <td>Riyad Mahrez</td>\n",
       "      <td>Brais Méndez Portela</td>\n",
       "      <td>André Martín Carrillo Díaz</td>\n",
       "      <td>Carlos Soler Barragán</td>\n",
       "      <td>Xherdan Shaqiri</td>\n",
       "      <td>Anthony Knockaert</td>\n",
       "      <td>Ángel Martín Correa</td>\n",
       "      <td>Jordon  Ibe</td>\n",
       "      <td>Sergio Gontán Gallardo</td>\n",
       "      <td>Andros Townsend</td>\n",
       "    </tr>\n",
       "    <tr>\n",
       "      <th>630</th>\n",
       "      <td>Oghenekaro Etebo</td>\n",
       "      <td>Harry Arter</td>\n",
       "      <td>Etienne Capoue</td>\n",
       "      <td>Mario Lemina</td>\n",
       "      <td>Álvaro Medrán Just</td>\n",
       "      <td>Jefferson Andrés Lerma Solís</td>\n",
       "      <td>Mikel Merino Zazón</td>\n",
       "      <td>Geoffrey Kondogbia</td>\n",
       "      <td>Igor Zubeldía Elorza</td>\n",
       "      <td>Andrew Surman</td>\n",
       "      <td>Idrissa Gana Gueye</td>\n",
       "    </tr>\n",
       "    <tr>\n",
       "      <th>631</th>\n",
       "      <td>Youssef En-Nesyri</td>\n",
       "      <td>Dwight Gayle</td>\n",
       "      <td>Munir El Haddadi Mohamed</td>\n",
       "      <td>Jonathan Calleri</td>\n",
       "      <td>Manolo Gabbiadini</td>\n",
       "      <td>José Salomón Rondón Giménez</td>\n",
       "      <td>Aritz Aduriz Zubeldia</td>\n",
       "      <td>Cenk Tosun</td>\n",
       "      <td>Carlos Arturo Bacca Ahumada</td>\n",
       "      <td>Troy Deeney</td>\n",
       "      <td>Jamie Vardy</td>\n",
       "    </tr>\n",
       "    <tr>\n",
       "      <th>632</th>\n",
       "      <td>Martín Aguirregabiria Padilla</td>\n",
       "      <td>Damián Nicolás Suárez Suárez</td>\n",
       "      <td>Pedro López Muñoz</td>\n",
       "      <td>Pablo Javier Zabaleta Girod</td>\n",
       "      <td>Matthew Lowton</td>\n",
       "      <td>Joseba Zaldúa Bengoetxea</td>\n",
       "      <td>DeAndre Yedlin</td>\n",
       "      <td>Tom Smith</td>\n",
       "      <td>Jonjoe Kenny</td>\n",
       "      <td>Roberto José Rosales Altuve</td>\n",
       "      <td>Martín Montoya Torralbo</td>\n",
       "    </tr>\n",
       "  </tbody>\n",
       "</table>\n",
       "<p>633 rows × 11 columns</p>\n",
       "</div>"
      ],
      "text/plain": [
       "                         player_id                   1th_similar  \\\n",
       "0                Toby Alderweireld                   Aïssa Mandi   \n",
       "1                   Jan Vertonghen            Samuel Yves Umtiti   \n",
       "2     Christian  Dannemann Eriksen                    Mesut Özil   \n",
       "3                    Ragnar Klavan            Andreu Fontàs Prat   \n",
       "4        Johann  Berg Guðmunds­son                  Matt Ritchie   \n",
       "..                             ...                           ...   \n",
       "628            Roberto Suárez Pier                  Ahmed Hegazy   \n",
       "629             Daniel Raba Antolí                  Riyad Mahrez   \n",
       "630               Oghenekaro Etebo                   Harry Arter   \n",
       "631              Youssef En-Nesyri                  Dwight Gayle   \n",
       "632  Martín Aguirregabiria Padilla  Damián Nicolás Suárez Suárez   \n",
       "\n",
       "                      2th_similar                  3th_similar  \\\n",
       "0               David López Silva               Raphaël Varane   \n",
       "1                  Zouhair Feddal       Íñigo Martínez Berridi   \n",
       "2                 Kevin De Bruyne           Henrikh Mkhitaryan   \n",
       "3                Pedro Bigas Rigo             Thomas Vermaelen   \n",
       "4                 Andros Townsend    David Remeseiro Salgueiro   \n",
       "..                            ...                          ...   \n",
       "628  Martín Maximiliano Mantovani       Bruno González Cabrera   \n",
       "629          Brais Méndez Portela   André Martín Carrillo Díaz   \n",
       "630                Etienne Capoue                 Mario Lemina   \n",
       "631      Munir El Haddadi Mohamed             Jonathan Calleri   \n",
       "632             Pedro López Muñoz  Pablo Javier Zabaleta Girod   \n",
       "\n",
       "                  4th_similar                   5th_similar  \\\n",
       "0       Gerard Piqué Bernabéu     Aritz Elustondo Irribaria   \n",
       "1                Wesley Hoedt               Clément Lenglet   \n",
       "2               Jesse Lingard     Francesc Fàbregas i Soler   \n",
       "3           Víctor Ruíz Torre           Sergio Ramos García   \n",
       "4    Julián Omar Ramos Suárez               Michail Antonio   \n",
       "..                        ...                           ...   \n",
       "628                Scott Dann                   Rodrigo Ely   \n",
       "629     Carlos Soler Barragán               Xherdan Shaqiri   \n",
       "630        Álvaro Medrán Just  Jefferson Andrés Lerma Solís   \n",
       "631         Manolo Gabbiadini   José Salomón Rondón Giménez   \n",
       "632            Matthew Lowton      Joseba Zaldúa Bengoetxea   \n",
       "\n",
       "               6th_similar                  7th_similar  \\\n",
       "0       Unai Núñez Gestoso       Ezequiel Marcelo Garay   \n",
       "1         Aymeric  Laporte        Anaitz Arbilla Zabala   \n",
       "2       Joan Jordán Moreno                 Aaron Ramsey   \n",
       "3             Alfie Mawson  Jeison Fabián Murillo Cerón   \n",
       "4            Theo  Walcott             Ibai Gómez Pérez   \n",
       "..                     ...                          ...   \n",
       "628   Alexis Ruano Delgado                James Tomkins   \n",
       "629      Anthony Knockaert          Ángel Martín Correa   \n",
       "630     Mikel Merino Zazón           Geoffrey Kondogbia   \n",
       "631  Aritz Aduriz Zubeldia                   Cenk Tosun   \n",
       "632         DeAndre Yedlin                    Tom Smith   \n",
       "\n",
       "                     8th_similar                  9th_similar  \\\n",
       "0                  Jack Stephens  Facundo Sebastián Roncaglia   \n",
       "1               Pedro Bigas Rigo          Sergio Ramos García   \n",
       "2                Alex  Pritchard          Pablo Fornals Malla   \n",
       "3                Clément Lenglet               Zouhair Feddal   \n",
       "4       Markel Susaeta Laskurain                Aaron  Lennon   \n",
       "..                           ...                          ...   \n",
       "628       David Rodríguez Lombán              Ashley Williams   \n",
       "629                  Jordon  Ibe       Sergio Gontán Gallardo   \n",
       "630         Igor Zubeldía Elorza                Andrew Surman   \n",
       "631  Carlos Arturo Bacca Ahumada                  Troy Deeney   \n",
       "632                 Jonjoe Kenny  Roberto José Rosales Altuve   \n",
       "\n",
       "                10th_similar  \n",
       "0             Daniele Bonera  \n",
       "1            Antonio Rüdiger  \n",
       "2                 Paul Pogba  \n",
       "3           Aymeric  Laporte  \n",
       "4     Sergio Gontán Gallardo  \n",
       "..                       ...  \n",
       "628      Claudio Ariel Yacob  \n",
       "629          Andros Townsend  \n",
       "630       Idrissa Gana Gueye  \n",
       "631              Jamie Vardy  \n",
       "632  Martín Montoya Torralbo  \n",
       "\n",
       "[633 rows x 11 columns]"
      ]
     },
     "execution_count": 44,
     "metadata": {},
     "output_type": "execute_result"
    }
   ],
   "source": [
    "similar_players"
   ]
  },
  {
   "attachments": {},
   "cell_type": "markdown",
   "metadata": {},
   "source": [
    "### O que foi feito\n",
    "Usando as técnicas apresentadas até aqui foi possível construir uma tabela que, para cada jogador, fornece um ranking com aqueles cujo estilo de jogo mais se aproxima.\n",
    "Como visto na seção 5.2 - Scouting, essa tabela pode ser usada para encontrar jogadores com estilos de jogo similares àqueles desejados por um clube com fins de contratação.\n",
    "Além disso, esse tipo de dado pode ser usado para avaliar a performance de um jogador em relação àqueles com estilos de jogo similares, como visto na seção 5.3. Outro tipo de uso é na preparação para jogos, na qual os técnicos podem identificar as qualidade de seus adversários, tal como fraquezas do seu time e planejar suas estratégias de acordo com os estilos de jogo apresentados por seus atletas e oponentes."
   ]
  }
 ],
 "metadata": {
  "kernelspec": {
   "display_name": "Python 3",
   "language": "python",
   "name": "python3"
  },
  "language_info": {
   "codemirror_mode": {
    "name": "ipython",
    "version": 3
   },
   "file_extension": ".py",
   "mimetype": "text/x-python",
   "name": "python",
   "nbconvert_exporter": "python",
   "pygments_lexer": "ipython3",
   "version": "3.10.6"
  }
 },
 "nbformat": 4,
 "nbformat_minor": 0
}
