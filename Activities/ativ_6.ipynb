{
 "cells": [
  {
   "cell_type": "markdown",
   "source": [
    "# [CDAF] Atividade 6"
   ],
   "metadata": {
    "collapsed": false
   }
  },
  {
   "cell_type": "markdown",
   "source": [
    "## Nome e matrícula\n",
    "Nome: XXXXXXXXXXXXXXXX\n",
    "Matrícula: XXXXXXXXXX"
   ],
   "metadata": {
    "collapsed": false
   }
  },
  {
   "cell_type": "markdown",
   "source": [
    "## Referências\n",
    "- [1] https://www.ecmlpkdd2019.org/downloads/paper/701.pdf\n",
    "- [2] https://dtai.cs.kuleuven.be/sports/blog/player-vectors:-characterizing-soccer-players'-playing-style\n",
    "- [3] https://dtai.cs.kuleuven.be/sports/player_vectors\n",
    "- [4] https://github.com/TomDecroos/matplotsoccer"
   ],
   "metadata": {
    "collapsed": false
   }
  },
  {
   "cell_type": "markdown",
   "source": [
    "## Introdução\n",
    "- Nessa atividade, temos implementado o \"Player Vectors\", método proposto em [1] para caracterizar o estilo de jogo de jogadores baseado nas localizações que realizam cada tipo de ação.\n",
    "- [2] apresenta o conteúdo do paper em [1] de forma mais resumida e visual, em formato de blog.\n",
    "- [3] oferece uma demo interativa com uma aplicação do método no contexto de comparar a similaridade entre jogadores.\n",
    "- [4] é uma biblioteca para plotar visualizações de partidas de futebol. Além disso, ela tem uma função pronta para criar heatmaps de ações de jogadores, que é util para o nosso contexto."
   ],
   "metadata": {
    "collapsed": false
   }
  },
  {
   "cell_type": "markdown",
   "source": [
    "## Intruções\n",
    "- Para cada header abaixo do notebook, vocês devem explicar o que foi feito e à qual seção/subseção/equação de [1] ela corresponde. Justifique suas respostas.\n",
    "- Além disso, vocês devem montar um diagrama do fluxo de funções/tarefas de toda a pipeline do Player Vectors abaixo. Esse diagrama deve ser enviado como arquivo na submissão do Moodle, para além deste notebook."
   ],
   "metadata": {
    "collapsed": false
   }
  },
  {
   "cell_type": "markdown",
   "source": [
    "### Carregando os dados"
   ],
   "metadata": {
    "collapsed": false
   }
  },
  {
   "cell_type": "code",
   "execution_count": 1,
   "outputs": [],
   "source": [
    "import numpy as np\n",
    "import pandas as pd"
   ],
   "metadata": {
    "collapsed": false
   }
  },
  {
   "cell_type": "code",
   "execution_count": 2,
   "outputs": [],
   "source": [
    "def load_matches(path):\n",
    "    matches = pd.read_json(path_or_buf=path)\n",
    "    # as informações dos times de cada partida estão em um dicionário dentro da coluna 'teamsData', então vamos separar essas informações\n",
    "    team_matches = []\n",
    "    for i in range(len(matches)):\n",
    "        team_match = pd.DataFrame(matches.loc[i, 'teamsData']).T\n",
    "        team_match['matchId'] = matches.loc[i, 'wyId']\n",
    "        team_matches.append(team_match)\n",
    "    team_matches = pd.concat(team_matches).reset_index(drop=True)\n",
    "\n",
    "    return matches, team_matches"
   ],
   "metadata": {
    "collapsed": false
   }
  },
  {
   "cell_type": "code",
   "execution_count": 3,
   "outputs": [],
   "source": [
    "def get_position(x):\n",
    "    return x['name']\n",
    "\n",
    "def load_players(path):\n",
    "    players = pd.read_json(path_or_buf=path)\n",
    "    players['player_name'] = players['firstName'] + ' ' + players['lastName']\n",
    "    players['role'] = players['role'].apply(get_position)\n",
    "    players = players[['wyId', 'player_name', 'role']].rename(columns={'wyId': 'player_id'})\n",
    "\n",
    "    return players"
   ],
   "metadata": {
    "collapsed": false
   }
  },
  {
   "cell_type": "code",
   "execution_count": 4,
   "outputs": [],
   "source": [
    "def load_events(path):\n",
    "    events = pd.read_json(path_or_buf=path)\n",
    "    # pré processamento em colunas da tabela de eventos para facilitar a conversão p/ SPADL\n",
    "    events = events.rename(columns={\n",
    "        'id': 'event_id',\n",
    "        'eventId': 'type_id',\n",
    "        'subEventId': 'subtype_id',\n",
    "        'teamId': 'team_id',\n",
    "        'playerId': 'player_id',\n",
    "        'matchId': 'game_id'\n",
    "    })\n",
    "    events['milliseconds'] = events['eventSec'] * 1000\n",
    "    events['period_id'] = events['matchPeriod'].replace({'1H': 1, '2H': 2})\n",
    "\n",
    "    return events"
   ],
   "metadata": {
    "collapsed": false
   }
  },
  {
   "cell_type": "code",
   "execution_count": 5,
   "outputs": [],
   "source": [
    "def load_minutes_played_per_game(path):\n",
    "    minutes = pd.read_json(path_or_buf=path)\n",
    "    minutes = minutes.rename(columns={\n",
    "        'playerId': 'player_id',\n",
    "        'matchId': 'game_id',\n",
    "        'teamId': 'team_id',\n",
    "        'minutesPlayed': 'minutes_played'\n",
    "    })\n",
    "    minutes = minutes.drop(['shortName', 'teamName', 'red_card'], axis=1)\n",
    "\n",
    "    return minutes"
   ],
   "metadata": {
    "collapsed": false
   }
  },
  {
   "cell_type": "code",
   "execution_count": 6,
   "outputs": [],
   "source": [
    "leagues = ['England', 'Spain']\n",
    "events = {}\n",
    "matches = {}\n",
    "team_matches = {}\n",
    "game_minutes = {}\n",
    "for league in leagues:\n",
    "    path = r'C:\\Users\\Galo\\Hugo_Personal\\Data\\Wyscout_Top_5\\matches\\matches_{}.json'.format(league)\n",
    "    matches[league], team_matches[league] = load_matches(path)\n",
    "    path = r'C:\\Users\\Galo\\Hugo_Personal\\Data\\Wyscout_Top_5\\events\\events_{}.json'.format(league)\n",
    "    events[league] = load_events(path)\n",
    "    path = r'C:\\Users\\Galo\\Hugo_Personal\\Data\\Wyscout_Top_5\\minutes_played\\minutes_played_per_game_{}.json'.format(league)\n",
    "    game_minutes[league] = load_minutes_played_per_game(path)"
   ],
   "metadata": {
    "collapsed": false
   }
  },
  {
   "cell_type": "code",
   "execution_count": 7,
   "outputs": [],
   "source": [
    "path = r'C:\\Users\\Galo\\Hugo_Personal\\Data\\Wyscout_Top_5\\players.json'\n",
    "players = load_players(path)\n",
    "players['player_name'] = players['player_name'].str.decode('unicode-escape')"
   ],
   "metadata": {
    "collapsed": false
   }
  },
  {
   "cell_type": "code",
   "execution_count": 8,
   "outputs": [],
   "source": [
    "def calculate_minutes_per_season(minutes_per_game):\n",
    "    minutes_per_season = minutes_per_game.groupby('player_id', as_index=False)['minutes_played'].sum()\n",
    "\n",
    "    return minutes_per_season"
   ],
   "metadata": {
    "collapsed": false
   }
  },
  {
   "cell_type": "markdown",
   "source": [
    "### SPADL"
   ],
   "metadata": {
    "collapsed": false
   }
  },
  {
   "cell_type": "code",
   "execution_count": 9,
   "outputs": [],
   "source": [
    "from tqdm import tqdm\n",
    "import socceraction.spadl as spd"
   ],
   "metadata": {
    "collapsed": false
   }
  },
  {
   "cell_type": "code",
   "execution_count": 10,
   "outputs": [],
   "source": [
    "def spadl_transform(events, team_matches):\n",
    "    spadl = []\n",
    "    game_ids = events.game_id.unique().tolist()\n",
    "    for g in tqdm(game_ids):\n",
    "        match_events = events.loc[events.game_id == g]\n",
    "        match_home_id = team_matches.loc[(team_matches.matchId == g) & (team_matches.side == 'home'), 'teamId'].values[0]\n",
    "        match_actions = spd.wyscout.convert_to_actions(events=match_events, home_team_id=match_home_id)\n",
    "        match_actions = spd.play_left_to_right(actions=match_actions, home_team_id=match_home_id)\n",
    "        match_actions = spd.add_names(match_actions)\n",
    "        spadl.append(match_actions)\n",
    "    spadl = pd.concat(spadl).reset_index(drop=True)\n",
    "\n",
    "    return spadl"
   ],
   "metadata": {
    "collapsed": false
   }
  },
  {
   "cell_type": "code",
   "execution_count": 11,
   "outputs": [
    {
     "name": "stderr",
     "output_type": "stream",
     "text": [
      "100%|██████████| 380/380 [03:11<00:00,  1.99it/s]\n",
      "100%|██████████| 380/380 [03:06<00:00,  2.03it/s]\n"
     ]
    }
   ],
   "source": [
    "spadl = {}\n",
    "for league in leagues:\n",
    "    spadl[league] = spadl_transform(events=events[league], team_matches=team_matches[league])"
   ],
   "metadata": {
    "collapsed": false
   }
  },
  {
   "cell_type": "markdown",
   "source": [
    "### Construção de Heatmaps"
   ],
   "metadata": {
    "collapsed": false
   }
  },
  {
   "cell_type": "code",
   "execution_count": 12,
   "outputs": [],
   "source": [
    "import scipy\n",
    "import matplotsoccer as mps"
   ],
   "metadata": {
    "collapsed": false
   }
  },
  {
   "cell_type": "code",
   "execution_count": 13,
   "outputs": [],
   "source": [
    "def construct_heatmaps(spadl, season_minutes, action_type):\n",
    "    heatmaps = {}\n",
    "    if action_type == 'pass':\n",
    "        heatmaps['start'] = {}\n",
    "        heatmaps['end'] = {}\n",
    "    for player_id in tqdm(season_minutes['player_id'].tolist()):\n",
    "        mask = (spadl['player_id'] == player_id) & (spadl['type_name'] == action_type)\n",
    "        player_actions = spadl[mask]\n",
    "        if action_type != 'pass':\n",
    "            heatmaps[player_id] = mps.count(x=player_actions['start_x'], y=player_actions['start_y'], n=25, m=16)\n",
    "            heatmaps[player_id] *= (90 / season_minutes[season_minutes['player_id'] == player_id]['minutes_played'].values[0])\n",
    "            heatmaps[player_id] = scipy.ndimage.gaussian_filter(heatmaps[player_id], 1)\n",
    "        else:\n",
    "            heatmaps['start'][player_id] = mps.count(x=player_actions['start_x'], y=player_actions['start_y'], n=25, m=16)\n",
    "            heatmaps['start'][player_id] *= (90 / season_minutes[season_minutes['player_id'] == player_id]['minutes_played'].values[0])\n",
    "            heatmaps['start'][player_id] = scipy.ndimage.gaussian_filter(heatmaps['start'][player_id], 1)\n",
    "            heatmaps['end'][player_id] = mps.count(x=player_actions['end_x'], y=player_actions['end_y'], n=25, m=16)\n",
    "            heatmaps['end'][player_id] *= (90 / season_minutes[season_minutes['player_id'] == player_id]['minutes_played'].values[0])\n",
    "            heatmaps['end'][player_id] = scipy.ndimage.gaussian_filter(heatmaps['end'][player_id], 1)\n",
    "\n",
    "    return heatmaps"
   ],
   "metadata": {
    "collapsed": false
   }
  },
  {
   "cell_type": "code",
   "execution_count": 14,
   "outputs": [],
   "source": [
    "season_minutes = {}\n",
    "for league in leagues:\n",
    "    season_minutes[league] = calculate_minutes_per_season(minutes_per_game=game_minutes[league])\n",
    "    mask = (season_minutes[league]['minutes_played'] >= 900) & (season_minutes[league]['player_id'].isin(players.loc[players['role'] != 'Goalkeeper', 'player_id']))\n",
    "    season_minutes[league] = season_minutes[league][mask]"
   ],
   "metadata": {
    "collapsed": false
   }
  },
  {
   "cell_type": "code",
   "execution_count": 15,
   "outputs": [
    {
     "name": "stderr",
     "output_type": "stream",
     "text": [
      "100%|██████████| 309/309 [00:09<00:00, 33.88it/s]\n",
      "100%|██████████| 309/309 [00:08<00:00, 37.99it/s]\n",
      "100%|██████████| 309/309 [00:07<00:00, 40.33it/s]\n",
      "100%|██████████| 309/309 [00:07<00:00, 41.24it/s]\n",
      "100%|██████████| 324/324 [00:08<00:00, 37.16it/s]\n",
      "100%|██████████| 324/324 [00:08<00:00, 39.30it/s]\n",
      "100%|██████████| 324/324 [00:07<00:00, 41.22it/s]\n",
      "100%|██████████| 324/324 [00:08<00:00, 39.45it/s]\n"
     ]
    }
   ],
   "source": [
    "action_types = ['shot', 'pass', 'cross', 'dribble']\n",
    "heatmaps = {}\n",
    "for league in leagues:\n",
    "    heatmaps[league] = {}\n",
    "    for at in action_types:\n",
    "        heatmaps[league][at] = construct_heatmaps(spadl=spadl[league], season_minutes=season_minutes[league], action_type=at)"
   ],
   "metadata": {
    "collapsed": false
   }
  },
  {
   "cell_type": "code",
   "execution_count": 56,
   "outputs": [
    {
     "data": {
      "text/plain": "<Figure size 432x288 with 1 Axes>",
      "image/png": "[encoded data removed]"
     },
     "metadata": {
      "needs_background": "light"
     },
     "output_type": "display_data"
    },
    {
     "data": {
      "text/plain": "<AxesSubplot:>"
     },
     "execution_count": 56,
     "metadata": {},
     "output_type": "execute_result"
    }
   ],
   "source": [
    "mps.heatmap(heatmaps['Spain']['shot'][3359])"
   ],
   "metadata": {
    "collapsed": false
   }
  },
  {
   "cell_type": "markdown",
   "source": [
    "### Comprimindo heatmaps para vetores"
   ],
   "metadata": {
    "collapsed": false
   }
  },
  {
   "cell_type": "code",
   "execution_count": 16,
   "outputs": [],
   "source": [
    "def heatmaps_to_vectors(heatmaps, action_type):\n",
    "    if action_type != 'pass':\n",
    "        vectorized_heatmaps = np.array([heatmaps[player_id].reshape(-1) for player_id in heatmaps.keys()])\n",
    "    else:\n",
    "        vectorized_heatmaps = np.array([np.concatenate([heatmaps['start'][player_id].reshape(-1), heatmaps['end'][player_id].reshape(-1)]) for player_id in heatmaps['start'].keys()])\n",
    "\n",
    "    return vectorized_heatmaps"
   ],
   "metadata": {
    "collapsed": false
   }
  },
  {
   "cell_type": "code",
   "execution_count": 17,
   "outputs": [],
   "source": [
    "vectorized_heatmaps = {}\n",
    "for league in leagues:\n",
    "    vectorized_heatmaps[league] = {}\n",
    "    for act_type in action_types:\n",
    "        vectorized_heatmaps[league][act_type] = heatmaps_to_vectors(heatmaps=heatmaps[league][act_type], action_type=act_type)"
   ],
   "metadata": {
    "collapsed": false
   }
  },
  {
   "cell_type": "markdown",
   "source": [
    "### NMF"
   ],
   "metadata": {
    "collapsed": false
   }
  },
  {
   "cell_type": "code",
   "execution_count": 18,
   "outputs": [],
   "source": [
    "from sklearn.decomposition import NMF"
   ],
   "metadata": {
    "collapsed": false
   }
  },
  {
   "cell_type": "code",
   "execution_count": 19,
   "outputs": [],
   "source": [
    "def nmf_decomposition(vectorized_heatmaps, n_components):\n",
    "    nmf = NMF(n_components=n_components, init='nndsvda', random_state=0)\n",
    "    nmf.fit(vectorized_heatmaps)\n",
    "\n",
    "    return nmf"
   ],
   "metadata": {
    "collapsed": false
   }
  },
  {
   "cell_type": "code",
   "execution_count": 40,
   "outputs": [],
   "source": [
    "n_components = {'shot': 4, 'pass': 5, 'cross': 4, 'dribble': 5}\n",
    "concat_vectors = {}\n",
    "nmfs = {}\n",
    "for act_type in action_types:\n",
    "    concat_vectors[act_type] = np.concatenate([vectorized_heatmaps['England'][act_type], vectorized_heatmaps['Spain'][act_type]])\n",
    "    nmfs[act_type] = nmf_decomposition(vectorized_heatmaps=concat_vectors[act_type], n_components=n_components[act_type])"
   ],
   "metadata": {
    "collapsed": false
   }
  },
  {
   "cell_type": "markdown",
   "source": [
    "### Reconstruction Evaluation"
   ],
   "metadata": {
    "collapsed": false
   }
  },
  {
   "cell_type": "code",
   "execution_count": 42,
   "outputs": [
    {
     "name": "stdout",
     "output_type": "stream",
     "text": [
      "shot Reconstruction evaluation\n",
      "\n",
      "Reconstruction error from NMF object: 1.322487922632152\n",
      "Manual reconstruction error: 1.322487918480089\n",
      "Mean reconstruction error: 0.0033062197962002225\n",
      "--------------------------------\n",
      "\n",
      "pass Reconstruction evaluation\n",
      "\n",
      "Reconstruction error from NMF object: 28.210655644230798\n",
      "Manual reconstruction error: 28.210655391859135\n",
      "Mean reconstruction error: 0.03526331923982392\n",
      "--------------------------------\n",
      "\n",
      "cross Reconstruction evaluation\n",
      "\n",
      "Reconstruction error from NMF object: 2.3365384800195814\n",
      "Manual reconstruction error: 2.336538445866538\n",
      "Mean reconstruction error: 0.005841346114666345\n",
      "--------------------------------\n",
      "\n",
      "dribble Reconstruction evaluation\n",
      "\n",
      "Reconstruction error from NMF object: 4.0088148522233125\n",
      "Manual reconstruction error: 4.008814842243663\n",
      "Mean reconstruction error: 0.010022037105609158\n",
      "--------------------------------\n",
      "\n"
     ]
    }
   ],
   "source": [
    "for act_type in action_types:\n",
    "    print('{} Reconstruction evaluation\\n'.format(act_type))\n",
    "    print('Reconstruction error from NMF object: {}'.format(nmfs[act_type].reconstruction_err_))\n",
    "    reconst_vectors = np.dot(nmfs[act_type].components_.T, nmfs[act_type].transform(concat_vectors[act_type]).T).T\n",
    "    reconst_error = np.sqrt(np.sum((concat_vectors[act_type] - reconst_vectors) ** 2))\n",
    "    print('Manual reconstruction error: {}'.format(reconst_error))\n",
    "    print('Mean reconstruction error: {}'.format(reconst_error / (concat_vectors[act_type].shape[1])))\n",
    "    print('--------------------------------\\n')"
   ],
   "metadata": {
    "collapsed": false
   }
  },
  {
   "cell_type": "markdown",
   "source": [
    "### Deanonymization Evaluation"
   ],
   "metadata": {
    "collapsed": false
   }
  },
  {
   "cell_type": "code",
   "execution_count": 56,
   "outputs": [],
   "source": [
    "matches_1st = {}\n",
    "matches_2nd = {}\n",
    "spadl_1st = {}\n",
    "spadl_2nd = {}\n",
    "season_minutes_1st = {}\n",
    "season_minutes_2nd = {}\n",
    "for league in leagues:\n",
    "    matches[league] = matches[league].sort_values(by='dateutc').reset_index(drop=True)\n",
    "    matches_1st[league] = matches[league].loc[: int(len(matches[league]) / 2) - 1, 'wyId'].values.tolist()\n",
    "    matches_2nd[league] = matches[league].loc[int(len(matches[league]) / 2) :, 'wyId'].values.tolist()\n",
    "    season_minutes_1st[league] = calculate_minutes_per_season(game_minutes[league][game_minutes[league]['game_id'].isin(matches_1st[league])])\n",
    "    season_minutes_2nd[league] = calculate_minutes_per_season(game_minutes[league][game_minutes[league]['game_id'].isin(matches_2nd[league])])\n",
    "    season_minutes_1st[league] = season_minutes_1st[league][season_minutes_1st[league]['minutes_played'] >= 900]\n",
    "    season_minutes_2nd[league] = season_minutes_2nd[league][season_minutes_2nd[league]['minutes_played'] >= 900]\n",
    "    season_minutes_1st[league] = season_minutes_1st[league][season_minutes_1st[league]['player_id'].isin(season_minutes_2nd[league]['player_id'])]\n",
    "    season_minutes_2nd[league] = season_minutes_2nd[league][season_minutes_2nd[league]['player_id'].isin(season_minutes_1st[league]['player_id'])]\n",
    "    mask_1st = (spadl[league]['game_id'].isin(matches_1st[league])) & (spadl[league]['player_id'].isin(season_minutes_1st[league]['player_id']))\n",
    "    spadl_1st[league] = spadl[league][mask_1st]\n",
    "    mask_2nd = (spadl[league]['game_id'].isin(matches_2nd[league])) & (spadl[league]['player_id'].isin(season_minutes_2nd[league]['player_id']))\n",
    "    spadl_2nd[league] = spadl[league][mask_2nd]"
   ],
   "metadata": {
    "collapsed": false
   }
  },
  {
   "cell_type": "code",
   "execution_count": 57,
   "outputs": [
    {
     "name": "stderr",
     "output_type": "stream",
     "text": [
      "100%|██████████| 144/144 [00:01<00:00, 139.48it/s]\n",
      "100%|██████████| 144/144 [00:00<00:00, 146.23it/s]\n",
      "100%|██████████| 144/144 [00:01<00:00, 123.54it/s]\n",
      "100%|██████████| 144/144 [00:01<00:00, 125.18it/s]\n",
      "100%|██████████| 144/144 [00:00<00:00, 154.42it/s]\n",
      "100%|██████████| 144/144 [00:00<00:00, 163.65it/s]\n",
      "100%|██████████| 144/144 [00:00<00:00, 154.73it/s]\n",
      "100%|██████████| 144/144 [00:00<00:00, 156.74it/s]\n",
      "100%|██████████| 154/154 [00:01<00:00, 139.60it/s]\n",
      "100%|██████████| 154/154 [00:01<00:00, 140.90it/s]\n",
      "100%|██████████| 154/154 [00:01<00:00, 122.39it/s]\n",
      "100%|██████████| 154/154 [00:01<00:00, 126.36it/s]\n",
      "100%|██████████| 154/154 [00:01<00:00, 152.87it/s]\n",
      "100%|██████████| 154/154 [00:00<00:00, 154.93it/s]\n",
      "100%|██████████| 154/154 [00:01<00:00, 152.20it/s]\n",
      "100%|██████████| 154/154 [00:00<00:00, 154.65it/s]\n"
     ]
    }
   ],
   "source": [
    "heatmaps_1st = {}\n",
    "heatmaps_2nd = {}\n",
    "for league in leagues:\n",
    "    heatmaps_1st[league] = {}\n",
    "    heatmaps_2nd[league] = {}\n",
    "    for at in action_types:\n",
    "        heatmaps_1st[league][at] = construct_heatmaps(spadl=spadl_1st[league], season_minutes=season_minutes_1st[league], action_type=at)\n",
    "        heatmaps_2nd[league][at] = construct_heatmaps(spadl=spadl_2nd[league], season_minutes=season_minutes_2nd[league], action_type=at)"
   ],
   "metadata": {
    "collapsed": false
   }
  },
  {
   "cell_type": "code",
   "execution_count": 61,
   "outputs": [],
   "source": [
    "vectorized_heatmaps_1st = {}\n",
    "vectorized_heatmaps_2nd = {}\n",
    "for league in leagues:\n",
    "    vectorized_heatmaps_1st[league] = {}\n",
    "    vectorized_heatmaps_2nd[league] = {}\n",
    "    for act_type in action_types:\n",
    "        vectorized_heatmaps_1st[league][act_type] = heatmaps_to_vectors(heatmaps=heatmaps_1st[league][act_type], action_type=act_type)\n",
    "        vectorized_heatmaps_2nd[league][act_type] = heatmaps_to_vectors(heatmaps=heatmaps_2nd[league][act_type], action_type=act_type)"
   ],
   "metadata": {
    "collapsed": false
   }
  },
  {
   "cell_type": "code",
   "execution_count": 58,
   "outputs": [],
   "source": [
    "def coefficients_transform(vectorized_heatmaps, nmf):\n",
    "    return nmf.transform(vectorized_heatmaps)"
   ],
   "metadata": {
    "collapsed": false
   }
  },
  {
   "cell_type": "code",
   "execution_count": 62,
   "outputs": [],
   "source": [
    "vectorized_coefs_1st = {}\n",
    "vectorized_coefs_2nd = {}\n",
    "for league in leagues:\n",
    "    vectorized_coefs_1st[league] = {}\n",
    "    vectorized_coefs_2nd[league] = {}\n",
    "    for act_type in action_types:\n",
    "        vectorized_coefs_1st[league][act_type] = coefficients_transform(vectorized_heatmaps=vectorized_heatmaps_1st[league][act_type], nmf=nmfs[act_type])\n",
    "        vectorized_coefs_2nd[league][act_type] = coefficients_transform(vectorized_heatmaps=vectorized_heatmaps_2nd[league][act_type], nmf=nmfs[act_type])"
   ],
   "metadata": {
    "collapsed": false
   }
  },
  {
   "cell_type": "code",
   "execution_count": 64,
   "outputs": [],
   "source": [
    "player_vectors_1st = {}\n",
    "player_vectors_2nd = {}\n",
    "for league in leagues:\n",
    "    player_vectors_1st[league] = np.concatenate([vectorized_coefs_1st[league][act_type] for act_type in action_types], axis=1)\n",
    "    player_vectors_2nd[league] = np.concatenate([vectorized_coefs_2nd[league][act_type] for act_type in action_types], axis=1)"
   ],
   "metadata": {
    "collapsed": false
   }
  },
  {
   "cell_type": "code",
   "execution_count": 66,
   "outputs": [],
   "source": [
    "player_vectors_1st = np.concatenate([player_vectors_1st[league] for league in leagues])\n",
    "player_vectors_2nd = np.concatenate([player_vectors_2nd[league] for league in leagues])"
   ],
   "metadata": {
    "collapsed": false
   }
  },
  {
   "cell_type": "code",
   "execution_count": 67,
   "outputs": [],
   "source": [
    "player_ids = []\n",
    "for league in leagues:\n",
    "    player_ids += list(heatmaps_1st[league]['shot'].keys())"
   ],
   "metadata": {
    "collapsed": false
   }
  },
  {
   "cell_type": "code",
   "execution_count": 68,
   "outputs": [],
   "source": [
    "from sklearn.metrics import pairwise_distances"
   ],
   "metadata": {
    "collapsed": false
   }
  },
  {
   "cell_type": "code",
   "execution_count": 69,
   "outputs": [],
   "source": [
    "D = pairwise_distances(player_vectors_1st, player_vectors_2nd, metric=\"manhattan\")\n",
    "\n",
    "# sort each row\n",
    "# k_d = np.sort(D, axis=1)\n",
    "# sort each row and replace distances by index\n",
    "k_i = np.argsort(D, axis=1)\n",
    "# replace indices by player ids\n",
    "p_i = np.take(player_ids, k_i, axis=0)\n",
    "\n",
    "rs = np.argmax(np.array([p_i[i, :] == player_ids[i] for i in range(p_i.shape[0])]), axis=1)\n",
    "\n",
    "def mean_reciprocal_rank(rs):\n",
    "    return np.mean(1. / (rs + 1))\n",
    "\n",
    "def top_k(rs, k):\n",
    "    return (rs < k).sum() / len(rs)\n",
    "\n",
    "mrr = mean_reciprocal_rank(rs)\n",
    "top1 = top_k(rs, 1)\n",
    "top3 = top_k(rs, 3)\n",
    "top5 = top_k(rs, 5)\n",
    "top10 = top_k(rs, 10)"
   ],
   "metadata": {
    "collapsed": false
   }
  },
  {
   "cell_type": "code",
   "execution_count": 73,
   "outputs": [
    {
     "name": "stdout",
     "output_type": "stream",
     "text": [
      "Top 1 = 38.3%\n",
      "Top 3 = 61.4%\n",
      "Top 5 = 70.5%\n",
      "Top 10 = 81.9%\n",
      "MRR = 0.532\n"
     ]
    }
   ],
   "source": [
    "print('Top 1 = {}%'.format(round(top1 * 100, 1)))\n",
    "print('Top 3 = {}%'.format(round(top3 * 100, 1)))\n",
    "print('Top 5 = {}%'.format(round(top5 * 100, 1)))\n",
    "print('Top 10 = {}%'.format(round(top10 * 100, 1)))\n",
    "print('MRR = {}'.format(round(mrr, 3)))"
   ],
   "metadata": {
    "collapsed": false
   }
  },
  {
   "cell_type": "markdown",
   "source": [
    "### Explore Similar Players"
   ],
   "metadata": {
    "collapsed": false
   }
  },
  {
   "cell_type": "code",
   "execution_count": 74,
   "outputs": [],
   "source": [
    "vectorized_coefs = {}\n",
    "for league in leagues:\n",
    "    vectorized_coefs[league] = {}\n",
    "    for act_type in action_types:\n",
    "        vectorized_coefs[league][act_type] = coefficients_transform(vectorized_heatmaps=vectorized_heatmaps[league][act_type], nmf=nmfs[act_type])"
   ],
   "metadata": {
    "collapsed": false
   }
  },
  {
   "cell_type": "code",
   "execution_count": 75,
   "outputs": [],
   "source": [
    "player_vectors = {}\n",
    "for league in leagues:\n",
    "    player_vectors[league] = np.concatenate([vectorized_coefs[league][act_type] for act_type in action_types], axis=1)"
   ],
   "metadata": {
    "collapsed": false
   }
  },
  {
   "cell_type": "code",
   "execution_count": 76,
   "outputs": [],
   "source": [
    "player_vectors = np.concatenate([player_vectors[league] for league in leagues])"
   ],
   "metadata": {
    "collapsed": false
   }
  },
  {
   "cell_type": "code",
   "execution_count": 77,
   "outputs": [],
   "source": [
    "player_ids = []\n",
    "for league in leagues:\n",
    "    player_ids += list(heatmaps[league]['shot'].keys())"
   ],
   "metadata": {
    "collapsed": false
   }
  },
  {
   "cell_type": "code",
   "execution_count": 80,
   "outputs": [],
   "source": [
    "D = pairwise_distances(player_vectors, player_vectors, metric=\"manhattan\")\n",
    "# sort each row\n",
    "# k_d = np.sort(D, axis=1)\n",
    "# sort each row and replace distances by index\n",
    "k_i = np.argsort(D, axis=1)\n",
    "# replace indices by player ids\n",
    "p_i = np.take(player_ids, k_i, axis=0)"
   ],
   "metadata": {
    "collapsed": false
   }
  },
  {
   "cell_type": "code",
   "execution_count": 81,
   "outputs": [],
   "source": [
    "similar_players = pd.DataFrame(data=p_i[:, : 11], columns=['player_id'] + ['{}th_similar'.format(i) for i in range(1, 11)])"
   ],
   "metadata": {
    "collapsed": false
   }
  },
  {
   "cell_type": "code",
   "execution_count": 83,
   "outputs": [],
   "source": [
    "players = players[players['player_id'].isin(similar_players['player_id'])].reset_index(drop=True)"
   ],
   "metadata": {
    "collapsed": false
   }
  },
  {
   "cell_type": "code",
   "execution_count": 84,
   "outputs": [],
   "source": [
    "id_to_name = {}\n",
    "for i in range(len(players)):\n",
    "    id_to_name[players.loc[i, 'player_id']] = players.loc[i, 'player_name']"
   ],
   "metadata": {
    "collapsed": false
   }
  },
  {
   "cell_type": "code",
   "execution_count": 85,
   "outputs": [],
   "source": [
    "similar_players = similar_players.replace(id_to_name)"
   ],
   "metadata": {
    "collapsed": false
   }
  }
 ],
 "metadata": {
  "kernelspec": {
   "display_name": "Python 3",
   "language": "python",
   "name": "python3"
  },
  "language_info": {
   "codemirror_mode": {
    "name": "ipython",
    "version": 2
   },
   "file_extension": ".py",
   "mimetype": "text/x-python",
   "name": "python",
   "nbconvert_exporter": "python",
   "pygments_lexer": "ipython2",
   "version": "2.7.6"
  }
 },
 "nbformat": 4,
 "nbformat_minor": 0
}
