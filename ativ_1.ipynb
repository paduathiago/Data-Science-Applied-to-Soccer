{
 "cells": [
  {
   "cell_type": "markdown",
   "metadata": {
    "collapsed": false,
    "pycharm": {
     "name": "#%% md\n"
    }
   },
   "source": [
    "# [CDAF] Atividade 1"
   ]
  },
  {
   "attachments": {},
   "cell_type": "markdown",
   "metadata": {
    "collapsed": false,
    "pycharm": {
     "name": "#%% md\n"
    }
   },
   "source": [
    "## Nome e matrícula\n",
    "Nome: Thiago Pádua de Carvalho\n",
    "\n",
    "Matrícula: 2020007066"
   ]
  },
  {
   "cell_type": "markdown",
   "metadata": {
    "collapsed": false,
    "pycharm": {
     "name": "#%% md\n"
    }
   },
   "source": [
    "## Introdução\n",
    "Nesta atividade, vamos revisar os conceitos aprendidos em sala de aula sobre aleatoriedade e previsão, trabalhando em cima do dataset do Soccer Prediction Challenge, disponível no Moodle."
   ]
  },
  {
   "cell_type": "code",
   "execution_count": 2,
   "metadata": {},
   "outputs": [],
   "source": [
    "import matplotlib.pyplot as plt\n",
    "import pandas as pd\n",
    "import numpy as np"
   ]
  },
  {
   "cell_type": "markdown",
   "metadata": {
    "collapsed": false,
    "pycharm": {
     "name": "#%% md\n"
    }
   },
   "source": [
    "## Questão 1\n",
    "- Carregue o dataset 'TrainingSet_2023_02_08'\n",
    "- Crie um histograma para a quantidade de gols marcados por jogo do time da casa, do time fora, de gols totais e da diferença de gols por partida.\n",
    "- Caso hajam instâncias com valores nitidamente errados, destaque-os e remova-os antes de gerar os histogramas.\n",
    "- Calcule o mínimo, o máximo e a média de cada um dos 4 histogramas solicitados acima."
   ]
  },
  {
   "cell_type": "code",
   "execution_count": 3,
   "metadata": {
    "collapsed": false,
    "pycharm": {
     "name": "#%%\n"
    }
   },
   "outputs": [
    {
     "data": {
      "text/html": [
       "<div>\n",
       "<style scoped>\n",
       "    .dataframe tbody tr th:only-of-type {\n",
       "        vertical-align: middle;\n",
       "    }\n",
       "\n",
       "    .dataframe tbody tr th {\n",
       "        vertical-align: top;\n",
       "    }\n",
       "\n",
       "    .dataframe thead th {\n",
       "        text-align: right;\n",
       "    }\n",
       "</style>\n",
       "<table border=\"1\" class=\"dataframe\">\n",
       "  <thead>\n",
       "    <tr style=\"text-align: right;\">\n",
       "      <th></th>\n",
       "      <th>Sea</th>\n",
       "      <th>Lge</th>\n",
       "      <th>Date</th>\n",
       "      <th>HT</th>\n",
       "      <th>AT</th>\n",
       "      <th>HS</th>\n",
       "      <th>AS</th>\n",
       "      <th>GD</th>\n",
       "      <th>WDL</th>\n",
       "    </tr>\n",
       "  </thead>\n",
       "  <tbody>\n",
       "    <tr>\n",
       "      <th>0</th>\n",
       "      <td>00-01</td>\n",
       "      <td>GER1</td>\n",
       "      <td>11/08/2000</td>\n",
       "      <td>Dortmund</td>\n",
       "      <td>Hansa Rostock</td>\n",
       "      <td>1</td>\n",
       "      <td>0</td>\n",
       "      <td>1</td>\n",
       "      <td>W</td>\n",
       "    </tr>\n",
       "    <tr>\n",
       "      <th>1</th>\n",
       "      <td>00-01</td>\n",
       "      <td>GER1</td>\n",
       "      <td>12/08/2000</td>\n",
       "      <td>Bayern Munich</td>\n",
       "      <td>Hertha Berlin</td>\n",
       "      <td>4</td>\n",
       "      <td>1</td>\n",
       "      <td>3</td>\n",
       "      <td>W</td>\n",
       "    </tr>\n",
       "    <tr>\n",
       "      <th>2</th>\n",
       "      <td>00-01</td>\n",
       "      <td>GER1</td>\n",
       "      <td>12/08/2000</td>\n",
       "      <td>Freiburg</td>\n",
       "      <td>VfB Stuttgart</td>\n",
       "      <td>4</td>\n",
       "      <td>0</td>\n",
       "      <td>4</td>\n",
       "      <td>W</td>\n",
       "    </tr>\n",
       "    <tr>\n",
       "      <th>3</th>\n",
       "      <td>00-01</td>\n",
       "      <td>GER1</td>\n",
       "      <td>12/08/2000</td>\n",
       "      <td>Hamburger SV</td>\n",
       "      <td>Munich 1860</td>\n",
       "      <td>2</td>\n",
       "      <td>2</td>\n",
       "      <td>0</td>\n",
       "      <td>D</td>\n",
       "    </tr>\n",
       "    <tr>\n",
       "      <th>4</th>\n",
       "      <td>00-01</td>\n",
       "      <td>GER1</td>\n",
       "      <td>12/08/2000</td>\n",
       "      <td>Kaiserslautern</td>\n",
       "      <td>Bochum</td>\n",
       "      <td>0</td>\n",
       "      <td>1</td>\n",
       "      <td>-1</td>\n",
       "      <td>L</td>\n",
       "    </tr>\n",
       "  </tbody>\n",
       "</table>\n",
       "</div>"
      ],
      "text/plain": [
       "     Sea   Lge        Date              HT             AT  HS  AS  GD WDL\n",
       "0  00-01  GER1  11/08/2000        Dortmund  Hansa Rostock   1   0   1   W\n",
       "1  00-01  GER1  12/08/2000   Bayern Munich  Hertha Berlin   4   1   3   W\n",
       "2  00-01  GER1  12/08/2000        Freiburg  VfB Stuttgart   4   0   4   W\n",
       "3  00-01  GER1  12/08/2000    Hamburger SV    Munich 1860   2   2   0   D\n",
       "4  00-01  GER1  12/08/2000  Kaiserslautern         Bochum   0   1  -1   L"
      ]
     },
     "execution_count": 3,
     "metadata": {},
     "output_type": "execute_result"
    }
   ],
   "source": [
    "df = pd.read_excel(\"data/TrainingSet_2023_02_08.xlsx\", sheet_name=0)\n",
    "\n",
    "df = df[df['HS'] >= 0]  # Keeps only line where number of goals (home or away) are non negative\n",
    "df = df[df['AS'] >= 0]\n",
    "df.head()\n"
   ]
  },
  {
   "cell_type": "code",
   "execution_count": 12,
   "metadata": {},
   "outputs": [],
   "source": [
    "def plot_and_show_measures(dataframe, title, xlabel='', ylabel=''):\n",
    "    max_value = np.max(dataframe)\n",
    "    min_value = np.min(dataframe)\n",
    "    mean_value = np.mean(dataframe)\n",
    "\n",
    "    # Configurar os parâmetros do histograma\n",
    "    bin_width = 0.5\n",
    "    bin_range = (min_value, max_value)\n",
    "\n",
    "    # Calcular os intervalos do histograma\n",
    "    bins = np.arange(bin_range[0], bin_range[1] + bin_width, bin_width)\n",
    "    \n",
    "    plt.hist(dataframe, color='purple', bins=bins)\n",
    "    plt.title(title)\n",
    "    plt.xlabel(xlabel)\n",
    "    plt.ylabel(ylabel)\n",
    "    plt.show()\n",
    "\n",
    "    print(f\"Maximum number of goals: {max_value}\\nMinimum number of goals: {min_value}\\nMean number of goals: {mean_value}\")"
   ]
  },
  {
   "cell_type": "code",
   "execution_count": 13,
   "metadata": {},
   "outputs": [
    {
     "data": {
      "image/png": "[encoded data removed]",
      "text/plain": [
       "<Figure size 640x480 with 1 Axes>"
      ]
     },
     "metadata": {},
     "output_type": "display_data"
    },
    {
     "name": "stdout",
     "output_type": "stream",
     "text": [
      "Maximum number of goals: 13\n",
      "Minimum number of goals: 0\n",
      "Mean number of goals: 1.471700194179949\n"
     ]
    }
   ],
   "source": [
    "goals_home = df['HS']\n",
    "plot_and_show_measures(goals_home, 'Home Score', 'Number of goals per match', 'Number of matches')"
   ]
  },
  {
   "cell_type": "code",
   "execution_count": 14,
   "metadata": {},
   "outputs": [
    {
     "data": {
      "image/png": "[encoded data removed]",
      "text/plain": [
       "<Figure size 640x480 with 1 Axes>"
      ]
     },
     "metadata": {},
     "output_type": "display_data"
    },
    {
     "name": "stdout",
     "output_type": "stream",
     "text": [
      "Maximum number of goals: 13\n",
      "Minimum number of goals: 0\n",
      "Mean number of goals: 1.1214410090673013\n"
     ]
    }
   ],
   "source": [
    "goals_away = df['AS']\n",
    "plot_and_show_measures(goals_away, 'Away Score', 'Number of goals per match', 'Number of matches')"
   ]
  },
  {
   "cell_type": "code",
   "execution_count": 15,
   "metadata": {},
   "outputs": [
    {
     "data": {
      "image/png": "[encoded data removed]",
      "text/plain": [
       "<Figure size 640x480 with 1 Axes>"
      ]
     },
     "metadata": {},
     "output_type": "display_data"
    },
    {
     "name": "stdout",
     "output_type": "stream",
     "text": [
      "Maximum number of goals: 15\n",
      "Minimum number of goals: 0\n",
      "Mean number of goals: 2.5931412032472503\n"
     ]
    }
   ],
   "source": [
    "goals_total = goals_home + goals_away\n",
    "\n",
    "plot_and_show_measures(goals_total, 'Goals scored (both teams) ', 'Number of goals per match', 'Number of matches')"
   ]
  },
  {
   "cell_type": "code",
   "execution_count": 16,
   "metadata": {},
   "outputs": [
    {
     "data": {
      "image/png": "[encoded data removed]",
      "text/plain": [
       "<Figure size 640x480 with 1 Axes>"
      ]
     },
     "metadata": {},
     "output_type": "display_data"
    },
    {
     "name": "stdout",
     "output_type": "stream",
     "text": [
      "Maximum number of goals: 13\n",
      "Minimum number of goals: 0\n",
      "Mean number of goals: 1.2660332144635653\n"
     ]
    }
   ],
   "source": [
    "goals_diff = abs(df['GD'])\n",
    "plot_and_show_measures(goals_diff, 'Goal difference ', 'Number of goals per match', 'Number of matches')"
   ]
  },
  {
   "cell_type": "markdown",
   "metadata": {
    "collapsed": false,
    "pycharm": {
     "name": "#%% md\n"
    }
   },
   "source": [
    "## Questão 2\n",
    "- Escolha uma temporada que já terminou, de alguma das ligas presentes no dataset.\n",
    "- Realize os mesmos histogramas da questão 1, mas agora para a temporada escolhida.\n",
    "- Quais as diferenças entre os histogramas da questão 1 e da questão 2? O que isso pode indicar sobre a qualidade ofensiva da liga escolhida vs. o todo?"
   ]
  },
  {
   "attachments": {},
   "cell_type": "markdown",
   "metadata": {},
   "source": [
    "A temporada escolhida foi a da liga italiana de 2008."
   ]
  },
  {
   "cell_type": "code",
   "execution_count": 57,
   "metadata": {
    "collapsed": false,
    "pycharm": {
     "name": "#%%\n"
    }
   },
   "outputs": [
    {
     "data": {
      "text/html": [
       "<div>\n",
       "<style scoped>\n",
       "    .dataframe tbody tr th:only-of-type {\n",
       "        vertical-align: middle;\n",
       "    }\n",
       "\n",
       "    .dataframe tbody tr th {\n",
       "        vertical-align: top;\n",
       "    }\n",
       "\n",
       "    .dataframe thead th {\n",
       "        text-align: right;\n",
       "    }\n",
       "</style>\n",
       "<table border=\"1\" class=\"dataframe\">\n",
       "  <thead>\n",
       "    <tr style=\"text-align: right;\">\n",
       "      <th></th>\n",
       "      <th>Sea</th>\n",
       "      <th>Lge</th>\n",
       "      <th>Date</th>\n",
       "      <th>HT</th>\n",
       "      <th>AT</th>\n",
       "      <th>HS</th>\n",
       "      <th>AS</th>\n",
       "      <th>GD</th>\n",
       "      <th>WDL</th>\n",
       "    </tr>\n",
       "  </thead>\n",
       "  <tbody>\n",
       "    <tr>\n",
       "      <th>0</th>\n",
       "      <td>07-08</td>\n",
       "      <td>ITA1</td>\n",
       "      <td>25/08/2007</td>\n",
       "      <td>Juventus</td>\n",
       "      <td>Livorno</td>\n",
       "      <td>5</td>\n",
       "      <td>1</td>\n",
       "      <td>4</td>\n",
       "      <td>W</td>\n",
       "    </tr>\n",
       "    <tr>\n",
       "      <th>1</th>\n",
       "      <td>07-08</td>\n",
       "      <td>ITA1</td>\n",
       "      <td>25/08/2007</td>\n",
       "      <td>Lazio</td>\n",
       "      <td>Torino</td>\n",
       "      <td>2</td>\n",
       "      <td>2</td>\n",
       "      <td>0</td>\n",
       "      <td>D</td>\n",
       "    </tr>\n",
       "    <tr>\n",
       "      <th>2</th>\n",
       "      <td>07-08</td>\n",
       "      <td>ITA1</td>\n",
       "      <td>26/08/2007</td>\n",
       "      <td>Fiorentina</td>\n",
       "      <td>Empoli</td>\n",
       "      <td>3</td>\n",
       "      <td>1</td>\n",
       "      <td>2</td>\n",
       "      <td>W</td>\n",
       "    </tr>\n",
       "    <tr>\n",
       "      <th>3</th>\n",
       "      <td>07-08</td>\n",
       "      <td>ITA1</td>\n",
       "      <td>26/08/2007</td>\n",
       "      <td>Genoa</td>\n",
       "      <td>AC Milan</td>\n",
       "      <td>0</td>\n",
       "      <td>3</td>\n",
       "      <td>-3</td>\n",
       "      <td>L</td>\n",
       "    </tr>\n",
       "    <tr>\n",
       "      <th>4</th>\n",
       "      <td>07-08</td>\n",
       "      <td>ITA1</td>\n",
       "      <td>26/08/2007</td>\n",
       "      <td>Internazionale Milano</td>\n",
       "      <td>Udinese</td>\n",
       "      <td>1</td>\n",
       "      <td>1</td>\n",
       "      <td>0</td>\n",
       "      <td>D</td>\n",
       "    </tr>\n",
       "  </tbody>\n",
       "</table>\n",
       "</div>"
      ],
      "text/plain": [
       "     Sea   Lge        Date                     HT        AT  HS  AS  GD WDL\n",
       "0  07-08  ITA1  25/08/2007               Juventus   Livorno   5   1   4   W\n",
       "1  07-08  ITA1  25/08/2007                  Lazio    Torino   2   2   0   D\n",
       "2  07-08  ITA1  26/08/2007             Fiorentina    Empoli   3   1   2   W\n",
       "3  07-08  ITA1  26/08/2007                  Genoa  AC Milan   0   3  -3   L\n",
       "4  07-08  ITA1  26/08/2007  Internazionale Milano   Udinese   1   1   0   D"
      ]
     },
     "execution_count": 57,
     "metadata": {},
     "output_type": "execute_result"
    }
   ],
   "source": [
    "italian_league_0708 = df.loc[(df['Lge'] ==  'ITA1') & (df['Sea'] == '07-08')]\n",
    "italian_league_0708.reset_index(inplace=True, drop=True)\n",
    "italian_league_0708.head()"
   ]
  },
  {
   "cell_type": "code",
   "execution_count": 18,
   "metadata": {},
   "outputs": [
    {
     "data": {
      "image/png": "[encoded data removed]",
      "text/plain": [
       "<Figure size 1000x800 with 4 Axes>"
      ]
     },
     "metadata": {},
     "output_type": "display_data"
    }
   ],
   "source": [
    "\"\"\"bin_width = 0.5\n",
    "bin_range = (np.mix(), np.max())\n",
    "\n",
    "# Calcular os intervalos do histograma\n",
    "bins = np.arange(bin_range[0], bin_range[1] + bin_width, bin_width)\"\"\"\n",
    "\n",
    "fig, axs = plt.subplots(nrows=2, ncols=2, figsize=(10, 8), sharey=True)\n",
    "goals_diff_ita1_0708 = abs(italian_league_0708['GD'])\n",
    "\n",
    "axs[0, 0].hist(italian_league_0708['HS'], color='purple')\n",
    "axs[0, 0].set_title('Home Score')\n",
    "\n",
    "axs[0, 1].hist(italian_league_0708['AS'], color='purple')\n",
    "axs[0, 1].set_title('Away Score')\n",
    "\n",
    "axs[1, 0].hist(italian_league_0708['HS'] + italian_league_0708['AS'], color='purple')\n",
    "axs[1, 0].set_title('Goals scored (both teams)')\n",
    "\n",
    "axs[1, 1].hist(goals_diff_ita1_0708, color='purple')\n",
    "axs[1, 1].set_title('Goal difference')\n",
    "\n",
    "plt.tight_layout()\n",
    "plt.show()\n"
   ]
  },
  {
   "attachments": {},
   "cell_type": "markdown",
   "metadata": {},
   "source": [
    "Os histogramas da serie A de 2008 mostram que esta acompanha de perto a tendência observada nos dados gerais de ligas. Pode-se observar um menor número de ocorrência de zero gols marcados por ambas as equipes. Essa diferença, no entanto, não traduz por si só uma maior ofensividade.\n",
    "\n",
    "É possível verificar que o time da casa goleia mais, com 2 sendo relativamente mais próximo de 1. Além disso, é notável que a liga italiana acompanha a tendência geral de gols fora de casa, com concentração maior em 0 ou 1 gol, caindo gradativamente daí em diante. A diferença de gols conta com mais aparições de 0, indicando que há mais empates.\n",
    "\n",
    "Conclui-se que, com ligeiras assimetrias, a serie A de 2007/2008 tem dados que representam bem o caso geral das ligas presentes no dataframe."
   ]
  },
  {
   "cell_type": "markdown",
   "metadata": {
    "collapsed": false,
    "pycharm": {
     "name": "#%% md\n"
    }
   },
   "source": [
    "## Questão 3\n",
    "- À partir dos dados do campeonato em selecionado, crie um dataframe que corresponda à tabela de classificação ao fim da temporada contendo o nome dos times, nº de pontos, jogos, vitórias, empates, derrotas, gols pró, gols contra e saldo de gols. Ordena a classificação por pontos, vitórias, saldo de gols e gols pró.\n",
    "- Faça o mesmo para apenas para a primeira metade de jogos."
   ]
  },
  {
   "cell_type": "code",
   "execution_count": 141,
   "metadata": {},
   "outputs": [],
   "source": [
    "# Series that will compose the dataframe\n",
    "def create_table(dataframe):\n",
    "    teams = pd.Series(dataframe['HT'].unique(), name='Team')\n",
    "    num_of_teams = teams.count()\n",
    "    \n",
    "    points = pd.Series(np.zeros(num_of_teams, dtype=int), name='Points')\n",
    "    played = pd.Series(np.zeros(num_of_teams, dtype=int), name='Played')\n",
    "    won = pd.Series(np.zeros(num_of_teams, dtype=int), name='Won')\n",
    "    drawn = pd.Series(np.zeros(num_of_teams, dtype=int), name='Drawn')\n",
    "    lost = pd.Series(np.zeros(num_of_teams, dtype=int), name='Lost')\n",
    "    goals_for = pd.Series(np.zeros(num_of_teams, dtype=int), name='Goals For')\n",
    "    goals_against = pd.Series(np.zeros(num_of_teams, dtype=int), name='Goals Against')\n",
    "    goal_difference = pd.Series(np.zeros(num_of_teams, dtype=int), name='Goal Difference')\n",
    "\n",
    "    return pd.concat([teams, points, played, won, drawn, lost, goals_for, goals_against, goal_difference], axis=1)"
   ]
  },
  {
   "cell_type": "code",
   "execution_count": 142,
   "metadata": {},
   "outputs": [],
   "source": [
    "def mount_classification_table(league, table, num_of_matches):\n",
    "    for i in range(num_of_matches):\n",
    "        # This if block determines how many points the teams have scores in the determined number of matches\n",
    "        # and number of W/D/L\n",
    "        if league.iloc[i]['GD'] > 0:\n",
    "            table.loc[(table['Team'] == league.iloc[i]['HT']), 'Points'] += 3\n",
    "            table.loc[(table['Team'] == league.iloc[i]['HT']), 'Won'] += 1\n",
    "            table.loc[(table['Team'] == league.iloc[i]['AT']), 'Lost'] += 1\n",
    "\n",
    "        elif league.iloc[i]['GD'] < 0:\n",
    "            table.loc[(table['Team'] == league.iloc[i]['AT']), 'Points'] += 3\n",
    "            table.loc[(table['Team'] == league.iloc[i]['HT']), 'Lost'] += 1\n",
    "            table.loc[(table['Team'] == league.iloc[i]['AT']), 'Won'] += 1\n",
    "        else:\n",
    "            table.loc[(table['Team'] == league.iloc[i]['HT']), 'Points'] += 1\n",
    "            table.loc[(table['Team'] == league.iloc[i]['AT']), 'Points'] += 1\n",
    "            table.loc[(table['Team'] == league.iloc[i]['HT']), 'Drawn'] += 1\n",
    "            table.loc[(table['Team'] == league.iloc[i]['AT']), 'Drawn'] += 1\n",
    "        \n",
    "        # Matches played\n",
    "        table.loc[(table['Team'] == league.iloc[i]['HT']), 'Played'] += 1\n",
    "        table.loc[(table['Team'] == league.iloc[i]['AT']), 'Played'] += 1\n",
    "\n",
    "        # Goals For\n",
    "        home_score = league.iloc[i]['HS']\n",
    "        away_score = league.iloc[i]['AS']\n",
    "        table.loc[(table['Team'] == league.iloc[i]['HT']), 'Goals For'] += home_score\n",
    "        table.loc[(table['Team'] == league.iloc[i]['AT']), 'Goals For'] += away_score\n",
    "\n",
    "        # Goals Against\n",
    "        table.loc[(table['Team'] == league.iloc[i]['HT']), 'Goals Against'] += away_score\n",
    "        table.loc[(table['Team'] == league.iloc[i]['AT']), 'Goals Against'] += home_score\n",
    "\n",
    "        # Goal Difference\n",
    "        table.loc[(table['Team'] == league.iloc[i]['HT']), 'Goal Difference'] += (home_score - away_score)\n",
    "        table.loc[(table['Team'] == league.iloc[i]['AT']), 'Goal Difference'] += -(home_score - away_score)\n",
    "\n",
    "\n",
    "    table.sort_values(['Points','Won', 'Goal Difference', 'Goals For'], ascending=False, inplace=True)\n",
    "    table.index = np.arange(1, 21)\n",
    "    return table"
   ]
  },
  {
   "cell_type": "code",
   "execution_count": 143,
   "metadata": {},
   "outputs": [],
   "source": [
    "def create_and_mount_table(league, num_of_matches=380):\n",
    "    table = create_table(league)\n",
    "    table = mount_classification_table(italian_league_0708, table, num_of_matches)\n",
    "    return table"
   ]
  },
  {
   "cell_type": "code",
   "execution_count": 144,
   "metadata": {
    "collapsed": false,
    "pycharm": {
     "name": "#%%\n"
    }
   },
   "outputs": [
    {
     "data": {
      "text/html": [
       "<div>\n",
       "<style scoped>\n",
       "    .dataframe tbody tr th:only-of-type {\n",
       "        vertical-align: middle;\n",
       "    }\n",
       "\n",
       "    .dataframe tbody tr th {\n",
       "        vertical-align: top;\n",
       "    }\n",
       "\n",
       "    .dataframe thead th {\n",
       "        text-align: right;\n",
       "    }\n",
       "</style>\n",
       "<table border=\"1\" class=\"dataframe\">\n",
       "  <thead>\n",
       "    <tr style=\"text-align: right;\">\n",
       "      <th></th>\n",
       "      <th>Team</th>\n",
       "      <th>Points</th>\n",
       "      <th>Played</th>\n",
       "      <th>Won</th>\n",
       "      <th>Drawn</th>\n",
       "      <th>Lost</th>\n",
       "      <th>Goals For</th>\n",
       "      <th>Goals Against</th>\n",
       "      <th>Goal Difference</th>\n",
       "    </tr>\n",
       "  </thead>\n",
       "  <tbody>\n",
       "    <tr>\n",
       "      <th>1</th>\n",
       "      <td>Internazionale Milano</td>\n",
       "      <td>85</td>\n",
       "      <td>38</td>\n",
       "      <td>25</td>\n",
       "      <td>10</td>\n",
       "      <td>3</td>\n",
       "      <td>69</td>\n",
       "      <td>26</td>\n",
       "      <td>43</td>\n",
       "    </tr>\n",
       "    <tr>\n",
       "      <th>2</th>\n",
       "      <td>Roma</td>\n",
       "      <td>82</td>\n",
       "      <td>38</td>\n",
       "      <td>24</td>\n",
       "      <td>10</td>\n",
       "      <td>4</td>\n",
       "      <td>72</td>\n",
       "      <td>37</td>\n",
       "      <td>35</td>\n",
       "    </tr>\n",
       "    <tr>\n",
       "      <th>3</th>\n",
       "      <td>Juventus</td>\n",
       "      <td>72</td>\n",
       "      <td>38</td>\n",
       "      <td>20</td>\n",
       "      <td>12</td>\n",
       "      <td>6</td>\n",
       "      <td>72</td>\n",
       "      <td>37</td>\n",
       "      <td>35</td>\n",
       "    </tr>\n",
       "    <tr>\n",
       "      <th>4</th>\n",
       "      <td>Fiorentina</td>\n",
       "      <td>66</td>\n",
       "      <td>38</td>\n",
       "      <td>19</td>\n",
       "      <td>9</td>\n",
       "      <td>10</td>\n",
       "      <td>55</td>\n",
       "      <td>39</td>\n",
       "      <td>16</td>\n",
       "    </tr>\n",
       "    <tr>\n",
       "      <th>5</th>\n",
       "      <td>AC Milan</td>\n",
       "      <td>64</td>\n",
       "      <td>38</td>\n",
       "      <td>18</td>\n",
       "      <td>10</td>\n",
       "      <td>10</td>\n",
       "      <td>66</td>\n",
       "      <td>38</td>\n",
       "      <td>28</td>\n",
       "    </tr>\n",
       "    <tr>\n",
       "      <th>6</th>\n",
       "      <td>Sampdoria</td>\n",
       "      <td>60</td>\n",
       "      <td>38</td>\n",
       "      <td>17</td>\n",
       "      <td>9</td>\n",
       "      <td>12</td>\n",
       "      <td>56</td>\n",
       "      <td>46</td>\n",
       "      <td>10</td>\n",
       "    </tr>\n",
       "    <tr>\n",
       "      <th>7</th>\n",
       "      <td>Udinese</td>\n",
       "      <td>57</td>\n",
       "      <td>38</td>\n",
       "      <td>16</td>\n",
       "      <td>9</td>\n",
       "      <td>13</td>\n",
       "      <td>48</td>\n",
       "      <td>53</td>\n",
       "      <td>-5</td>\n",
       "    </tr>\n",
       "    <tr>\n",
       "      <th>8</th>\n",
       "      <td>Napoli</td>\n",
       "      <td>50</td>\n",
       "      <td>38</td>\n",
       "      <td>14</td>\n",
       "      <td>8</td>\n",
       "      <td>16</td>\n",
       "      <td>50</td>\n",
       "      <td>53</td>\n",
       "      <td>-3</td>\n",
       "    </tr>\n",
       "    <tr>\n",
       "      <th>9</th>\n",
       "      <td>Genoa</td>\n",
       "      <td>48</td>\n",
       "      <td>38</td>\n",
       "      <td>13</td>\n",
       "      <td>9</td>\n",
       "      <td>16</td>\n",
       "      <td>44</td>\n",
       "      <td>52</td>\n",
       "      <td>-8</td>\n",
       "    </tr>\n",
       "    <tr>\n",
       "      <th>10</th>\n",
       "      <td>Atalanta</td>\n",
       "      <td>48</td>\n",
       "      <td>38</td>\n",
       "      <td>12</td>\n",
       "      <td>12</td>\n",
       "      <td>14</td>\n",
       "      <td>52</td>\n",
       "      <td>56</td>\n",
       "      <td>-4</td>\n",
       "    </tr>\n",
       "    <tr>\n",
       "      <th>11</th>\n",
       "      <td>Palermo</td>\n",
       "      <td>47</td>\n",
       "      <td>38</td>\n",
       "      <td>12</td>\n",
       "      <td>11</td>\n",
       "      <td>15</td>\n",
       "      <td>47</td>\n",
       "      <td>57</td>\n",
       "      <td>-10</td>\n",
       "    </tr>\n",
       "    <tr>\n",
       "      <th>12</th>\n",
       "      <td>Lazio</td>\n",
       "      <td>46</td>\n",
       "      <td>38</td>\n",
       "      <td>11</td>\n",
       "      <td>13</td>\n",
       "      <td>14</td>\n",
       "      <td>47</td>\n",
       "      <td>51</td>\n",
       "      <td>-4</td>\n",
       "    </tr>\n",
       "    <tr>\n",
       "      <th>13</th>\n",
       "      <td>Siena</td>\n",
       "      <td>44</td>\n",
       "      <td>38</td>\n",
       "      <td>9</td>\n",
       "      <td>17</td>\n",
       "      <td>12</td>\n",
       "      <td>40</td>\n",
       "      <td>45</td>\n",
       "      <td>-5</td>\n",
       "    </tr>\n",
       "    <tr>\n",
       "      <th>14</th>\n",
       "      <td>Cagliari</td>\n",
       "      <td>42</td>\n",
       "      <td>38</td>\n",
       "      <td>11</td>\n",
       "      <td>9</td>\n",
       "      <td>18</td>\n",
       "      <td>40</td>\n",
       "      <td>56</td>\n",
       "      <td>-16</td>\n",
       "    </tr>\n",
       "    <tr>\n",
       "      <th>15</th>\n",
       "      <td>Reggina</td>\n",
       "      <td>40</td>\n",
       "      <td>38</td>\n",
       "      <td>9</td>\n",
       "      <td>13</td>\n",
       "      <td>16</td>\n",
       "      <td>37</td>\n",
       "      <td>56</td>\n",
       "      <td>-19</td>\n",
       "    </tr>\n",
       "    <tr>\n",
       "      <th>16</th>\n",
       "      <td>Torino</td>\n",
       "      <td>40</td>\n",
       "      <td>38</td>\n",
       "      <td>8</td>\n",
       "      <td>16</td>\n",
       "      <td>14</td>\n",
       "      <td>36</td>\n",
       "      <td>49</td>\n",
       "      <td>-13</td>\n",
       "    </tr>\n",
       "    <tr>\n",
       "      <th>17</th>\n",
       "      <td>Catania</td>\n",
       "      <td>37</td>\n",
       "      <td>38</td>\n",
       "      <td>8</td>\n",
       "      <td>13</td>\n",
       "      <td>17</td>\n",
       "      <td>33</td>\n",
       "      <td>45</td>\n",
       "      <td>-12</td>\n",
       "    </tr>\n",
       "    <tr>\n",
       "      <th>18</th>\n",
       "      <td>Empoli</td>\n",
       "      <td>36</td>\n",
       "      <td>38</td>\n",
       "      <td>9</td>\n",
       "      <td>9</td>\n",
       "      <td>20</td>\n",
       "      <td>29</td>\n",
       "      <td>52</td>\n",
       "      <td>-23</td>\n",
       "    </tr>\n",
       "    <tr>\n",
       "      <th>19</th>\n",
       "      <td>Parma</td>\n",
       "      <td>34</td>\n",
       "      <td>38</td>\n",
       "      <td>7</td>\n",
       "      <td>13</td>\n",
       "      <td>18</td>\n",
       "      <td>42</td>\n",
       "      <td>62</td>\n",
       "      <td>-20</td>\n",
       "    </tr>\n",
       "    <tr>\n",
       "      <th>20</th>\n",
       "      <td>Livorno</td>\n",
       "      <td>30</td>\n",
       "      <td>38</td>\n",
       "      <td>6</td>\n",
       "      <td>12</td>\n",
       "      <td>20</td>\n",
       "      <td>35</td>\n",
       "      <td>60</td>\n",
       "      <td>-25</td>\n",
       "    </tr>\n",
       "  </tbody>\n",
       "</table>\n",
       "</div>"
      ],
      "text/plain": [
       "                     Team  Points  Played  Won  Drawn  Lost  Goals For   \n",
       "1   Internazionale Milano      85      38   25     10     3         69  \\\n",
       "2                    Roma      82      38   24     10     4         72   \n",
       "3                Juventus      72      38   20     12     6         72   \n",
       "4              Fiorentina      66      38   19      9    10         55   \n",
       "5                AC Milan      64      38   18     10    10         66   \n",
       "6               Sampdoria      60      38   17      9    12         56   \n",
       "7                 Udinese      57      38   16      9    13         48   \n",
       "8                  Napoli      50      38   14      8    16         50   \n",
       "9                   Genoa      48      38   13      9    16         44   \n",
       "10               Atalanta      48      38   12     12    14         52   \n",
       "11                Palermo      47      38   12     11    15         47   \n",
       "12                  Lazio      46      38   11     13    14         47   \n",
       "13                  Siena      44      38    9     17    12         40   \n",
       "14               Cagliari      42      38   11      9    18         40   \n",
       "15                Reggina      40      38    9     13    16         37   \n",
       "16                 Torino      40      38    8     16    14         36   \n",
       "17                Catania      37      38    8     13    17         33   \n",
       "18                 Empoli      36      38    9      9    20         29   \n",
       "19                  Parma      34      38    7     13    18         42   \n",
       "20                Livorno      30      38    6     12    20         35   \n",
       "\n",
       "    Goals Against  Goal Difference  \n",
       "1              26               43  \n",
       "2              37               35  \n",
       "3              37               35  \n",
       "4              39               16  \n",
       "5              38               28  \n",
       "6              46               10  \n",
       "7              53               -5  \n",
       "8              53               -3  \n",
       "9              52               -8  \n",
       "10             56               -4  \n",
       "11             57              -10  \n",
       "12             51               -4  \n",
       "13             45               -5  \n",
       "14             56              -16  \n",
       "15             56              -19  \n",
       "16             49              -13  \n",
       "17             45              -12  \n",
       "18             52              -23  \n",
       "19             62              -20  \n",
       "20             60              -25  "
      ]
     },
     "metadata": {},
     "output_type": "display_data"
    }
   ],
   "source": [
    "ita1_table = create_and_mount_table(italian_league_0708)\n",
    "display(ita1_table)"
   ]
  },
  {
   "cell_type": "code",
   "execution_count": null,
   "metadata": {},
   "outputs": [],
   "source": []
  },
  {
   "cell_type": "markdown",
   "metadata": {
    "collapsed": false,
    "pycharm": {
     "name": "#%% md\n"
    }
   },
   "source": [
    "## Questão 4\n",
    "- Utilizando os jogos da liga escolhida, use regressão de Poisson para criar um modelo de previsão de resultados, como visto nos slides em sala e no Soccermatics.\n",
    "-- https://soccermatics.readthedocs.io/en/latest/gallery/lesson5/plot_SimulateMatches.html\n",
    "- Dê print no sumário do ajuste\n",
    "- Simule a partida entre o 1º e o 4º colocado, onde o 1º joga em casa. Primeiro, apresente a quantidade esperada de gols de cada time. Em seguida, apresente um histograma com a probabilidade de diferentes placares entre os times."
   ]
  },
  {
   "cell_type": "code",
   "execution_count": null,
   "metadata": {
    "collapsed": false,
    "pycharm": {
     "name": "#%%\n"
    }
   },
   "outputs": [],
   "source": []
  },
  {
   "cell_type": "markdown",
   "metadata": {
    "collapsed": false,
    "pycharm": {
     "name": "#%% md\n"
    }
   },
   "source": [
    "## Questão 5\n",
    "- Utilize o modelo treinado para simular os placares esperados de todos os jogos da temporada.\n",
    "- Construa uma tabela de classificação em cima dos resultados esperados. Considere que jogos com uma diferença esperada de gols < 0.5 é um empate.\n",
    "- Compare a tabela real com a simulada. Onde estão as principais diferenças entre elas? E similaridades? O que isso pode indicar em termos de o que modelo subestima e superestima sobre a qualidade dos times?"
   ]
  },
  {
   "cell_type": "code",
   "execution_count": null,
   "metadata": {
    "collapsed": false,
    "pycharm": {
     "name": "#%%\n"
    }
   },
   "outputs": [],
   "source": []
  }
 ],
 "metadata": {
  "kernelspec": {
   "display_name": "Python 3",
   "language": "python",
   "name": "python3"
  },
  "language_info": {
   "codemirror_mode": {
    "name": "ipython",
    "version": 3
   },
   "file_extension": ".py",
   "mimetype": "text/x-python",
   "name": "python",
   "nbconvert_exporter": "python",
   "pygments_lexer": "ipython3",
   "version": "3.10.6"
  }
 },
 "nbformat": 4,
 "nbformat_minor": 0
}
