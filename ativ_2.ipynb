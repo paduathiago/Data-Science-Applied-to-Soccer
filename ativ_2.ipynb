{
 "cells": [
  {
   "cell_type": "markdown",
   "metadata": {
    "collapsed": false
   },
   "source": [
    "# [CDAF] Atividade 2"
   ]
  },
  {
   "attachments": {},
   "cell_type": "markdown",
   "metadata": {
    "collapsed": false
   },
   "source": [
    "## Nome: Thiago Pádua de Carvalho\n",
    "\n",
    "## Matrícula: 2020007066"
   ]
  },
  {
   "cell_type": "markdown",
   "metadata": {
    "collapsed": false
   },
   "source": [
    "## Introdução\n",
    "Nesta atividade, vamos revisar os conceitos aprendidos em sala de aula sobre estatísticas agregadas. Para esta atividade, usaremos dados do Brasileirão 2022 do FBRef."
   ]
  },
  {
   "cell_type": "code",
   "execution_count": 1,
   "metadata": {},
   "outputs": [],
   "source": [
    "import pandas as pd\n",
    "import matplotlib.pyplot as plt\n",
    "import numpy as np"
   ]
  },
  {
   "cell_type": "markdown",
   "metadata": {
    "collapsed": false
   },
   "source": [
    "## Questão 1\n",
    "- Baixe o dataset de resultados em https://fbref.com/en/comps/24/2022/schedule/2022-Serie-A-Scores-and-Fixtures\n",
    "- Crie uma média móvel de 5 jogos, para cada equipe, de cada uma das seguintes estatísticas: xG pró, xG contra, e dif. xG.\n",
    "- Escolha 4 times para visualizar a série temporal das estatísticas acima. Uma visualização para cada uma das estatísticas, onde a média geral do campeonato é apresentada com uma linha pontilhada em conjunto com a média móvel dos times escolhidos.\n",
    "- Interprete os resultados. O que isso pode indicar sobre a qualidade ofensiva e defensiva dos times escolhidos?"
   ]
  },
  {
   "cell_type": "code",
   "execution_count": 32,
   "metadata": {
    "collapsed": false
   },
   "outputs": [
    {
     "data": {
      "text/html": [
       "<div>\n",
       "<style scoped>\n",
       "    .dataframe tbody tr th:only-of-type {\n",
       "        vertical-align: middle;\n",
       "    }\n",
       "\n",
       "    .dataframe tbody tr th {\n",
       "        vertical-align: top;\n",
       "    }\n",
       "\n",
       "    .dataframe thead th {\n",
       "        text-align: right;\n",
       "    }\n",
       "</style>\n",
       "<table border=\"1\" class=\"dataframe\">\n",
       "  <thead>\n",
       "    <tr style=\"text-align: right;\">\n",
       "      <th></th>\n",
       "      <th>Wk</th>\n",
       "      <th>Date</th>\n",
       "      <th>Home</th>\n",
       "      <th>xG</th>\n",
       "      <th>Score</th>\n",
       "      <th>xG.1</th>\n",
       "      <th>Away</th>\n",
       "    </tr>\n",
       "  </thead>\n",
       "  <tbody>\n",
       "    <tr>\n",
       "      <th>0</th>\n",
       "      <td>1.0</td>\n",
       "      <td>2022-04-09</td>\n",
       "      <td>Fluminense</td>\n",
       "      <td>1.6</td>\n",
       "      <td>0–0</td>\n",
       "      <td>0.1</td>\n",
       "      <td>Santos</td>\n",
       "    </tr>\n",
       "    <tr>\n",
       "      <th>1</th>\n",
       "      <td>1.0</td>\n",
       "      <td>2022-04-09</td>\n",
       "      <td>Atl Goianiense</td>\n",
       "      <td>1.4</td>\n",
       "      <td>1–1</td>\n",
       "      <td>1.2</td>\n",
       "      <td>Flamengo</td>\n",
       "    </tr>\n",
       "    <tr>\n",
       "      <th>2</th>\n",
       "      <td>1.0</td>\n",
       "      <td>2022-04-10</td>\n",
       "      <td>Coritiba</td>\n",
       "      <td>1.7</td>\n",
       "      <td>3–0</td>\n",
       "      <td>0.4</td>\n",
       "      <td>Goiás</td>\n",
       "    </tr>\n",
       "    <tr>\n",
       "      <th>3</th>\n",
       "      <td>1.0</td>\n",
       "      <td>2022-04-10</td>\n",
       "      <td>Atlético Mineiro</td>\n",
       "      <td>1.9</td>\n",
       "      <td>2–0</td>\n",
       "      <td>0.6</td>\n",
       "      <td>Internacional</td>\n",
       "    </tr>\n",
       "    <tr>\n",
       "      <th>4</th>\n",
       "      <td>1.0</td>\n",
       "      <td>2022-04-10</td>\n",
       "      <td>Botafogo (RJ)</td>\n",
       "      <td>1.5</td>\n",
       "      <td>1–3</td>\n",
       "      <td>2.1</td>\n",
       "      <td>Corinthians</td>\n",
       "    </tr>\n",
       "    <tr>\n",
       "      <th>...</th>\n",
       "      <td>...</td>\n",
       "      <td>...</td>\n",
       "      <td>...</td>\n",
       "      <td>...</td>\n",
       "      <td>...</td>\n",
       "      <td>...</td>\n",
       "      <td>...</td>\n",
       "    </tr>\n",
       "    <tr>\n",
       "      <th>417</th>\n",
       "      <td>38.0</td>\n",
       "      <td>2022-11-13</td>\n",
       "      <td>Bragantino</td>\n",
       "      <td>0.9</td>\n",
       "      <td>0–1</td>\n",
       "      <td>0.6</td>\n",
       "      <td>Fluminense</td>\n",
       "    </tr>\n",
       "    <tr>\n",
       "      <th>418</th>\n",
       "      <td>38.0</td>\n",
       "      <td>2022-11-13</td>\n",
       "      <td>América (MG)</td>\n",
       "      <td>2.1</td>\n",
       "      <td>1–1</td>\n",
       "      <td>0.5</td>\n",
       "      <td>Atl Goianiense</td>\n",
       "    </tr>\n",
       "    <tr>\n",
       "      <th>419</th>\n",
       "      <td>38.0</td>\n",
       "      <td>2022-11-13</td>\n",
       "      <td>Goiás</td>\n",
       "      <td>0.2</td>\n",
       "      <td>0–4</td>\n",
       "      <td>1.7</td>\n",
       "      <td>São Paulo</td>\n",
       "    </tr>\n",
       "    <tr>\n",
       "      <th>420</th>\n",
       "      <td>38.0</td>\n",
       "      <td>2022-11-13</td>\n",
       "      <td>Internacional</td>\n",
       "      <td>1.4</td>\n",
       "      <td>3–0</td>\n",
       "      <td>1.3</td>\n",
       "      <td>Palmeiras</td>\n",
       "    </tr>\n",
       "    <tr>\n",
       "      <th>421</th>\n",
       "      <td>38.0</td>\n",
       "      <td>2022-11-13</td>\n",
       "      <td>Atl Paranaense</td>\n",
       "      <td>2.5</td>\n",
       "      <td>3–0</td>\n",
       "      <td>0.9</td>\n",
       "      <td>Botafogo (RJ)</td>\n",
       "    </tr>\n",
       "  </tbody>\n",
       "</table>\n",
       "<p>380 rows × 7 columns</p>\n",
       "</div>"
      ],
      "text/plain": [
       "       Wk        Date              Home   xG Score  xG.1            Away\n",
       "0     1.0  2022-04-09        Fluminense  1.6   0–0   0.1          Santos\n",
       "1     1.0  2022-04-09    Atl Goianiense  1.4   1–1   1.2        Flamengo\n",
       "2     1.0  2022-04-10          Coritiba  1.7   3–0   0.4           Goiás\n",
       "3     1.0  2022-04-10  Atlético Mineiro  1.9   2–0   0.6   Internacional\n",
       "4     1.0  2022-04-10     Botafogo (RJ)  1.5   1–3   2.1     Corinthians\n",
       "..    ...         ...               ...  ...   ...   ...             ...\n",
       "417  38.0  2022-11-13        Bragantino  0.9   0–1   0.6      Fluminense\n",
       "418  38.0  2022-11-13      América (MG)  2.1   1–1   0.5  Atl Goianiense\n",
       "419  38.0  2022-11-13             Goiás  0.2   0–4   1.7       São Paulo\n",
       "420  38.0  2022-11-13     Internacional  1.4   3–0   1.3       Palmeiras\n",
       "421  38.0  2022-11-13    Atl Paranaense  2.5   3–0   0.9   Botafogo (RJ)\n",
       "\n",
       "[380 rows x 7 columns]"
      ]
     },
     "metadata": {},
     "output_type": "display_data"
    }
   ],
   "source": [
    "BRA1 = pd.read_csv('data/brazilian_league_20222.csv', sep=',')\n",
    "BRA1.drop(columns=['Match Report', 'Notes', 'Attendance', 'Venue', 'Time', 'Referee', 'Day'], inplace=True)\n",
    "BRA1 = BRA1.dropna()\n",
    "display(BRA1)"
   ]
  },
  {
   "cell_type": "code",
   "execution_count": null,
   "metadata": {},
   "outputs": [],
   "source": [
    "def split_score(score):\n",
    "    \"\"\"\n",
    "    splits match's score in format 'x-x' into two integer numbers.\n",
    "    \n",
    "    Args:\n",
    "    score (str): Score in format 'x-x', where x is an integer number.\n",
    "    \n",
    "    Returns:\n",
    "    Two integers: home score and away score\n",
    "    \"\"\"\n",
    "    split_score = score.split(\"-\")\n",
    "    HS = int(split_score[0])\n",
    "    AS = int(split_score[1])\n",
    "    return HS, AS"
   ]
  },
  {
   "cell_type": "code",
   "execution_count": null,
   "metadata": {},
   "outputs": [],
   "source": [
    "def assign_xg(match, home=True):\n",
    "    if home:\n",
    "        xg_pro = match['xG']\n",
    "        xg_con = match['xG.1']\n",
    "    else:\n",
    "        xg_pro = match['xG.1']\n",
    "        xg_con = match['xG']\n",
    "    return xg_pro, xg_con, xg_pro - xg_con"
   ]
  },
  {
   "cell_type": "code",
   "execution_count": 33,
   "metadata": {},
   "outputs": [
    {
     "data": {
      "text/plain": [
       "['Fluminense',\n",
       " 'Atl Goianiense',\n",
       " 'Coritiba',\n",
       " 'Atlético Mineiro',\n",
       " 'Botafogo (RJ)',\n",
       " 'Fortaleza',\n",
       " 'Avaí',\n",
       " 'São Paulo',\n",
       " 'Palmeiras',\n",
       " 'Juventude',\n",
       " 'Goiás',\n",
       " 'América (MG)',\n",
       " 'Corinthians',\n",
       " 'Santos',\n",
       " 'Flamengo',\n",
       " 'Internacional',\n",
       " 'Atl Paranaense',\n",
       " 'Bragantino',\n",
       " 'Ceará',\n",
       " 'Cuiabá']"
      ]
     },
     "execution_count": 33,
     "metadata": {},
     "output_type": "execute_result"
    }
   ],
   "source": [
    "teams = list(BRA1['Home'].unique())\n",
    "teams_dataframe = {}\n",
    "\n",
    "for team in teams:\n",
    "    team_df = pd.DataFrame(columns=['xg_pro', 'xg_con', 'xg_diff', 'Game'])\n",
    "    matches = BRA1.loc[(BRA1['Home'] == team) or (BRA1['Away'] == team)]\n",
    "    game = 0\n",
    "    for i, match in matches.iterrows():\n",
    "        game += 1\n",
    "        if match['Home'] == team:\n",
    "            xg_pro, xg_con, xg_diff = assign_xg(match)\n",
    "        else:\n",
    "            xg_pro, xg_con, xg_diff = assign_xg(match, home=False)\n",
    "        \n",
    "        team_df.at[i, \"xg_pro\"] = xg_pro\n",
    "        team_df.at[i, \"xg_con\"] = xg_con\n",
    "        team_df.at[i, \"xg_diff\"] = xg_diff\n",
    "        team_df.at[i, \"Game\"] = game\n",
    "\n",
    "    team_df['XG_RA'] = team_df['xg_pro'].rolling(window=5, win_type='triang').mean()\n",
    "    team_df['XG_con_RA'] = team_df['xg_con'].rolling(window=5, win_type='triang').mean()\n",
    "    team_df['XG_RA'] = team_df['xg_diff'].rolling(window=5, win_type='triang').mean()\n",
    "    team_df['XG_RA'] = team_df['xg_pro'].rolling(window=5, win_type='triang').mean()\n",
    "\n",
    "    teams_dataframe[team] = team_df\n",
    "        "
   ]
  },
  {
   "attachments": {},
   "cell_type": "markdown",
   "metadata": {},
   "source": [
    "https://soccermatics.readthedocs.io/en/latest/gallery/lesson5/plot_PointsMovingAverage.html#points-moving-average"
   ]
  },
  {
   "cell_type": "markdown",
   "metadata": {
    "collapsed": false
   },
   "source": [
    "## Questão 2\n",
    "- Agora repita a questão 1, plotando as séries temporais dos mesmos times, mas para uma janela móvel de 10 jogos.\n",
    "- Quais as diferenças entre as séries temporais de 5 e 10 jogos? Em quais situações pode ser vantajoso escolher uma janela à outra?"
   ]
  },
  {
   "cell_type": "code",
   "execution_count": null,
   "metadata": {
    "collapsed": false
   },
   "outputs": [],
   "source": []
  },
  {
   "cell_type": "markdown",
   "metadata": {
    "collapsed": false
   },
   "source": [
    "## Questão 3\n",
    "- Vá para o link\n",
    "-- https://fbref.com/en/comps/24/2022/stats/2022-Serie-A-Stats\n",
    "- Nesta seção de estatísticas, é possível navegar por estatísticas específicas para diferentes aspectos do jogo (finalização, passe, defesa, etc.). Para todos exercícios à partir deste, você terá que selecionar aquelas que julgar mais relevantes para responder as questões.\n",
    "- Monte um radar plot com 6 atributos relevantes para atacantes e compare 3 jogadores de sua escolha. Justifique a escolha de cada um dos atributos, a escolha da escala dos radares e o tipo de normalização. Interprete os resultados dos radares em termos das qualidades e limitações dos jogadores.\n",
    "- Ref Soccermatics:\n",
    "-- https://soccermatics.readthedocs.io/en/latest/lesson3/ScoutingPlayers.html\n",
    "-- https://soccermatics.readthedocs.io/en/latest/gallery/lesson3/plot_RadarPlot.html"
   ]
  },
  {
   "cell_type": "code",
   "execution_count": null,
   "metadata": {
    "collapsed": false
   },
   "outputs": [],
   "source": []
  },
  {
   "cell_type": "markdown",
   "metadata": {
    "collapsed": false
   },
   "source": [
    "## Questão 4\n",
    "- Faça o mesmo que na questão 3, mas para meio campistas."
   ]
  },
  {
   "cell_type": "code",
   "execution_count": null,
   "metadata": {
    "collapsed": false
   },
   "outputs": [],
   "source": []
  },
  {
   "cell_type": "markdown",
   "metadata": {
    "collapsed": false
   },
   "source": [
    "## Questão 5\n",
    "- Faça o mesmo que na questão 3, mas para zagueiros."
   ]
  },
  {
   "cell_type": "code",
   "execution_count": null,
   "metadata": {
    "collapsed": false
   },
   "outputs": [],
   "source": []
  },
  {
   "cell_type": "markdown",
   "metadata": {
    "collapsed": false
   },
   "source": [
    "## Questão 6\n",
    "- Discuta as diferenças entre os radares das questões 3, 4 e 5. Quais são as principais diferenças entre os atributos relevantes para cada posição? Quais são as principais semelhanças? A impressão subjetiva que você tinha dos jogadores se comprovou pelos radares? Se não, por quê? Quais posições são mais difíceis de serem avaliadas por estatísticas?"
   ]
  }
 ],
 "metadata": {
  "kernelspec": {
   "display_name": "Python 3",
   "language": "python",
   "name": "python3"
  },
  "language_info": {
   "codemirror_mode": {
    "name": "ipython",
    "version": 3
   },
   "file_extension": ".py",
   "mimetype": "text/x-python",
   "name": "python",
   "nbconvert_exporter": "python",
   "pygments_lexer": "ipython3",
   "version": "3.10.6"
  }
 },
 "nbformat": 4,
 "nbformat_minor": 0
}
